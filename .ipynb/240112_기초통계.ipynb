{
  "cells": [
    {
      "cell_type": "markdown",
      "metadata": {
        "id": "view-in-github",
        "colab_type": "text"
      },
      "source": [
        "<a href=\"https://colab.research.google.com/github/suhyeon0325/multicamp34/blob/main/%E1%84%80%E1%85%B5%E1%84%8E%E1%85%A9%E1%84%90%E1%85%A9%E1%86%BC%E1%84%80%E1%85%A8_240112.ipynb\" target=\"_parent\"><img src=\"https://colab.research.google.com/assets/colab-badge.svg\" alt=\"Open In Colab\"/></a>"
      ]
    },
    {
      "cell_type": "markdown",
      "id": "d8b1e109-9e6e-47b6-bfac-8d992bcb67fb",
      "metadata": {
        "id": "d8b1e109-9e6e-47b6-bfac-8d992bcb67fb"
      },
      "source": [
        "## 회귀분석"
      ]
    },
    {
      "cell_type": "code",
      "execution_count": null,
      "id": "3c2de987-1d8a-4aea-841b-d914bab80273",
      "metadata": {
        "id": "3c2de987-1d8a-4aea-841b-d914bab80273",
        "outputId": "2c5ceb45-847c-439c-e580-beca17a3416d"
      },
      "outputs": [
        {
          "name": "stdout",
          "output_type": "stream",
          "text": [
            "Collecting statsmodels\n",
            "  Using cached statsmodels-0.14.1-cp310-cp310-win_amd64.whl.metadata (9.8 kB)\n",
            "Requirement already satisfied: numpy<2,>=1.18 in c:\\users\\j2hoo\\onedrive\\desktop\\projectds\\venv\\lib\\site-packages (from statsmodels) (1.26.2)\n",
            "Requirement already satisfied: scipy!=1.9.2,>=1.4 in c:\\users\\j2hoo\\onedrive\\desktop\\projectds\\venv\\lib\\site-packages (from statsmodels) (1.11.4)\n",
            "Requirement already satisfied: pandas!=2.1.0,>=1.0 in c:\\users\\j2hoo\\onedrive\\desktop\\projectds\\venv\\lib\\site-packages (from statsmodels) (2.1.4)\n",
            "Collecting patsy>=0.5.4 (from statsmodels)\n",
            "  Downloading patsy-0.5.6-py2.py3-none-any.whl.metadata (3.5 kB)\n",
            "Requirement already satisfied: packaging>=21.3 in c:\\users\\j2hoo\\onedrive\\desktop\\projectds\\venv\\lib\\site-packages (from statsmodels) (23.2)\n",
            "Requirement already satisfied: python-dateutil>=2.8.2 in c:\\users\\j2hoo\\onedrive\\desktop\\projectds\\venv\\lib\\site-packages (from pandas!=2.1.0,>=1.0->statsmodels) (2.8.2)\n",
            "Requirement already satisfied: pytz>=2020.1 in c:\\users\\j2hoo\\onedrive\\desktop\\projectds\\venv\\lib\\site-packages (from pandas!=2.1.0,>=1.0->statsmodels) (2023.3.post1)\n",
            "Requirement already satisfied: tzdata>=2022.1 in c:\\users\\j2hoo\\onedrive\\desktop\\projectds\\venv\\lib\\site-packages (from pandas!=2.1.0,>=1.0->statsmodels) (2023.4)\n",
            "Requirement already satisfied: six in c:\\users\\j2hoo\\onedrive\\desktop\\projectds\\venv\\lib\\site-packages (from patsy>=0.5.4->statsmodels) (1.16.0)\n",
            "Using cached statsmodels-0.14.1-cp310-cp310-win_amd64.whl (9.8 MB)\n",
            "Downloading patsy-0.5.6-py2.py3-none-any.whl (233 kB)\n",
            "   ---------------------------------------- 0.0/233.9 kB ? eta -:--:--\n",
            "   ---------------------------------------- 233.9/233.9 kB 7.2 MB/s eta 0:00:00\n",
            "Installing collected packages: patsy, statsmodels\n",
            "Successfully installed patsy-0.5.6 statsmodels-0.14.1\n"
          ]
        }
      ],
      "source": [
        "!pip install statsmodels"
      ]
    },
    {
      "cell_type": "code",
      "execution_count": null,
      "id": "6c3b33d1-a9fa-4321-abd4-31b7f95e2b0a",
      "metadata": {
        "id": "6c3b33d1-a9fa-4321-abd4-31b7f95e2b0a",
        "outputId": "ec45cb47-1c56-4066-f46f-6c139249af3d"
      },
      "outputs": [
        {
          "data": {
            "text/plain": [
              "'0.14.1'"
            ]
          },
          "execution_count": 4,
          "metadata": {},
          "output_type": "execute_result"
        }
      ],
      "source": [
        "import numpy as np\n",
        "import matplotlib.pyplot as plt\n",
        "import statsmodels\n",
        "import statsmodels.formula.api as smf\n",
        "\n",
        "statsmodels.__version__"
      ]
    },
    {
      "cell_type": "code",
      "execution_count": null,
      "id": "e3956e60-e335-44c2-bcd6-1884172d3f48",
      "metadata": {
        "id": "e3956e60-e335-44c2-bcd6-1884172d3f48",
        "outputId": "44f10405-3012-4700-ccc5-a8cf698f99be"
      },
      "outputs": [
        {
          "data": {
            "text/html": [
              "<div>\n",
              "<style scoped>\n",
              "    .dataframe tbody tr th:only-of-type {\n",
              "        vertical-align: middle;\n",
              "    }\n",
              "\n",
              "    .dataframe tbody tr th {\n",
              "        vertical-align: top;\n",
              "    }\n",
              "\n",
              "    .dataframe thead th {\n",
              "        text-align: right;\n",
              "    }\n",
              "</style>\n",
              "<table border=\"1\" class=\"dataframe\">\n",
              "  <thead>\n",
              "    <tr style=\"text-align: right;\">\n",
              "      <th></th>\n",
              "      <th>sepal_length</th>\n",
              "      <th>sepal_width</th>\n",
              "      <th>petal_length</th>\n",
              "      <th>petal_width</th>\n",
              "      <th>species</th>\n",
              "    </tr>\n",
              "  </thead>\n",
              "  <tbody>\n",
              "    <tr>\n",
              "      <th>0</th>\n",
              "      <td>5.1</td>\n",
              "      <td>3.5</td>\n",
              "      <td>1.4</td>\n",
              "      <td>0.2</td>\n",
              "      <td>setosa</td>\n",
              "    </tr>\n",
              "  </tbody>\n",
              "</table>\n",
              "</div>"
            ],
            "text/plain": [
              "   sepal_length  sepal_width  petal_length  petal_width species\n",
              "0           5.1          3.5           1.4          0.2  setosa"
            ]
          },
          "execution_count": 7,
          "metadata": {},
          "output_type": "execute_result"
        }
      ],
      "source": [
        "import seaborn as sns\n",
        "\n",
        "iris = sns.load_dataset('iris')\n",
        "iris.head(1)"
      ]
    },
    {
      "cell_type": "code",
      "execution_count": null,
      "id": "381dec4e-301b-4d79-866d-5d29c7772111",
      "metadata": {
        "id": "381dec4e-301b-4d79-866d-5d29c7772111",
        "outputId": "e6fbcc85-7e1c-455f-fd57-de393bf334b6"
      },
      "outputs": [
        {
          "data": {
            "text/html": [
              "<table class=\"simpletable\">\n",
              "<caption>OLS Regression Results</caption>\n",
              "<tr>\n",
              "  <th>Dep. Variable:</th>      <td>sepal_length</td>   <th>  R-squared:         </th> <td>   0.014</td>\n",
              "</tr>\n",
              "<tr>\n",
              "  <th>Model:</th>                   <td>OLS</td>       <th>  Adj. R-squared:    </th> <td>   0.007</td>\n",
              "</tr>\n",
              "<tr>\n",
              "  <th>Method:</th>             <td>Least Squares</td>  <th>  F-statistic:       </th> <td>   2.074</td>\n",
              "</tr>\n",
              "<tr>\n",
              "  <th>Date:</th>             <td>Fri, 12 Jan 2024</td> <th>  Prob (F-statistic):</th>  <td> 0.152</td> \n",
              "</tr>\n",
              "<tr>\n",
              "  <th>Time:</th>                 <td>11:20:10</td>     <th>  Log-Likelihood:    </th> <td> -183.00</td>\n",
              "</tr>\n",
              "<tr>\n",
              "  <th>No. Observations:</th>      <td>   150</td>      <th>  AIC:               </th> <td>   370.0</td>\n",
              "</tr>\n",
              "<tr>\n",
              "  <th>Df Residuals:</th>          <td>   148</td>      <th>  BIC:               </th> <td>   376.0</td>\n",
              "</tr>\n",
              "<tr>\n",
              "  <th>Df Model:</th>              <td>     1</td>      <th>                     </th>     <td> </td>   \n",
              "</tr>\n",
              "<tr>\n",
              "  <th>Covariance Type:</th>      <td>nonrobust</td>    <th>                     </th>     <td> </td>   \n",
              "</tr>\n",
              "</table>\n",
              "<table class=\"simpletable\">\n",
              "<tr>\n",
              "       <td></td>          <th>coef</th>     <th>std err</th>      <th>t</th>      <th>P>|t|</th>  <th>[0.025</th>    <th>0.975]</th>  \n",
              "</tr>\n",
              "<tr>\n",
              "  <th>Intercept</th>   <td>    6.5262</td> <td>    0.479</td> <td>   13.628</td> <td> 0.000</td> <td>    5.580</td> <td>    7.473</td>\n",
              "</tr>\n",
              "<tr>\n",
              "  <th>sepal_width</th> <td>   -0.2234</td> <td>    0.155</td> <td>   -1.440</td> <td> 0.152</td> <td>   -0.530</td> <td>    0.083</td>\n",
              "</tr>\n",
              "</table>\n",
              "<table class=\"simpletable\">\n",
              "<tr>\n",
              "  <th>Omnibus:</th>       <td> 4.389</td> <th>  Durbin-Watson:     </th> <td>   0.952</td>\n",
              "</tr>\n",
              "<tr>\n",
              "  <th>Prob(Omnibus):</th> <td> 0.111</td> <th>  Jarque-Bera (JB):  </th> <td>   4.237</td>\n",
              "</tr>\n",
              "<tr>\n",
              "  <th>Skew:</th>          <td> 0.360</td> <th>  Prob(JB):          </th> <td>   0.120</td>\n",
              "</tr>\n",
              "<tr>\n",
              "  <th>Kurtosis:</th>      <td> 2.600</td> <th>  Cond. No.          </th> <td>    24.2</td>\n",
              "</tr>\n",
              "</table><br/><br/>Notes:<br/>[1] Standard Errors assume that the covariance matrix of the errors is correctly specified."
            ],
            "text/latex": [
              "\\begin{center}\n",
              "\\begin{tabular}{lclc}\n",
              "\\toprule\n",
              "\\textbf{Dep. Variable:}    &  sepal\\_length   & \\textbf{  R-squared:         } &     0.014   \\\\\n",
              "\\textbf{Model:}            &       OLS        & \\textbf{  Adj. R-squared:    } &     0.007   \\\\\n",
              "\\textbf{Method:}           &  Least Squares   & \\textbf{  F-statistic:       } &     2.074   \\\\\n",
              "\\textbf{Date:}             & Fri, 12 Jan 2024 & \\textbf{  Prob (F-statistic):} &    0.152    \\\\\n",
              "\\textbf{Time:}             &     11:20:10     & \\textbf{  Log-Likelihood:    } &   -183.00   \\\\\n",
              "\\textbf{No. Observations:} &         150      & \\textbf{  AIC:               } &     370.0   \\\\\n",
              "\\textbf{Df Residuals:}     &         148      & \\textbf{  BIC:               } &     376.0   \\\\\n",
              "\\textbf{Df Model:}         &           1      & \\textbf{                     } &             \\\\\n",
              "\\textbf{Covariance Type:}  &    nonrobust     & \\textbf{                     } &             \\\\\n",
              "\\bottomrule\n",
              "\\end{tabular}\n",
              "\\begin{tabular}{lcccccc}\n",
              "                      & \\textbf{coef} & \\textbf{std err} & \\textbf{t} & \\textbf{P$> |$t$|$} & \\textbf{[0.025} & \\textbf{0.975]}  \\\\\n",
              "\\midrule\n",
              "\\textbf{Intercept}    &       6.5262  &        0.479     &    13.628  &         0.000        &        5.580    &        7.473     \\\\\n",
              "\\textbf{sepal\\_width} &      -0.2234  &        0.155     &    -1.440  &         0.152        &       -0.530    &        0.083     \\\\\n",
              "\\bottomrule\n",
              "\\end{tabular}\n",
              "\\begin{tabular}{lclc}\n",
              "\\textbf{Omnibus:}       &  4.389 & \\textbf{  Durbin-Watson:     } &    0.952  \\\\\n",
              "\\textbf{Prob(Omnibus):} &  0.111 & \\textbf{  Jarque-Bera (JB):  } &    4.237  \\\\\n",
              "\\textbf{Skew:}          &  0.360 & \\textbf{  Prob(JB):          } &    0.120  \\\\\n",
              "\\textbf{Kurtosis:}      &  2.600 & \\textbf{  Cond. No.          } &     24.2  \\\\\n",
              "\\bottomrule\n",
              "\\end{tabular}\n",
              "%\\caption{OLS Regression Results}\n",
              "\\end{center}\n",
              "\n",
              "Notes: \\newline\n",
              " [1] Standard Errors assume that the covariance matrix of the errors is correctly specified."
            ],
            "text/plain": [
              "<class 'statsmodels.iolib.summary.Summary'>\n",
              "\"\"\"\n",
              "                            OLS Regression Results                            \n",
              "==============================================================================\n",
              "Dep. Variable:           sepal_length   R-squared:                       0.014\n",
              "Model:                            OLS   Adj. R-squared:                  0.007\n",
              "Method:                 Least Squares   F-statistic:                     2.074\n",
              "Date:                Fri, 12 Jan 2024   Prob (F-statistic):              0.152\n",
              "Time:                        11:20:10   Log-Likelihood:                -183.00\n",
              "No. Observations:                 150   AIC:                             370.0\n",
              "Df Residuals:                     148   BIC:                             376.0\n",
              "Df Model:                           1                                         \n",
              "Covariance Type:            nonrobust                                         \n",
              "===============================================================================\n",
              "                  coef    std err          t      P>|t|      [0.025      0.975]\n",
              "-------------------------------------------------------------------------------\n",
              "Intercept       6.5262      0.479     13.628      0.000       5.580       7.473\n",
              "sepal_width    -0.2234      0.155     -1.440      0.152      -0.530       0.083\n",
              "==============================================================================\n",
              "Omnibus:                        4.389   Durbin-Watson:                   0.952\n",
              "Prob(Omnibus):                  0.111   Jarque-Bera (JB):                4.237\n",
              "Skew:                           0.360   Prob(JB):                        0.120\n",
              "Kurtosis:                       2.600   Cond. No.                         24.2\n",
              "==============================================================================\n",
              "\n",
              "Notes:\n",
              "[1] Standard Errors assume that the covariance matrix of the errors is correctly specified.\n",
              "\"\"\""
            ]
          },
          "execution_count": 11,
          "metadata": {},
          "output_type": "execute_result"
        }
      ],
      "source": [
        "model = smf.ols(formula = \"sepal_length ~ sepal_width\", data = iris).fit()\n",
        "model.summary()"
      ]
    },
    {
      "cell_type": "code",
      "execution_count": null,
      "id": "b0dfc1f9-ca4a-421b-aa37-f65003bffd3e",
      "metadata": {
        "id": "b0dfc1f9-ca4a-421b-aa37-f65003bffd3e",
        "outputId": "a3ffe55f-9faa-429b-96d8-41fbb8c494bf"
      },
      "outputs": [
        {
          "name": "stdout",
          "output_type": "stream",
          "text": [
            "6.526222550894483 -0.22336106112990017\n"
          ]
        }
      ],
      "source": [
        "intercept = model.params.Intercept # 절편 (상수항)\n",
        "slope = model.params.sepal_width # 기울기\n",
        "\n",
        "print(intercept, slope)"
      ]
    },
    {
      "cell_type": "code",
      "execution_count": null,
      "id": "840210cf-38f1-4e93-98c1-3f44e2cff690",
      "metadata": {
        "id": "840210cf-38f1-4e93-98c1-3f44e2cff690",
        "outputId": "fa9bc6ee-eabd-4f00-df96-150e5cd1882f"
      },
      "outputs": [
        {
          "data": {
            "image/png": "[encoded data removed]",
            "text/plain": [
              "<Figure size 1000x600 with 2 Axes>"
            ]
          },
          "metadata": {},
          "output_type": "display_data"
        }
      ],
      "source": [
        "# 현재 독립변수 sepal_width가 종속변수 sepal_length에 영향을 주지 못한다로 이해하면 될까요??\n",
        "\n",
        "fig, ax = plt.subplots(1, 2, figsize=(10, 6), sharey=True)\n",
        "x = np.linspace(0,5)\n",
        "\n",
        "sns.scatterplot(data = iris, x = 'sepal_width', y = 'sepal_length', ax = ax[0])\n",
        "fig.axes[0].set_title(\"The best-fitting regression line\")\n",
        "fig.axes[0].set_xlabel(\"sepal_width (cm)\")\n",
        "fig.axes[0].set_ylabel(\"sepal_length (cm)\")\n",
        "fig.axes[0].plot(x,slope*x+intercept)\n",
        "\n",
        "sns.scatterplot(data = iris, x = 'sepal_width', y = 'sepal_length', ax = ax[1])\n",
        "fig.axes[1].set_title(\"Not the best-fitting regression line!\")\n",
        "fig.axes[1].set_xlabel(\"sepal_width (cm)\")\n",
        "fig.axes[1].set_ylabel(\"sepal_length (cm)\")\n",
        "fig.axes[1].plot(x,-2*x+10)\n",
        "\n",
        "sns.despine()\n",
        "plt.show()"
      ]
    },
    {
      "cell_type": "code",
      "execution_count": null,
      "id": "b3eca60e-cdf0-40ed-aed7-18e17a9a70e5",
      "metadata": {
        "id": "b3eca60e-cdf0-40ed-aed7-18e17a9a70e5",
        "outputId": "80499dd9-b31d-40eb-c166-575b389b7927"
      },
      "outputs": [
        {
          "name": "stdout",
          "output_type": "stream",
          "text": [
            "Collecting pingouin\n",
            "  Using cached pingouin-0.5.3-py3-none-any.whl (198 kB)\n",
            "Requirement already satisfied: numpy>=1.19 in c:\\users\\j2hoo\\onedrive\\desktop\\projectds\\venv\\lib\\site-packages (from pingouin) (1.26.2)\n",
            "Requirement already satisfied: scipy>=1.7 in c:\\users\\j2hoo\\onedrive\\desktop\\projectds\\venv\\lib\\site-packages (from pingouin) (1.11.4)\n",
            "Requirement already satisfied: pandas>=1.0 in c:\\users\\j2hoo\\onedrive\\desktop\\projectds\\venv\\lib\\site-packages (from pingouin) (2.1.4)\n",
            "Requirement already satisfied: matplotlib>=3.0.2 in c:\\users\\j2hoo\\onedrive\\desktop\\projectds\\venv\\lib\\site-packages (from pingouin) (3.8.2)\n",
            "Requirement already satisfied: seaborn>=0.11 in c:\\users\\j2hoo\\onedrive\\desktop\\projectds\\venv\\lib\\site-packages (from pingouin) (0.13.1)\n",
            "Requirement already satisfied: statsmodels>=0.13 in c:\\users\\j2hoo\\onedrive\\desktop\\projectds\\venv\\lib\\site-packages (from pingouin) (0.14.1)\n",
            "Collecting scikit-learn (from pingouin)\n",
            "  Using cached scikit_learn-1.3.2-cp310-cp310-win_amd64.whl.metadata (11 kB)\n",
            "Collecting pandas-flavor>=0.2.0 (from pingouin)\n",
            "  Using cached pandas_flavor-0.6.0-py3-none-any.whl.metadata (6.3 kB)\n",
            "Collecting outdated (from pingouin)\n",
            "  Using cached outdated-0.2.2-py2.py3-none-any.whl (7.5 kB)\n",
            "Collecting tabulate (from pingouin)\n",
            "  Using cached tabulate-0.9.0-py3-none-any.whl (35 kB)\n",
            "Requirement already satisfied: contourpy>=1.0.1 in c:\\users\\j2hoo\\onedrive\\desktop\\projectds\\venv\\lib\\site-packages (from matplotlib>=3.0.2->pingouin) (1.2.0)\n",
            "Requirement already satisfied: cycler>=0.10 in c:\\users\\j2hoo\\onedrive\\desktop\\projectds\\venv\\lib\\site-packages (from matplotlib>=3.0.2->pingouin) (0.12.1)\n",
            "Requirement already satisfied: fonttools>=4.22.0 in c:\\users\\j2hoo\\onedrive\\desktop\\projectds\\venv\\lib\\site-packages (from matplotlib>=3.0.2->pingouin) (4.47.0)\n",
            "Requirement already satisfied: kiwisolver>=1.3.1 in c:\\users\\j2hoo\\onedrive\\desktop\\projectds\\venv\\lib\\site-packages (from matplotlib>=3.0.2->pingouin) (1.4.5)\n",
            "Requirement already satisfied: packaging>=20.0 in c:\\users\\j2hoo\\onedrive\\desktop\\projectds\\venv\\lib\\site-packages (from matplotlib>=3.0.2->pingouin) (23.2)\n",
            "Requirement already satisfied: pillow>=8 in c:\\users\\j2hoo\\onedrive\\desktop\\projectds\\venv\\lib\\site-packages (from matplotlib>=3.0.2->pingouin) (10.2.0)\n",
            "Requirement already satisfied: pyparsing>=2.3.1 in c:\\users\\j2hoo\\onedrive\\desktop\\projectds\\venv\\lib\\site-packages (from matplotlib>=3.0.2->pingouin) (3.1.1)\n",
            "Requirement already satisfied: python-dateutil>=2.7 in c:\\users\\j2hoo\\onedrive\\desktop\\projectds\\venv\\lib\\site-packages (from matplotlib>=3.0.2->pingouin) (2.8.2)\n",
            "Requirement already satisfied: pytz>=2020.1 in c:\\users\\j2hoo\\onedrive\\desktop\\projectds\\venv\\lib\\site-packages (from pandas>=1.0->pingouin) (2023.3.post1)\n",
            "Requirement already satisfied: tzdata>=2022.1 in c:\\users\\j2hoo\\onedrive\\desktop\\projectds\\venv\\lib\\site-packages (from pandas>=1.0->pingouin) (2023.4)\n",
            "Collecting xarray (from pandas-flavor>=0.2.0->pingouin)\n",
            "  Using cached xarray-2023.12.0-py3-none-any.whl.metadata (11 kB)\n",
            "Requirement already satisfied: patsy>=0.5.4 in c:\\users\\j2hoo\\onedrive\\desktop\\projectds\\venv\\lib\\site-packages (from statsmodels>=0.13->pingouin) (0.5.6)\n",
            "Requirement already satisfied: setuptools>=44 in c:\\users\\j2hoo\\onedrive\\desktop\\projectds\\venv\\lib\\site-packages (from outdated->pingouin) (69.0.2)\n",
            "Collecting littleutils (from outdated->pingouin)\n",
            "  Using cached littleutils-0.2.2-py3-none-any.whl\n",
            "Requirement already satisfied: requests in c:\\users\\j2hoo\\onedrive\\desktop\\projectds\\venv\\lib\\site-packages (from outdated->pingouin) (2.31.0)\n",
            "Collecting joblib>=1.1.1 (from scikit-learn->pingouin)\n",
            "  Using cached joblib-1.3.2-py3-none-any.whl.metadata (5.4 kB)\n",
            "Collecting threadpoolctl>=2.0.0 (from scikit-learn->pingouin)\n",
            "  Using cached threadpoolctl-3.2.0-py3-none-any.whl.metadata (10.0 kB)\n",
            "Requirement already satisfied: six in c:\\users\\j2hoo\\onedrive\\desktop\\projectds\\venv\\lib\\site-packages (from patsy>=0.5.4->statsmodels>=0.13->pingouin) (1.16.0)\n",
            "Requirement already satisfied: charset-normalizer<4,>=2 in c:\\users\\j2hoo\\onedrive\\desktop\\projectds\\venv\\lib\\site-packages (from requests->outdated->pingouin) (3.3.2)\n",
            "Requirement already satisfied: idna<4,>=2.5 in c:\\users\\j2hoo\\onedrive\\desktop\\projectds\\venv\\lib\\site-packages (from requests->outdated->pingouin) (3.6)\n",
            "Requirement already satisfied: urllib3<3,>=1.21.1 in c:\\users\\j2hoo\\onedrive\\desktop\\projectds\\venv\\lib\\site-packages (from requests->outdated->pingouin) (2.1.0)\n",
            "Requirement already satisfied: certifi>=2017.4.17 in c:\\users\\j2hoo\\onedrive\\desktop\\projectds\\venv\\lib\\site-packages (from requests->outdated->pingouin) (2023.11.17)\n",
            "Using cached pandas_flavor-0.6.0-py3-none-any.whl (7.2 kB)\n",
            "Using cached scikit_learn-1.3.2-cp310-cp310-win_amd64.whl (9.3 MB)\n",
            "Using cached joblib-1.3.2-py3-none-any.whl (302 kB)\n",
            "Using cached threadpoolctl-3.2.0-py3-none-any.whl (15 kB)\n",
            "Using cached xarray-2023.12.0-py3-none-any.whl (1.1 MB)\n",
            "Installing collected packages: littleutils, threadpoolctl, tabulate, joblib, scikit-learn, outdated, xarray, pandas-flavor, pingouin\n",
            "Successfully installed joblib-1.3.2 littleutils-0.2.2 outdated-0.2.2 pandas-flavor-0.6.0 pingouin-0.5.3 scikit-learn-1.3.2 tabulate-0.9.0 threadpoolctl-3.2.0 xarray-2023.12.0\n"
          ]
        }
      ],
      "source": [
        "!pip install pingouin"
      ]
    },
    {
      "cell_type": "code",
      "execution_count": null,
      "id": "d6ca3e05-d04c-472f-a148-62d29e0bdc3b",
      "metadata": {
        "id": "d6ca3e05-d04c-472f-a148-62d29e0bdc3b",
        "outputId": "9f539b89-11d0-4279-cab8-8a34423c49a1"
      },
      "outputs": [
        {
          "data": {
            "text/html": [
              "<div>\n",
              "<style scoped>\n",
              "    .dataframe tbody tr th:only-of-type {\n",
              "        vertical-align: middle;\n",
              "    }\n",
              "\n",
              "    .dataframe tbody tr th {\n",
              "        vertical-align: top;\n",
              "    }\n",
              "\n",
              "    .dataframe thead th {\n",
              "        text-align: right;\n",
              "    }\n",
              "</style>\n",
              "<table border=\"1\" class=\"dataframe\">\n",
              "  <thead>\n",
              "    <tr style=\"text-align: right;\">\n",
              "      <th></th>\n",
              "      <th>names</th>\n",
              "      <th>coef</th>\n",
              "      <th>se</th>\n",
              "      <th>T</th>\n",
              "      <th>pval</th>\n",
              "      <th>r2</th>\n",
              "      <th>adj_r2</th>\n",
              "      <th>CI[2.5%]</th>\n",
              "      <th>CI[97.5%]</th>\n",
              "    </tr>\n",
              "  </thead>\n",
              "  <tbody>\n",
              "    <tr>\n",
              "      <th>0</th>\n",
              "      <td>Intercept</td>\n",
              "      <td>6.53</td>\n",
              "      <td>0.48</td>\n",
              "      <td>13.63</td>\n",
              "      <td>0.00</td>\n",
              "      <td>0.01</td>\n",
              "      <td>0.01</td>\n",
              "      <td>5.58</td>\n",
              "      <td>7.47</td>\n",
              "    </tr>\n",
              "    <tr>\n",
              "      <th>1</th>\n",
              "      <td>sepal_width</td>\n",
              "      <td>-0.22</td>\n",
              "      <td>0.16</td>\n",
              "      <td>-1.44</td>\n",
              "      <td>0.15</td>\n",
              "      <td>0.01</td>\n",
              "      <td>0.01</td>\n",
              "      <td>-0.53</td>\n",
              "      <td>0.08</td>\n",
              "    </tr>\n",
              "  </tbody>\n",
              "</table>\n",
              "</div>"
            ],
            "text/plain": [
              "         names  coef    se      T  pval    r2  adj_r2  CI[2.5%]  CI[97.5%]\n",
              "0    Intercept  6.53  0.48  13.63  0.00  0.01    0.01      5.58       7.47\n",
              "1  sepal_width -0.22  0.16  -1.44  0.15  0.01    0.01     -0.53       0.08"
            ]
          },
          "execution_count": 18,
          "metadata": {},
          "output_type": "execute_result"
        }
      ],
      "source": [
        "import pingouin as pg\n",
        "\n",
        "mod1 = pg.linear_regression(iris['sepal_width'], iris['sepal_length'])\n",
        "mod1.round(2)"
      ]
    },
    {
      "cell_type": "code",
      "execution_count": null,
      "id": "6dc1dfb9-2260-4e6f-9949-faf67e348bfc",
      "metadata": {
        "id": "6dc1dfb9-2260-4e6f-9949-faf67e348bfc",
        "outputId": "aa464a0c-8b92-4eba-b44c-a1b12b213e3b"
      },
      "outputs": [
        {
          "data": {
            "text/html": [
              "<div>\n",
              "<style scoped>\n",
              "    .dataframe tbody tr th:only-of-type {\n",
              "        vertical-align: middle;\n",
              "    }\n",
              "\n",
              "    .dataframe tbody tr th {\n",
              "        vertical-align: top;\n",
              "    }\n",
              "\n",
              "    .dataframe thead th {\n",
              "        text-align: right;\n",
              "    }\n",
              "</style>\n",
              "<table border=\"1\" class=\"dataframe\">\n",
              "  <thead>\n",
              "    <tr style=\"text-align: right;\">\n",
              "      <th></th>\n",
              "      <th>names</th>\n",
              "      <th>coef</th>\n",
              "      <th>se</th>\n",
              "      <th>T</th>\n",
              "      <th>pval</th>\n",
              "      <th>r2</th>\n",
              "      <th>adj_r2</th>\n",
              "      <th>CI[2.5%]</th>\n",
              "      <th>CI[97.5%]</th>\n",
              "    </tr>\n",
              "  </thead>\n",
              "  <tbody>\n",
              "    <tr>\n",
              "      <th>0</th>\n",
              "      <td>Intercept</td>\n",
              "      <td>2.25</td>\n",
              "      <td>0.25</td>\n",
              "      <td>9.07</td>\n",
              "      <td>0.0</td>\n",
              "      <td>0.84</td>\n",
              "      <td>0.84</td>\n",
              "      <td>1.76</td>\n",
              "      <td>2.74</td>\n",
              "    </tr>\n",
              "    <tr>\n",
              "      <th>1</th>\n",
              "      <td>sepal_width</td>\n",
              "      <td>0.60</td>\n",
              "      <td>0.07</td>\n",
              "      <td>8.59</td>\n",
              "      <td>0.0</td>\n",
              "      <td>0.84</td>\n",
              "      <td>0.84</td>\n",
              "      <td>0.46</td>\n",
              "      <td>0.73</td>\n",
              "    </tr>\n",
              "    <tr>\n",
              "      <th>2</th>\n",
              "      <td>petal_length</td>\n",
              "      <td>0.47</td>\n",
              "      <td>0.02</td>\n",
              "      <td>27.57</td>\n",
              "      <td>0.0</td>\n",
              "      <td>0.84</td>\n",
              "      <td>0.84</td>\n",
              "      <td>0.44</td>\n",
              "      <td>0.51</td>\n",
              "    </tr>\n",
              "  </tbody>\n",
              "</table>\n",
              "</div>"
            ],
            "text/plain": [
              "          names  coef    se      T  pval    r2  adj_r2  CI[2.5%]  CI[97.5%]\n",
              "0     Intercept  2.25  0.25   9.07   0.0  0.84    0.84      1.76       2.74\n",
              "1   sepal_width  0.60  0.07   8.59   0.0  0.84    0.84      0.46       0.73\n",
              "2  petal_length  0.47  0.02  27.57   0.0  0.84    0.84      0.44       0.51"
            ]
          },
          "execution_count": 21,
          "metadata": {},
          "output_type": "execute_result"
        }
      ],
      "source": [
        "predictors = ['sepal_width', 'petal_length']\n",
        "outcome = 'sepal_length'\n",
        "\n",
        "mod2 = pg.linear_regression(iris[predictors], iris[outcome])\n",
        "mod2.round(2)"
      ]
    },
    {
      "cell_type": "code",
      "execution_count": null,
      "id": "1951d300-466e-496a-9008-cfc04701328b",
      "metadata": {
        "id": "1951d300-466e-496a-9008-cfc04701328b",
        "outputId": "cbdfa825-bf3e-4a03-dde8-2c3a2356b509"
      },
      "outputs": [
        {
          "name": "stderr",
          "output_type": "stream",
          "text": [
            "C:\\Users\\j2hoo\\OneDrive\\Desktop\\projectDS\\venv\\lib\\site-packages\\pingouin\\correlation.py:1111: FutureWarning: DataFrame.applymap has been deprecated. Use DataFrame.map instead.\n",
            "  mat_upper = mat_upper.applymap(replace_pval)\n"
          ]
        },
        {
          "data": {
            "text/html": [
              "<div>\n",
              "<style scoped>\n",
              "    .dataframe tbody tr th:only-of-type {\n",
              "        vertical-align: middle;\n",
              "    }\n",
              "\n",
              "    .dataframe tbody tr th {\n",
              "        vertical-align: top;\n",
              "    }\n",
              "\n",
              "    .dataframe thead th {\n",
              "        text-align: right;\n",
              "    }\n",
              "</style>\n",
              "<table border=\"1\" class=\"dataframe\">\n",
              "  <thead>\n",
              "    <tr style=\"text-align: right;\">\n",
              "      <th></th>\n",
              "      <th>sepal_length</th>\n",
              "      <th>sepal_width</th>\n",
              "      <th>petal_length</th>\n",
              "    </tr>\n",
              "  </thead>\n",
              "  <tbody>\n",
              "    <tr>\n",
              "      <th>sepal_length</th>\n",
              "      <td>-</td>\n",
              "      <td></td>\n",
              "      <td>***</td>\n",
              "    </tr>\n",
              "    <tr>\n",
              "      <th>sepal_width</th>\n",
              "      <td>-0.118</td>\n",
              "      <td>-</td>\n",
              "      <td>***</td>\n",
              "    </tr>\n",
              "    <tr>\n",
              "      <th>petal_length</th>\n",
              "      <td>0.872</td>\n",
              "      <td>-0.428</td>\n",
              "      <td>-</td>\n",
              "    </tr>\n",
              "  </tbody>\n",
              "</table>\n",
              "</div>"
            ],
            "text/plain": [
              "             sepal_length sepal_width petal_length\n",
              "sepal_length            -                      ***\n",
              "sepal_width        -0.118           -          ***\n",
              "petal_length        0.872      -0.428            -"
            ]
          },
          "execution_count": 22,
          "metadata": {},
          "output_type": "execute_result"
        }
      ],
      "source": [
        "iris.loc[:, ['sepal_length', 'sepal_width', 'petal_length']].rcorr()"
      ]
    },
    {
      "cell_type": "code",
      "execution_count": null,
      "id": "04acdd88-7328-4908-82b2-6d11f8a9dd93",
      "metadata": {
        "id": "04acdd88-7328-4908-82b2-6d11f8a9dd93",
        "outputId": "7209cabb-3701-44d0-c129-3adaa7a86880"
      },
      "outputs": [
        {
          "data": {
            "text/html": [
              "<div>\n",
              "<style scoped>\n",
              "    .dataframe tbody tr th:only-of-type {\n",
              "        vertical-align: middle;\n",
              "    }\n",
              "\n",
              "    .dataframe tbody tr th {\n",
              "        vertical-align: top;\n",
              "    }\n",
              "\n",
              "    .dataframe thead th {\n",
              "        text-align: right;\n",
              "    }\n",
              "</style>\n",
              "<table border=\"1\" class=\"dataframe\">\n",
              "  <thead>\n",
              "    <tr style=\"text-align: right;\">\n",
              "      <th></th>\n",
              "      <th>names</th>\n",
              "      <th>coef</th>\n",
              "      <th>se</th>\n",
              "      <th>T</th>\n",
              "      <th>pval</th>\n",
              "      <th>r2</th>\n",
              "      <th>adj_r2</th>\n",
              "      <th>CI[2.5%]</th>\n",
              "      <th>CI[97.5%]</th>\n",
              "    </tr>\n",
              "  </thead>\n",
              "  <tbody>\n",
              "    <tr>\n",
              "      <th>0</th>\n",
              "      <td>Intercept</td>\n",
              "      <td>4.31</td>\n",
              "      <td>0.08</td>\n",
              "      <td>54.94</td>\n",
              "      <td>0.0</td>\n",
              "      <td>0.76</td>\n",
              "      <td>0.76</td>\n",
              "      <td>4.15</td>\n",
              "      <td>4.46</td>\n",
              "    </tr>\n",
              "    <tr>\n",
              "      <th>1</th>\n",
              "      <td>petal_length</td>\n",
              "      <td>0.41</td>\n",
              "      <td>0.02</td>\n",
              "      <td>21.65</td>\n",
              "      <td>0.0</td>\n",
              "      <td>0.76</td>\n",
              "      <td>0.76</td>\n",
              "      <td>0.37</td>\n",
              "      <td>0.45</td>\n",
              "    </tr>\n",
              "  </tbody>\n",
              "</table>\n",
              "</div>"
            ],
            "text/plain": [
              "          names  coef    se      T  pval    r2  adj_r2  CI[2.5%]  CI[97.5%]\n",
              "0     Intercept  4.31  0.08  54.94   0.0  0.76    0.76      4.15       4.46\n",
              "1  petal_length  0.41  0.02  21.65   0.0  0.76    0.76      0.37       0.45"
            ]
          },
          "execution_count": 23,
          "metadata": {},
          "output_type": "execute_result"
        }
      ],
      "source": [
        "mod3 = pg.linear_regression(iris['petal_length'], iris['sepal_length'])\n",
        "mod3.round(2)"
      ]
    },
    {
      "cell_type": "code",
      "execution_count": null,
      "id": "b2812592-ebb3-4dda-8c3d-eefea923eaee",
      "metadata": {
        "id": "b2812592-ebb3-4dda-8c3d-eefea923eaee",
        "outputId": "d0d0cd18-bd24-442f-a3fe-dda506fd83e7"
      },
      "outputs": [
        {
          "data": {
            "text/html": [
              "<div>\n",
              "<style scoped>\n",
              "    .dataframe tbody tr th:only-of-type {\n",
              "        vertical-align: middle;\n",
              "    }\n",
              "\n",
              "    .dataframe tbody tr th {\n",
              "        vertical-align: top;\n",
              "    }\n",
              "\n",
              "    .dataframe thead th {\n",
              "        text-align: right;\n",
              "    }\n",
              "</style>\n",
              "<table border=\"1\" class=\"dataframe\">\n",
              "  <thead>\n",
              "    <tr style=\"text-align: right;\">\n",
              "      <th></th>\n",
              "      <th>names</th>\n",
              "      <th>coef</th>\n",
              "      <th>se</th>\n",
              "      <th>T</th>\n",
              "      <th>pval</th>\n",
              "      <th>r2</th>\n",
              "      <th>adj_r2</th>\n",
              "      <th>CI[2.5%]</th>\n",
              "      <th>CI[97.5%]</th>\n",
              "    </tr>\n",
              "  </thead>\n",
              "  <tbody>\n",
              "    <tr>\n",
              "      <th>0</th>\n",
              "      <td>Intercept</td>\n",
              "      <td>6.53</td>\n",
              "      <td>0.48</td>\n",
              "      <td>13.63</td>\n",
              "      <td>0.00</td>\n",
              "      <td>0.01</td>\n",
              "      <td>0.01</td>\n",
              "      <td>5.58</td>\n",
              "      <td>7.47</td>\n",
              "    </tr>\n",
              "    <tr>\n",
              "      <th>1</th>\n",
              "      <td>sepal_width</td>\n",
              "      <td>-0.22</td>\n",
              "      <td>0.16</td>\n",
              "      <td>-1.44</td>\n",
              "      <td>0.15</td>\n",
              "      <td>0.01</td>\n",
              "      <td>0.01</td>\n",
              "      <td>-0.53</td>\n",
              "      <td>0.08</td>\n",
              "    </tr>\n",
              "  </tbody>\n",
              "</table>\n",
              "</div>"
            ],
            "text/plain": [
              "         names  coef    se      T  pval    r2  adj_r2  CI[2.5%]  CI[97.5%]\n",
              "0    Intercept  6.53  0.48  13.63  0.00  0.01    0.01      5.58       7.47\n",
              "1  sepal_width -0.22  0.16  -1.44  0.15  0.01    0.01     -0.53       0.08"
            ]
          },
          "execution_count": 24,
          "metadata": {},
          "output_type": "execute_result"
        }
      ],
      "source": [
        "mod4 = pg.linear_regression(iris['sepal_width'], iris['sepal_length'])\n",
        "mod4.round(2)"
      ]
    }
  ],
  "metadata": {
    "kernelspec": {
      "display_name": "Python 3 (ipykernel)",
      "language": "python",
      "name": "python3"
    },
    "language_info": {
      "codemirror_mode": {
        "name": "ipython",
        "version": 3
      },
      "file_extension": ".py",
      "mimetype": "text/x-python",
      "name": "python",
      "nbconvert_exporter": "python",
      "pygments_lexer": "ipython3",
      "version": "3.10.11"
    },
    "colab": {
      "provenance": [],
      "include_colab_link": true
    }
  },
  "nbformat": 4,
  "nbformat_minor": 5
}
