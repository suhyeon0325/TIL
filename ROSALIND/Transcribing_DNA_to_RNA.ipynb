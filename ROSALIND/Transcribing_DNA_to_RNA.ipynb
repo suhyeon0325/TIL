{
  "nbformat": 4,
  "nbformat_minor": 0,
  "metadata": {
    "colab": {
      "provenance": [],
      "authorship_tag": "ABX9TyNgzOlrPCNEFWwBK1f+s2wU",
      "include_colab_link": true
    },
    "kernelspec": {
      "name": "python3",
      "display_name": "Python 3"
    },
    "language_info": {
      "name": "python"
    }
  },
  "cells": [
    {
      "cell_type": "markdown",
      "metadata": {
        "id": "view-in-github",
        "colab_type": "text"
      },
      "source": [
        "<a href=\"https://colab.research.google.com/github/suhyeon0325/TIL/blob/main/bioinformatics/%5BROSALIND%5D_Transcribing_DNA_to_RNA.ipynb\" target=\"_parent\"><img src=\"https://colab.research.google.com/assets/colab-badge.svg\" alt=\"Open In Colab\"/></a>"
      ]
    },
    {
      "cell_type": "code",
      "execution_count": 1,
      "metadata": {
        "id": "CVRIEYrNEZ8S"
      },
      "outputs": [],
      "source": [
        "def transcribe_dna_to_rna(dna):\n",
        "\t\trna = dna.replace('T', 'U')\n",
        "\t\treturn rna"
      ]
    },
    {
      "cell_type": "code",
      "source": [
        "dna = \"GATGGAACTTGACTACGTAAATT\"\n",
        "print(transcribe_dna_to_rna(dna))"
      ],
      "metadata": {
        "colab": {
          "base_uri": "https://localhost:8080/"
        },
        "id": "SqlOI_pIEi_L",
        "outputId": "8bb81d02-12ca-4362-f0d9-abf290a87c60"
      },
      "execution_count": 2,
      "outputs": [
        {
          "output_type": "stream",
          "name": "stdout",
          "text": [
            "GAUGGAACUUGACUACGUAAAUU\n"
          ]
        }
      ]
    },
    {
      "cell_type": "code",
      "source": [
        "with open('/content/rosalind_rna.txt', 'r') as file:\n",
        "  t = file.read()"
      ],
      "metadata": {
        "id": "5Zftg0J1EkaO"
      },
      "execution_count": 3,
      "outputs": []
    },
    {
      "cell_type": "code",
      "source": [
        "t"
      ],
      "metadata": {
        "colab": {
          "base_uri": "https://localhost:8080/",
          "height": 183
        },
        "id": "nX5mVWoRE6ar",
        "outputId": "a5da0e86-0374-4a18-c2e3-4f140e710231"
      },
      "execution_count": 4,
      "outputs": [
        {
          "output_type": "execute_result",
          "data": {
            "text/plain": [
              "'GACACACCTAGCTTCATACACTCCTGCTAGGAGTGCCTCAGACATATGTCTGCCGATGAACAGCTGTCTCCAAGAGGTCGTAGCCGTCCGGGCCAACTGCCACCTGTATCCAGAAAGAGTGGCGTCGTTACTGTCAATGACACTGCCCGTAGGGCATACGTAGAACAGATTACCCGACCCCATTTATGATTCTGCCGGTGGACATCCAGGACCATCGTCAACCTGCCCGATACCACTAGGTAAATGCAATGTCCATTATCCTTGTGCCACGTAACACCTACGATCGATTTGAAGTCCGCATCCTAGATATAGTCTACATCCGGTATGCGTTTAAAAATGTGGGACTTATGAATGGCTCATACGCCGAGAAATCTTTAGATACTGTGCGCACTAGCACATGCCTTGGTCATAAATACCGATCAAGTACGTACGCCGGTACAGCTGTGCATTCAGTCCGTGGCTGTACAGTCTGCTACGGCTTTAAACAAATGCTAGTGTCTCCGTGTATTGCCGCGTCACGCTTGGCCCATCTCGCAGTCTCTCTGGCTAGCAGAATGAGGGGAAAAGCTATTCGCTATAGCGGCACAGTCACCTTCGGGCGGGCCCGTTCTCCACTCTGGCCCAGTCAGTCTGAAGGTATTTAATGCCGGAGTCACGGATGCAGGTTCTTTATGGGTAGCGGGAGGAGTAAAGATACGCTTCAGGGAGCTCTGTAAATTGTGGTTTATCATGGTCCCTGTATACGCGTAGGTGAGCGTCCAGCCAGGAGGATATAACTCTTTTAGGTTATGGCGCCAGCTTTCATCCGAGCTGTAGAGTTAGGTACACTACAAGGTGAACTGTTTATTGCAGCCCCACGCATTACTTAGCGTTTCTGTAAGCAATTCCAGCCCTGGAACAGTGATTCGGGCGCTTTGACTCTCCCATACCCAAACGGTCTAGGTGTAATAGCATAGTATTA\\n'"
            ],
            "application/vnd.google.colaboratory.intrinsic+json": {
              "type": "string"
            }
          },
          "metadata": {},
          "execution_count": 4
        }
      ]
    },
    {
      "cell_type": "code",
      "source": [
        "print(transcribe_dna_to_rna(t))"
      ],
      "metadata": {
        "colab": {
          "base_uri": "https://localhost:8080/"
        },
        "id": "133C4pNPE6wa",
        "outputId": "7c3b954e-b7e4-487d-cb29-f43f638498e7"
      },
      "execution_count": 5,
      "outputs": [
        {
          "output_type": "stream",
          "name": "stdout",
          "text": [
            "GACACACCUAGCUUCAUACACUCCUGCUAGGAGUGCCUCAGACAUAUGUCUGCCGAUGAACAGCUGUCUCCAAGAGGUCGUAGCCGUCCGGGCCAACUGCCACCUGUAUCCAGAAAGAGUGGCGUCGUUACUGUCAAUGACACUGCCCGUAGGGCAUACGUAGAACAGAUUACCCGACCCCAUUUAUGAUUCUGCCGGUGGACAUCCAGGACCAUCGUCAACCUGCCCGAUACCACUAGGUAAAUGCAAUGUCCAUUAUCCUUGUGCCACGUAACACCUACGAUCGAUUUGAAGUCCGCAUCCUAGAUAUAGUCUACAUCCGGUAUGCGUUUAAAAAUGUGGGACUUAUGAAUGGCUCAUACGCCGAGAAAUCUUUAGAUACUGUGCGCACUAGCACAUGCCUUGGUCAUAAAUACCGAUCAAGUACGUACGCCGGUACAGCUGUGCAUUCAGUCCGUGGCUGUACAGUCUGCUACGGCUUUAAACAAAUGCUAGUGUCUCCGUGUAUUGCCGCGUCACGCUUGGCCCAUCUCGCAGUCUCUCUGGCUAGCAGAAUGAGGGGAAAAGCUAUUCGCUAUAGCGGCACAGUCACCUUCGGGCGGGCCCGUUCUCCACUCUGGCCCAGUCAGUCUGAAGGUAUUUAAUGCCGGAGUCACGGAUGCAGGUUCUUUAUGGGUAGCGGGAGGAGUAAAGAUACGCUUCAGGGAGCUCUGUAAAUUGUGGUUUAUCAUGGUCCCUGUAUACGCGUAGGUGAGCGUCCAGCCAGGAGGAUAUAACUCUUUUAGGUUAUGGCGCCAGCUUUCAUCCGAGCUGUAGAGUUAGGUACACUACAAGGUGAACUGUUUAUUGCAGCCCCACGCAUUACUUAGCGUUUCUGUAAGCAAUUCCAGCCCUGGAACAGUGAUUCGGGCGCUUUGACUCUCCCAUACCCAAACGGUCUAGGUGUAAUAGCAUAGUAUUA\n",
            "\n"
          ]
        }
      ]
    },
    {
      "cell_type": "code",
      "source": [],
      "metadata": {
        "id": "Z5YukF5_E-ld"
      },
      "execution_count": null,
      "outputs": []
    }
  ]
}
