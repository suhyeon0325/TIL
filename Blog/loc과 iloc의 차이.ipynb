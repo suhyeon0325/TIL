{
  "nbformat": 4,
  "nbformat_minor": 0,
  "metadata": {
    "colab": {
      "provenance": [],
      "authorship_tag": "ABX9TyOSdaSDofZQGANZOQnibya0",
      "include_colab_link": true
    },
    "kernelspec": {
      "name": "python3",
      "display_name": "Python 3"
    },
    "language_info": {
      "name": "python"
    }
  },
  "cells": [
    {
      "cell_type": "markdown",
      "metadata": {
        "id": "view-in-github",
        "colab_type": "text"
      },
      "source": [
        "<a href=\"https://colab.research.google.com/github/suhyeon0325/multicamp34/blob/main/loc%EA%B3%BC_iloc_%EC%B0%A8%EC%9D%B4_240106.ipynb\" target=\"_parent\"><img src=\"https://colab.research.google.com/assets/colab-badge.svg\" alt=\"Open In Colab\"/></a>"
      ]
    },
    {
      "cell_type": "markdown",
      "source": [
        "# loc과 iloc의 차이점 정리\n",
        "`loc`과 `iloc`은 파이썬 라이브러리인 <span style = \"background-color: #557FFF\">Pandas에서 데이터프레임(DataFrame)의 특정 데이터를 선택</span>하기 위해 사용하는 메소드(method)입니다. 먼저 loc과 iloc에 대해 간단히 살펴보겠습니다.\n",
        "### <span style = \"color: #04CA96\"> loc (location)\n",
        "  - 형식: `DataFrame.loc[<행 라벨>, <열 라벨>]`\n",
        "  - `<행 라벨>` = 인덱스 | `<열 라벨>` = 컬럼 이름\n",
        "  - 예시:  `df.loc['A', 'Name']`\n",
        "  - 범위 지정: `df.loc['A':'C', 'Name':'Age']`\n",
        "\n",
        "### <span style = \"color: #04CA96\">iloc (index location)\n",
        "  - 형식: `DataFrame.iloc[<행 위치>, <열 위치>]`\n",
        "  - `<행 위치>`와 `<열 위치>`는 0부터 시작하는 정수형 인덱스\n",
        "  - 예시: `df.iloc[0, 1]`\n",
        "  - 범위 지정: 예: `df.iloc[0:2, 1:3]`\n",
        "\n",
        "#### <span style = \"color: #557FFF\">  코드 예시"
      ],
      "metadata": {
        "id": "uDq6ZPytFlDv"
      }
    },
    {
      "cell_type": "code",
      "execution_count": 2,
      "metadata": {
        "colab": {
          "base_uri": "https://localhost:8080/"
        },
        "id": "XGjAqyye-XLM",
        "outputId": "a998ed5c-295a-4934-b721-f600321204f9"
      },
      "outputs": [
        {
          "output_type": "stream",
          "name": "stdout",
          "text": [
            "loc 사용 예시 (Bob의 나이):\n",
            "30\n",
            "iloc 사용 예시 (두 번째 행의 Name과 Age):\n",
            "Name    Bob\n",
            "Age      30\n",
            "Name: 1, dtype: object\n",
            "\n",
            "추가 예시 (Name 열 전체):\n",
            "0      Alice\n",
            "1        Bob\n",
            "2    Charlie\n",
            "Name: Name, dtype: object\n"
          ]
        }
      ],
      "source": [
        "import pandas as pd\n",
        "\n",
        "# 샘플 데이터프레임 생성\n",
        "data = {'Name': ['Alice', 'Bob', 'Charlie'], 'Age': [25, 30, 35], 'City': ['New York', 'Los Angeles', 'Chicago']}\n",
        "df = pd.DataFrame(data)\n",
        "\n",
        "# loc 사용 예시: 'Bob'의 'Age' 선택\n",
        "print(\"loc 사용 예시 (Bob의 나이):\")\n",
        "print(df.loc[1, 'Age'])\n",
        "\n",
        "# iloc 사용 예시: 두 번째 행의 첫 번째와 두 번째 열 선택 (Bob의 Name과 Age)\n",
        "print(\"iloc 사용 예시 (두 번째 행의 Name과 Age):\")\n",
        "print(df.iloc[1, 0:2])\n",
        "\n",
        "# 추가 예시: 'Name' 열 전체 선택\n",
        "print(\"\\n추가 예시 (Name 열 전체):\")\n",
        "print(df.loc[:, 'Name'])"
      ]
    },
    {
      "cell_type": "markdown",
      "source": [
        "위의 예시와 같이 'loc'은 라벨 기반으로 데이터를 선택하며, 'iloc'은 위치 기반으로 데이터를 선택합니다.\n",
        "\n",
        "## <span style = \"color: #04CA96\">`loc`과 `iloc` 비교\n",
        "  \n",
        "### <span style = \"color: #557FFF\">   초보자에게 하나만 추천한다면?\n",
        "  \n",
        "**초보자에게는 `loc`을 사용하는 것을 추천드립니다.** 왜냐하면 `loc`은 인덱스와 컬럼 이름을 사용하기 때문에 코드를 읽고 이해하기가 더 쉽습니다.\n",
        "물론 `iloc`도 유용하므로, 상황에 따라 적절한 선택이 필요합니다.\n",
        "  \n",
        "### <span style = \"color: #557FFF\">`loc`이 유용한 경우\n",
        "데이터프레임의 행이나 열에 의미있는 라벨이 있을 때, loc이 유용합니다. 예를 들어, **특정 날짜, 사용자 ID, 제품 이름 등의 라벨을 사용한** 경우입니다.\n",
        "  \n",
        "\n",
        "**<span style = \"color: #936BFF\"> 코드 예시**\n"
      ],
      "metadata": {
        "id": "x_XK0S1iFkSL"
      }
    },
    {
      "cell_type": "code",
      "source": [
        "# 시계열 데이터 샘플 생성\n",
        "dates = pd.date_range('20230101', periods=6)\n",
        "df = pd.DataFrame({'Sales': [100, 150, 200, 250, 300, 350]}, index=dates)\n",
        "\n",
        "# loc 사용 예시: 특정 날짜 범위의 데이터 선택\n",
        "# 2023년 1월 2일부터 1월 4일까지의 판매 데이터 선택\n",
        "print(\"loc 사용 예시 (특정 날짜 범위의 데이터 선택):\")\n",
        "print(df.loc['2023-01-02':'2023-01-04'])"
      ],
      "metadata": {
        "colab": {
          "base_uri": "https://localhost:8080/"
        },
        "id": "MQK7YeGXOWfT",
        "outputId": "cf621e86-82b4-4f24-df76-f1e326f7b822"
      },
      "execution_count": 3,
      "outputs": [
        {
          "output_type": "stream",
          "name": "stdout",
          "text": [
            "loc 사용 예시 (특정 날짜 범위의 데이터 선택):\n",
            "            Sales\n",
            "2023-01-02    150\n",
            "2023-01-03    200\n",
            "2023-01-04    250\n"
          ]
        }
      ]
    },
    {
      "cell_type": "markdown",
      "source": [
        "그리고 `loc`은 `iloc`과는 달리 `df.loc[df['A'] > 10]`과 같이 조건에 따라 행을 선택할 수 있으므로 **boolean을 이용해 특정 조건에 해당하는 경우만 선택**하고 싶은 경우에도 유용합니다.\n",
        "  \n",
        " ### <span style = \"color: #557FFF\">`iloc`이 유용한 경우\n",
        "  데이터프레임의 구조가 일정하고 특정 위치의 데이터 접근이 필요한 경우에 iloc이 적합합니다. 예를 들어, **매일 업데이트되는 큰 데이터셋에서 최근 몇 일의 데이터나 특정 열의 데이터를 분석하는 경우**입니다.\n",
        "  \n",
        "\n",
        "\n",
        "**<span style = \"color: #936BFF\">코드 예시:**"
      ],
      "metadata": {
        "id": "qnO8iEp4OZIB"
      }
    },
    {
      "cell_type": "code",
      "source": [
        "# 대규모 데이터프레임 샘플 생성\n",
        "data = pd.DataFrame({'A': range(1, 101), 'B': range(101, 201), 'C': range(201, 301)})\n",
        "\n",
        "# iloc 사용 예시: 최근 5일의 'A'와 'B' 열 데이터 선택\n",
        "# 데이터프레임의 마지막 5행과 처음 2열을 선택\n",
        "print(\"iloc 사용 예시 (마지막 5행과 처음 2열 선택):\")\n",
        "print(data.iloc[-5:, :2])"
      ],
      "metadata": {
        "colab": {
          "base_uri": "https://localhost:8080/"
        },
        "id": "SdBgXPciOW7M",
        "outputId": "3b2efb08-e9f7-43d9-c8b7-6864f8abb988"
      },
      "execution_count": 4,
      "outputs": [
        {
          "output_type": "stream",
          "name": "stdout",
          "text": [
            "iloc 사용 예시 (마지막 5행과 처음 2열 선택):\n",
            "      A    B\n",
            "95   96  196\n",
            "96   97  197\n",
            "97   98  198\n",
            "98   99  199\n",
            "99  100  200\n"
          ]
        }
      ]
    },
    {
      "cell_type": "markdown",
      "source": [
        "이외에도 `iloc`은 **데이터 전처리 단계에서 일부 데이터를 샘플링하거나, 특정 패턴의 데이터를 추출할 때 유용**합니다. 예를 들어, 특정 간격으로 데이터를 추출하거나, 데이터프레임의 일부분만을 대상으로 빠른 연산을 수행해야 하는 경우입니다.\n",
        "  \n",
        "### <span style = \"color: #557FFF\">주의해야할 점\n",
        "  **`loc`에서 슬라이싱할 때 종료 인덱스는 포함됩니다.** 예를 들어, `df.loc[0:3]`는 0, 1, 2, 3번 인덱스의 데이터를 모두 포함합니다. 파이썬의 리스트 슬라이싱과 다르기 때문에 주의해야 합니다,\n",
        "`iloc` 슬라이싱은 파이썬의 표준 슬라이싱 방식과 마찬가지로 종료 인덱스가 포함되지 않습니다."
      ],
      "metadata": {
        "id": "BSa8HLEkOdRj"
      }
    }
  ]
}
