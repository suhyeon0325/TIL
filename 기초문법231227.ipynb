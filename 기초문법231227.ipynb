{
  "nbformat": 4,
  "nbformat_minor": 0,
  "metadata": {
    "colab": {
      "provenance": [],
      "authorship_tag": "ABX9TyN86xN+1+CGrNQb6GuEunSc",
      "include_colab_link": true
    },
    "kernelspec": {
      "name": "python3",
      "display_name": "Python 3"
    },
    "language_info": {
      "name": "python"
    }
  },
  "cells": [
    {
      "cell_type": "markdown",
      "metadata": {
        "id": "view-in-github",
        "colab_type": "text"
      },
      "source": [
        "<a href=\"https://colab.research.google.com/github/suhyeon0325/multicamp34/blob/main/%EA%B8%B0%EC%B4%88%EB%AC%B8%EB%B2%95231227.ipynb\" target=\"_parent\"><img src=\"https://colab.research.google.com/assets/colab-badge.svg\" alt=\"Open In Colab\"/></a>"
      ]
    },
    {
      "cell_type": "markdown",
      "source": [
        "# CH.3 파이썬을 계산기처럼"
      ],
      "metadata": {
        "id": "l3WTDjdjrmak"
      }
    },
    {
      "cell_type": "code",
      "source": [],
      "metadata": {
        "id": "piGQ32uQru-o"
      },
      "execution_count": null,
      "outputs": []
    },
    {
      "cell_type": "markdown",
      "source": [
        "## 사칙연산"
      ],
      "metadata": {
        "id": "AnLWzgM4rRbo"
      }
    },
    {
      "cell_type": "code",
      "execution_count": 1,
      "metadata": {
        "colab": {
          "base_uri": "https://localhost:8080/"
        },
        "id": "pOJ8arzinyUw",
        "outputId": "2ed341c0-3037-4812-ae85-afc3b548ea5b"
      },
      "outputs": [
        {
          "output_type": "execute_result",
          "data": {
            "text/plain": [
              "2"
            ]
          },
          "metadata": {},
          "execution_count": 1
        }
      ],
      "source": [
        "1+1"
      ]
    },
    {
      "cell_type": "code",
      "source": [
        "5-2"
      ],
      "metadata": {
        "colab": {
          "base_uri": "https://localhost:8080/"
        },
        "id": "PY5M33s7rXls",
        "outputId": "1d0a8e4f-9513-46bc-ac0c-046a5a897094"
      },
      "execution_count": 2,
      "outputs": [
        {
          "output_type": "execute_result",
          "data": {
            "text/plain": [
              "3"
            ]
          },
          "metadata": {},
          "execution_count": 2
        }
      ]
    },
    {
      "cell_type": "code",
      "source": [
        "5 -2"
      ],
      "metadata": {
        "colab": {
          "base_uri": "https://localhost:8080/"
        },
        "id": "fTHB1s7brY8K",
        "outputId": "18b07e2b-701e-4d23-f1d8-6f7ce144556c"
      },
      "execution_count": 3,
      "outputs": [
        {
          "output_type": "execute_result",
          "data": {
            "text/plain": [
              "3"
            ]
          },
          "metadata": {},
          "execution_count": 3
        }
      ]
    },
    {
      "cell_type": "code",
      "source": [
        "15*2"
      ],
      "metadata": {
        "colab": {
          "base_uri": "https://localhost:8080/"
        },
        "id": "c8aMWQYqrdUq",
        "outputId": "ade2cd78-f536-4920-9423-cfcaadba0ae6"
      },
      "execution_count": 5,
      "outputs": [
        {
          "output_type": "execute_result",
          "data": {
            "text/plain": [
              "30"
            ]
          },
          "metadata": {},
          "execution_count": 5
        }
      ]
    },
    {
      "cell_type": "code",
      "source": [
        "#나눗셈\n",
        "10/2    # 정수 / 정수  ==> 반환값은 실수형으로 반환"
      ],
      "metadata": {
        "colab": {
          "base_uri": "https://localhost:8080/"
        },
        "id": "NqMinbwcrxbc",
        "outputId": "de5de7e0-0aa2-4206-8ac2-ef4e4647edeb"
      },
      "execution_count": 6,
      "outputs": [
        {
          "output_type": "execute_result",
          "data": {
            "text/plain": [
              "5.0"
            ]
          },
          "metadata": {},
          "execution_count": 6
        }
      ]
    },
    {
      "cell_type": "markdown",
      "source": [
        "## 실수연산"
      ],
      "metadata": {
        "id": "xzyw7y5JsRuQ"
      }
    },
    {
      "cell_type": "code",
      "source": [
        "print(1.2 + 5.2)   #덧셈\n",
        "print(3.4 - 2.1)   #뺄셈\n",
        "print(2.2 * 5.1)   #곱셈\n",
        "print(8.2 / 4.1)   #나눗셈"
      ],
      "metadata": {
        "colab": {
          "base_uri": "https://localhost:8080/"
        },
        "id": "V4yCMw01sT6j",
        "outputId": "72cf31de-68ac-4471-cc70-16d7b8d70759"
      },
      "execution_count": 11,
      "outputs": [
        {
          "output_type": "stream",
          "name": "stdout",
          "text": [
            "6.4\n",
            "1.2999999999999998\n",
            "11.22\n",
            "2.0\n"
          ]
        }
      ]
    },
    {
      "cell_type": "code",
      "source": [
        "# 웹개발, IDE 환경에서 print()는 필수"
      ],
      "metadata": {
        "id": "oTOzsWEosWEp"
      },
      "execution_count": null,
      "outputs": []
    },
    {
      "cell_type": "markdown",
      "source": [
        "### 연산규칙\n",
        "- (1) 괄호안 계산\n",
        "- (2) 지수 계산\n",
        "- (3) 곱셈과 나눗셈 계산\n",
        "- (4) 덧셈과 뺄셈 계산\n",
        "- (5) 같은 순위 연산이면, 왼쪽에서 오른쪽으로\n",
        "- (6) 중복된 괄호가 있을 경우, 안쪽에서부터 처리"
      ],
      "metadata": {
        "id": "ZabzE5ijtXVH"
      }
    },
    {
      "cell_type": "code",
      "source": [
        "print(2 + 3 * 4)"
      ],
      "metadata": {
        "colab": {
          "base_uri": "https://localhost:8080/"
        },
        "id": "3tGPPjjTt2xA",
        "outputId": "fd4c5554-ed84-446e-cb3f-2aa6ab6e9a26"
      },
      "execution_count": 13,
      "outputs": [
        {
          "output_type": "stream",
          "name": "stdout",
          "text": [
            "14\n"
          ]
        }
      ]
    },
    {
      "cell_type": "code",
      "source": [
        "print(3 / 2 * 4 - 5 / 2)"
      ],
      "metadata": {
        "colab": {
          "base_uri": "https://localhost:8080/"
        },
        "id": "7ga4aCX5t9od",
        "outputId": "6c871eb6-e968-4acc-8182-56b9e8bfd489"
      },
      "execution_count": 14,
      "outputs": [
        {
          "output_type": "stream",
          "name": "stdout",
          "text": [
            "3.5\n"
          ]
        }
      ]
    },
    {
      "cell_type": "code",
      "source": [
        "print((5 * 4 - 15) + (5 - 2) * (9 - 7))"
      ],
      "metadata": {
        "colab": {
          "base_uri": "https://localhost:8080/"
        },
        "id": "q6KKGG1St5NF",
        "outputId": "d6ef406d-f77f-4905-d716-49d9f3e8f44b"
      },
      "execution_count": 15,
      "outputs": [
        {
          "output_type": "stream",
          "name": "stdout",
          "text": [
            "11\n"
          ]
        }
      ]
    },
    {
      "cell_type": "markdown",
      "source": [
        "## type()\n",
        "- 함수: 특정 기능을 수행하도록 만든 매직박스\n",
        "  + 조건을 맞추면 특정함수가 동작"
      ],
      "metadata": {
        "id": "qQhX8Gxzu4gp"
      }
    },
    {
      "cell_type": "markdown",
      "source": [
        "함수의 종류\n",
        "- 내장함수: built-in function, 파이썬 설치와 함께 제공하는 기본적인 함수\n",
        "  + print, type\n",
        "  + 종류가 몇 개인가? 모른다...\n",
        "  + 함수를 설명해주는 문서 보는 법 읽힐 것 (영어)\n",
        "\n",
        "- 라이브러리에서 제공하는 함수\n",
        "  + R에서는 패키지라고 부르고, 파이썬에서는 라이브러리라고 부름\n",
        "  + 목적이 분명.\n",
        "    - 웹사이트 개발: 웹사이트 관련 라이브러리를 별도 설치 필요\n",
        "    - 통계 분석: 통계분석과 관련된 라이브러리를 별도 설치 필요\n",
        "    - 시각화: 시각화 관련된 라이브러리 설치\n",
        "    - 게임 개발: 게임개발과 관련된 라이브러리 설치"
      ],
      "metadata": {
        "id": "S-WUG7rczsyq"
      }
    },
    {
      "cell_type": "code",
      "source": [
        "# 파이썬에서는 정수를 어떻게 표현할까?\n",
        "# 파이썬에서는 실수를 어떻게 표현할까?\n",
        "print(type(3))"
      ],
      "metadata": {
        "colab": {
          "base_uri": "https://localhost:8080/"
        },
        "id": "tuiKRsGruaWy",
        "outputId": "e43d9787-8b23-4efb-a37b-c4a86f3b96b0"
      },
      "execution_count": 18,
      "outputs": [
        {
          "output_type": "stream",
          "name": "stdout",
          "text": [
            "<class 'int'>\n"
          ]
        }
      ]
    },
    {
      "cell_type": "code",
      "source": [
        "print(type(3.5))"
      ],
      "metadata": {
        "colab": {
          "base_uri": "https://localhost:8080/"
        },
        "id": "VPZxVMuYu2bP",
        "outputId": "cc0d7680-b822-40e2-a458-3f3b3156aa8c"
      },
      "execution_count": 19,
      "outputs": [
        {
          "output_type": "stream",
          "name": "stdout",
          "text": [
            "<class 'float'>\n"
          ]
        }
      ]
    },
    {
      "cell_type": "code",
      "source": [
        "print(type(~~~))"
      ],
      "metadata": {
        "colab": {
          "base_uri": "https://localhost:8080/",
          "height": 147
        },
        "id": "1931knJMu3ii",
        "outputId": "46dbb323-d413-402c-92b2-99093e223569"
      },
      "execution_count": 20,
      "outputs": [
        {
          "output_type": "error",
          "ename": "SyntaxError",
          "evalue": "ignored",
          "traceback": [
            "\u001b[0;36m  File \u001b[0;32m\"<ipython-input-20-4204741c7bce>\"\u001b[0;36m, line \u001b[0;32m1\u001b[0m\n\u001b[0;31m    print(type(~~~))\u001b[0m\n\u001b[0m                  ^\u001b[0m\n\u001b[0;31mSyntaxError\u001b[0m\u001b[0;31m:\u001b[0m invalid syntax\n"
          ]
        }
      ]
    },
    {
      "cell_type": "markdown",
      "source": [
        "- 파이썬은 객체지향 언어입니다."
      ],
      "metadata": {
        "id": "kNUA3rmQ1wGQ"
      }
    },
    {
      "cell_type": "markdown",
      "source": [
        "## 거듭 제곱과 나머지\n",
        "- 숫자 A를 n번 곱하는 거듭제곱(Power)\n",
        "  + A는 밑, n은 지수라고 표현"
      ],
      "metadata": {
        "id": "KpbUoDMP2DJj"
      }
    },
    {
      "cell_type": "code",
      "source": [
        "2 * 2 * 2 * 2 * 2"
      ],
      "metadata": {
        "colab": {
          "base_uri": "https://localhost:8080/"
        },
        "id": "pkeX6SfazTLM",
        "outputId": "6505a88a-6f51-4cfe-be22-a7ec1f009217"
      },
      "execution_count": 21,
      "outputs": [
        {
          "output_type": "execute_result",
          "data": {
            "text/plain": [
              "32"
            ]
          },
          "metadata": {},
          "execution_count": 21
        }
      ]
    },
    {
      "cell_type": "code",
      "source": [
        "2 ** 5"
      ],
      "metadata": {
        "colab": {
          "base_uri": "https://localhost:8080/"
        },
        "id": "bC1ywc2b2fNV",
        "outputId": "33c13e51-a6c0-4eda-e217-a7efdc6709c0"
      },
      "execution_count": 22,
      "outputs": [
        {
          "output_type": "execute_result",
          "data": {
            "text/plain": [
              "32"
            ]
          },
          "metadata": {},
          "execution_count": 22
        }
      ]
    },
    {
      "cell_type": "markdown",
      "source": [
        "- 나머지 구하는 방법"
      ],
      "metadata": {
        "id": "gyqndScv2rNR"
      }
    },
    {
      "cell_type": "code",
      "source": [
        "13 % 5  #나머지"
      ],
      "metadata": {
        "colab": {
          "base_uri": "https://localhost:8080/"
        },
        "id": "NS2GEmW62geX",
        "outputId": "bdba7af5-4d55-4c41-f948-7cb583b8b07d"
      },
      "execution_count": 23,
      "outputs": [
        {
          "output_type": "execute_result",
          "data": {
            "text/plain": [
              "3"
            ]
          },
          "metadata": {},
          "execution_count": 23
        }
      ]
    },
    {
      "cell_type": "code",
      "source": [
        "13 // 5  # 몫"
      ],
      "metadata": {
        "colab": {
          "base_uri": "https://localhost:8080/"
        },
        "id": "hdrK0_oJ2tsj",
        "outputId": "e6c271f1-2152-4aca-fcb4-efe5f5fba377"
      },
      "execution_count": 24,
      "outputs": [
        {
          "output_type": "execute_result",
          "data": {
            "text/plain": [
              "2"
            ]
          },
          "metadata": {},
          "execution_count": 24
        }
      ]
    },
    {
      "cell_type": "markdown",
      "source": [
        "## 과학적 표기법(Scientific Notation)\n",
        "- 아주 큰 수, 작은 수를 다뤄야하는 케이스\n",
        "  + 빛은 초당 30만 km\n",
        "  + 단위를 m/s 표현하면, 300,000,000m/s\n",
        "  + 3x10^8"
      ],
      "metadata": {
        "id": "TEGKc7pP3huh"
      }
    },
    {
      "cell_type": "code",
      "source": [
        "3*10**8"
      ],
      "metadata": {
        "colab": {
          "base_uri": "https://localhost:8080/"
        },
        "id": "uqQ9pgwx3f2M",
        "outputId": "d4bfdb96-5d1c-4bfe-c5d4-39c52db435a7"
      },
      "execution_count": 25,
      "outputs": [
        {
          "output_type": "execute_result",
          "data": {
            "text/plain": [
              "300000000"
            ]
          },
          "metadata": {},
          "execution_count": 25
        }
      ]
    },
    {
      "cell_type": "code",
      "source": [
        "3e8"
      ],
      "metadata": {
        "colab": {
          "base_uri": "https://localhost:8080/"
        },
        "id": "FaHc9cVl4PuT",
        "outputId": "db0e697a-db3a-4eba-cd74-5a2ed87cbda6"
      },
      "execution_count": 26,
      "outputs": [
        {
          "output_type": "execute_result",
          "data": {
            "text/plain": [
              "300000000.0"
            ]
          },
          "metadata": {},
          "execution_count": 26
        }
      ]
    },
    {
      "cell_type": "code",
      "source": [
        "3e-4"
      ],
      "metadata": {
        "colab": {
          "base_uri": "https://localhost:8080/"
        },
        "id": "OrtXEv_m2zXN",
        "outputId": "d582580d-fa19-4885-9b78-f0f4beb5497b"
      },
      "execution_count": 33,
      "outputs": [
        {
          "output_type": "execute_result",
          "data": {
            "text/plain": [
              "0.0003"
            ]
          },
          "metadata": {},
          "execution_count": 33
        }
      ]
    },
    {
      "cell_type": "code",
      "source": [
        "1e-4"
      ],
      "metadata": {
        "colab": {
          "base_uri": "https://localhost:8080/"
        },
        "id": "Ke9hYQ-v4nGC",
        "outputId": "6eb2b94c-2267-498a-d017-4ff554aeb329"
      },
      "execution_count": 32,
      "outputs": [
        {
          "output_type": "execute_result",
          "data": {
            "text/plain": [
              "0.0001"
            ]
          },
          "metadata": {},
          "execution_count": 32
        }
      ]
    },
    {
      "cell_type": "markdown",
      "source": [
        "## 진수 표현과 변환\n",
        "- 우리는 일상생활에서는 10진법\n",
        "- 60진법: 60초가 1분이고, 60분이 1시간\n",
        "- 12진법: 오전 12시간, 오후 12시간; 1년 12달\n",
        "- 컴퓨터 프로그래밍, 숫자 0과 1로 이루어진 2진법 수행\n",
        "- 8진법: 0~7\n",
        "- 16진법: 0~9; a,b,c,d,e,f\n",
        "- 메서드\n",
        "  + bin(): 10진수를 2진수로\n",
        "  + oct(): 10진수를 8진수로\n",
        "  + hex(): 10진수를 16진수로"
      ],
      "metadata": {
        "id": "hCf4-94X5V1b"
      }
    },
    {
      "cell_type": "code",
      "source": [
        "17  # 10진법"
      ],
      "metadata": {
        "colab": {
          "base_uri": "https://localhost:8080/"
        },
        "id": "vcOVII2i6L8z",
        "outputId": "47f463b0-8c38-4d1b-cccd-270cd0475b5a"
      },
      "execution_count": 34,
      "outputs": [
        {
          "output_type": "execute_result",
          "data": {
            "text/plain": [
              "17"
            ]
          },
          "metadata": {},
          "execution_count": 34
        }
      ]
    },
    {
      "cell_type": "code",
      "source": [
        "0b10001  # 2진법"
      ],
      "metadata": {
        "colab": {
          "base_uri": "https://localhost:8080/"
        },
        "id": "B4YgocXA6OfQ",
        "outputId": "d221f105-e6fe-4d4f-a0fb-bde5b14c9337"
      },
      "execution_count": 36,
      "outputs": [
        {
          "output_type": "execute_result",
          "data": {
            "text/plain": [
              "17"
            ]
          },
          "metadata": {},
          "execution_count": 36
        }
      ]
    },
    {
      "cell_type": "code",
      "source": [
        "0o21  # 8진법"
      ],
      "metadata": {
        "colab": {
          "base_uri": "https://localhost:8080/"
        },
        "id": "Qk-u-Io66YyZ",
        "outputId": "38b3b54c-305f-4c53-cdc9-a41a4d760006"
      },
      "execution_count": 37,
      "outputs": [
        {
          "output_type": "execute_result",
          "data": {
            "text/plain": [
              "17"
            ]
          },
          "metadata": {},
          "execution_count": 37
        }
      ]
    },
    {
      "cell_type": "code",
      "source": [
        "0x11  # 16진법"
      ],
      "metadata": {
        "colab": {
          "base_uri": "https://localhost:8080/"
        },
        "id": "V0onAgNH6SYh",
        "outputId": "49e2f925-1853-4aee-bd82-46dd454cea14"
      },
      "execution_count": 38,
      "outputs": [
        {
          "output_type": "execute_result",
          "data": {
            "text/plain": [
              "17"
            ]
          },
          "metadata": {},
          "execution_count": 38
        }
      ]
    },
    {
      "cell_type": "markdown",
      "source": [
        "## 논리 연산 및 비교 연산(중요)\n",
        "- 참/거짓\n",
        "- 논리 연산을 잘 활용하는 것이 프로그래밍의 핵심"
      ],
      "metadata": {
        "id": "AsE-QIle7Nqf"
      }
    },
    {
      "cell_type": "code",
      "source": [
        "print(True)"
      ],
      "metadata": {
        "colab": {
          "base_uri": "https://localhost:8080/"
        },
        "id": "FtOmOoPa7NXg",
        "outputId": "c1362a02-4645-4cbb-b3b8-92b9d7ede9c6"
      },
      "execution_count": 39,
      "outputs": [
        {
          "output_type": "stream",
          "name": "stdout",
          "text": [
            "True\n"
          ]
        }
      ]
    },
    {
      "cell_type": "code",
      "source": [
        "print(False)"
      ],
      "metadata": {
        "colab": {
          "base_uri": "https://localhost:8080/"
        },
        "id": "_r2Pdl4475_x",
        "outputId": "9816017d-7a56-4bb5-deb2-1a9dc28a2ab1"
      },
      "execution_count": 40,
      "outputs": [
        {
          "output_type": "stream",
          "name": "stdout",
          "text": [
            "False\n"
          ]
        }
      ]
    },
    {
      "cell_type": "code",
      "source": [
        "print(type(True))"
      ],
      "metadata": {
        "colab": {
          "base_uri": "https://localhost:8080/"
        },
        "id": "kf4PoAdv6lRs",
        "outputId": "b31b6d25-0432-4396-ed6c-8732f8d587b6"
      },
      "execution_count": 41,
      "outputs": [
        {
          "output_type": "stream",
          "name": "stdout",
          "text": [
            "<class 'bool'>\n"
          ]
        }
      ]
    },
    {
      "cell_type": "markdown",
      "source": [
        "### 논리 연산자\n",
        "- and: A and B: A와 B 모두 참일 때 참이면 참, 둘다 거짓일 때 거짓\n",
        "\n",
        "- or: A or B: A와 B 중 하나라도 참이면 참, 둘 다 거짓일 때 거짓\n",
        "\n",
        "- not: not A: A가 참일 때 거짓, A가 거짓이면 참"
      ],
      "metadata": {
        "id": "IeJtiilX8Uyh"
      }
    },
    {
      "cell_type": "code",
      "source": [
        "# 교집합\n",
        "print(True and True)\n",
        "print(True and False)\n",
        "print(False and True)"
      ],
      "metadata": {
        "colab": {
          "base_uri": "https://localhost:8080/"
        },
        "id": "9NIHJLpc8BAt",
        "outputId": "490e157d-4ae3-470d-8429-62c4d823dc95"
      },
      "execution_count": 44,
      "outputs": [
        {
          "output_type": "stream",
          "name": "stdout",
          "text": [
            "True\n",
            "False\n",
            "False\n"
          ]
        }
      ]
    },
    {
      "cell_type": "code",
      "source": [
        "# 합집합\n",
        "print(True or True)\n",
        "print(True or False)\n",
        "print(False or True)\n",
        "print(False or False)"
      ],
      "metadata": {
        "colab": {
          "base_uri": "https://localhost:8080/"
        },
        "id": "f7km_0-hBYUQ",
        "outputId": "74430e6e-48b1-4f6e-ad2a-bb8fc36a12b3"
      },
      "execution_count": 46,
      "outputs": [
        {
          "output_type": "stream",
          "name": "stdout",
          "text": [
            "True\n",
            "True\n",
            "True\n",
            "False\n"
          ]
        }
      ]
    },
    {
      "cell_type": "code",
      "source": [
        "not False"
      ],
      "metadata": {
        "colab": {
          "base_uri": "https://localhost:8080/"
        },
        "id": "u8fbC6BTCj8O",
        "outputId": "8016eb98-aefa-4316-df7c-058475750aaf"
      },
      "execution_count": 45,
      "outputs": [
        {
          "output_type": "execute_result",
          "data": {
            "text/plain": [
              "True"
            ]
          },
          "metadata": {},
          "execution_count": 45
        }
      ]
    },
    {
      "cell_type": "code",
      "source": [
        "# True 또는 False 결과가 나오도록 의도적으로 조건식을 만들어야 함\n",
        "1 == 2  # a와 b가 같다"
      ],
      "metadata": {
        "colab": {
          "base_uri": "https://localhost:8080/"
        },
        "id": "4Qihv93CClUL",
        "outputId": "bfe4569c-a034-429b-e0f5-302f0749d7f3"
      },
      "execution_count": 47,
      "outputs": [
        {
          "output_type": "execute_result",
          "data": {
            "text/plain": [
              "False"
            ]
          },
          "metadata": {},
          "execution_count": 47
        }
      ]
    },
    {
      "cell_type": "code",
      "source": [
        "1 != 2  # a와 b는 같지 않다"
      ],
      "metadata": {
        "colab": {
          "base_uri": "https://localhost:8080/"
        },
        "id": "_wsPEDCvDIUh",
        "outputId": "fce7f8ab-72a1-4af4-ca82-1ac2d4dfcd02"
      },
      "execution_count": 48,
      "outputs": [
        {
          "output_type": "execute_result",
          "data": {
            "text/plain": [
              "True"
            ]
          },
          "metadata": {},
          "execution_count": 48
        }
      ]
    },
    {
      "cell_type": "code",
      "source": [
        "1 <= 2  # a는 b보다 작거나 같다"
      ],
      "metadata": {
        "colab": {
          "base_uri": "https://localhost:8080/"
        },
        "id": "bFzBFDXlDMmp",
        "outputId": "19a195cc-62f3-43c1-e278-2dadffbefaea"
      },
      "execution_count": 49,
      "outputs": [
        {
          "output_type": "execute_result",
          "data": {
            "text/plain": [
              "True"
            ]
          },
          "metadata": {},
          "execution_count": 49
        }
      ]
    },
    {
      "cell_type": "code",
      "source": [
        "1 < 2 # a가 b보다 작다"
      ],
      "metadata": {
        "colab": {
          "base_uri": "https://localhost:8080/"
        },
        "id": "xu5YhfC_DTqz",
        "outputId": "d6a81e8d-266d-49f7-b7d4-0c113b99622f"
      },
      "execution_count": 50,
      "outputs": [
        {
          "output_type": "execute_result",
          "data": {
            "text/plain": [
              "True"
            ]
          },
          "metadata": {},
          "execution_count": 50
        }
      ]
    },
    {
      "cell_type": "code",
      "source": [
        "1 >= 2 # a가 b보다 크거나 같다"
      ],
      "metadata": {
        "colab": {
          "base_uri": "https://localhost:8080/"
        },
        "id": "ZBjrF0LlDYh6",
        "outputId": "01293b54-868c-4f79-9225-edf5890968bf"
      },
      "execution_count": 51,
      "outputs": [
        {
          "output_type": "execute_result",
          "data": {
            "text/plain": [
              "False"
            ]
          },
          "metadata": {},
          "execution_count": 51
        }
      ]
    },
    {
      "cell_type": "code",
      "source": [
        "1 > 2 # a가 b보다 크다"
      ],
      "metadata": {
        "colab": {
          "base_uri": "https://localhost:8080/"
        },
        "id": "MD017yS4Deho",
        "outputId": "3aeab1d3-f904-48e2-d2f5-79ffec76a6f9"
      },
      "execution_count": 52,
      "outputs": [
        {
          "output_type": "execute_result",
          "data": {
            "text/plain": [
              "False"
            ]
          },
          "metadata": {},
          "execution_count": 52
        }
      ]
    },
    {
      "cell_type": "markdown",
      "source": [
        "### 비교연산자 + 논리연산자"
      ],
      "metadata": {
        "id": "tuNYGaxGD7-K"
      }
    },
    {
      "cell_type": "code",
      "source": [
        "1 > 0 and -2 < 0  # 비교연산자 (1순위) 논리연산자 (2순위)"
      ],
      "metadata": {
        "colab": {
          "base_uri": "https://localhost:8080/"
        },
        "id": "iB-ywzI4D-if",
        "outputId": "00e898ee-b99a-4dd2-c8b0-1e37a82108d9"
      },
      "execution_count": 54,
      "outputs": [
        {
          "output_type": "execute_result",
          "data": {
            "text/plain": [
              "True"
            ]
          },
          "metadata": {},
          "execution_count": 54
        }
      ]
    },
    {
      "cell_type": "code",
      "source": [
        "# 괄호 안이 먼저 연산\n",
        "((3 < 0) and (-5 > 0)) and (1 > 5)"
      ],
      "metadata": {
        "colab": {
          "base_uri": "https://localhost:8080/"
        },
        "id": "Hri3O_0CEBZT",
        "outputId": "a1a22476-3086-4dfc-ad8f-84f26d74a8d8"
      },
      "execution_count": 57,
      "outputs": [
        {
          "output_type": "execute_result",
          "data": {
            "text/plain": [
              "False"
            ]
          },
          "metadata": {},
          "execution_count": 57
        }
      ]
    },
    {
      "cell_type": "markdown",
      "source": [
        "#CH.4 변수와 자료형\n",
        "## 변수"
      ],
      "metadata": {
        "id": "5osJduXbfO9v"
      }
    },
    {
      "cell_type": "code",
      "source": [
        "#단순 계산기\n",
        "1 + 1"
      ],
      "metadata": {
        "id": "BAFIbtTdfWMB"
      },
      "execution_count": null,
      "outputs": []
    },
    {
      "cell_type": "markdown",
      "source": [
        "변수명 = data"
      ],
      "metadata": {
        "id": "wP0CqmMdfZHq"
      }
    },
    {
      "cell_type": "code",
      "source": [
        "# 변수: Variable, 데이터\n",
        "a = 12\n",
        "b = 200\n",
        "print(a)"
      ],
      "metadata": {
        "colab": {
          "base_uri": "https://localhost:8080/"
        },
        "id": "9zoByx4_fb47",
        "outputId": "b6f9a762-bd67-439c-d36b-a1c585998422"
      },
      "execution_count": 62,
      "outputs": [
        {
          "output_type": "stream",
          "name": "stdout",
          "text": [
            "12\n"
          ]
        }
      ]
    },
    {
      "cell_type": "code",
      "source": [
        "print(a)\n",
        "print(b)"
      ],
      "metadata": {
        "colab": {
          "base_uri": "https://localhost:8080/"
        },
        "id": "JVUfa3vxgyRd",
        "outputId": "5acef252-347a-4e9a-b095-4d057e102aa5"
      },
      "execution_count": 63,
      "outputs": [
        {
          "output_type": "stream",
          "name": "stdout",
          "text": [
            "12\n",
            "200\n"
          ]
        }
      ]
    },
    {
      "cell_type": "markdown",
      "source": [
        "### 변수명 짓기 규칙\n",
        "- snake, camel"
      ],
      "metadata": {
        "id": "-Bd9UWdag92c"
      }
    },
    {
      "cell_type": "code",
      "source": [
        "# snake\n",
        "num_a = 100\n",
        "num_b = 110\n",
        "\n",
        "# Camel\n",
        "myStudent = \"evan\"\n",
        "mySchool = \"학교이름\"\n",
        "\n",
        "# 주의해야할 것\n",
        "3star = \"이장군\" # 앞에 숫자가 오면 안됨\n",
        "print(num_a) # 내장함수 명을 변수명으로 만들면 안됨"
      ],
      "metadata": {
        "colab": {
          "base_uri": "https://localhost:8080/",
          "height": 147
        },
        "id": "8AA6DOKQhDO_",
        "outputId": "9872e4a6-9dec-4083-a377-2b60a41f1112"
      },
      "execution_count": 67,
      "outputs": [
        {
          "output_type": "error",
          "ename": "SyntaxError",
          "evalue": "ignored",
          "traceback": [
            "\u001b[0;36m  File \u001b[0;32m\"<ipython-input-67-9180fcbd01e3>\"\u001b[0;36m, line \u001b[0;32m10\u001b[0m\n\u001b[0;31m    3star = \"이장군\" # 앞에 숫자가 오면 안됨\u001b[0m\n\u001b[0m    ^\u001b[0m\n\u001b[0;31mSyntaxError\u001b[0m\u001b[0;31m:\u001b[0m invalid decimal literal\n"
          ]
        }
      ]
    },
    {
      "cell_type": "code",
      "source": [
        "num = 1\n",
        "Num = 100"
      ],
      "metadata": {
        "id": "FnlM55yPil8K"
      },
      "execution_count": 68,
      "outputs": []
    },
    {
      "cell_type": "code",
      "source": [
        "print(num)\n",
        "print(Num)"
      ],
      "metadata": {
        "colab": {
          "base_uri": "https://localhost:8080/"
        },
        "id": "NDG-PtFfiy_5",
        "outputId": "4083f175-c05b-4d50-f33f-c22b787ac160"
      },
      "execution_count": 69,
      "outputs": [
        {
          "output_type": "stream",
          "name": "stdout",
          "text": [
            "1\n",
            "100\n"
          ]
        }
      ]
    },
    {
      "cell_type": "code",
      "source": [
        "my student = \"evan\" # 변수명 작성시, 공백 있음 안됨"
      ],
      "metadata": {
        "id": "aoUea3HZi1Jg"
      },
      "execution_count": null,
      "outputs": []
    },
    {
      "cell_type": "markdown",
      "source": [
        "### 예약어는 변수명으로 이용할 수 없음\n",
        "  - print, None, True, etc (p.45)"
      ],
      "metadata": {
        "id": "ybx1N71vlHdn"
      }
    },
    {
      "cell_type": "markdown",
      "source": [
        "### 변수의 반대어: 상수\n",
        "  - 한 번 지정 후에는 변하지 않는 고정 값"
      ],
      "metadata": {
        "id": "4Pzg5sm5lXtb"
      }
    },
    {
      "cell_type": "code",
      "source": [
        "# 상수\n",
        "pi = 3.14"
      ],
      "metadata": {
        "id": "KccSES1Rlc4G"
      },
      "execution_count": 70,
      "outputs": []
    },
    {
      "cell_type": "code",
      "source": [
        "# 실제 변수를 만들어보기\n",
        "num1_str = input(\"숫자를 입력해주세요!!\")  # 숫자를 입력해도 기본값은 문자열로 반환한다\n",
        "num2_str = input(\"숫자를 입력해주세요!!\")\n",
        "\n",
        "print(num1, num2)"
      ],
      "metadata": {
        "colab": {
          "base_uri": "https://localhost:8080/"
        },
        "id": "qa01RTw0lovN",
        "outputId": "66808ce1-8da4-4698-8580-6073bf3b8e9d"
      },
      "execution_count": 80,
      "outputs": [
        {
          "output_type": "stream",
          "name": "stdout",
          "text": [
            "숫자를 입력해주세요!!100\n",
            "숫자를 입력해주세요!!200\n",
            "100 200\n"
          ]
        }
      ]
    },
    {
      "cell_type": "code",
      "source": [
        "# 하고 싶은 것: 사칙연산\n",
        "# 결론: 문자열 100을 숫자 100으로 변경하면 될 것 같음\n",
        "# 코드를 찾기\n",
        "\n",
        "num1 = int(num1_str)\n",
        "num2 = int(num2_str)"
      ],
      "metadata": {
        "id": "-8-n0l2btB8S"
      },
      "execution_count": 81,
      "outputs": []
    },
    {
      "cell_type": "code",
      "source": [
        "print(num1 + num2)\n",
        "print(num2 + num1)"
      ],
      "metadata": {
        "colab": {
          "base_uri": "https://localhost:8080/"
        },
        "id": "42KTGTECsMDo",
        "outputId": "4226689d-3e22-4cae-a394-1e3af543fc78"
      },
      "execution_count": 82,
      "outputs": [
        {
          "output_type": "stream",
          "name": "stdout",
          "text": [
            "300\n",
            "300\n"
          ]
        }
      ]
    },
    {
      "cell_type": "code",
      "source": [
        "print(type(num1)) # 문자열\n",
        "print(type(num2)) # 문자열"
      ],
      "metadata": {
        "colab": {
          "base_uri": "https://localhost:8080/"
        },
        "id": "C7vOVzWCsU7_",
        "outputId": "f3e8f6a2-d067-4f86-a12e-66ff1a779bc5"
      },
      "execution_count": 78,
      "outputs": [
        {
          "output_type": "stream",
          "name": "stdout",
          "text": [
            "<class 'str'>\n",
            "<class 'str'>\n"
          ]
        }
      ]
    },
    {
      "cell_type": "code",
      "source": [
        "# 프로그래밍 문자열로 표현하고 싶다!\n",
        "\"a\" or '1'"
      ],
      "metadata": {
        "colab": {
          "base_uri": "https://localhost:8080/",
          "height": 35
        },
        "id": "XrLTT6-Bl31d",
        "outputId": "0bed5d51-c478-4ecf-b894-ece387723e25"
      },
      "execution_count": 72,
      "outputs": [
        {
          "output_type": "execute_result",
          "data": {
            "text/plain": [
              "''"
            ],
            "application/vnd.google.colaboratory.intrinsic+json": {
              "type": "string"
            }
          },
          "metadata": {},
          "execution_count": 72
        }
      ]
    },
    {
      "cell_type": "code",
      "source": [
        "a = '100' # 문자열 100\n",
        "b = '5000' # 문자열 5000"
      ],
      "metadata": {
        "id": "2kV2DVJWrnjd"
      },
      "execution_count": null,
      "outputs": []
    },
    {
      "cell_type": "markdown",
      "source": [
        "# 문자열\n",
        "- \"\"(큰 따옴표) 또는 ''(작은 따옴표) 지정"
      ],
      "metadata": {
        "id": "aZsdOOupxZcu"
      }
    },
    {
      "cell_type": "code",
      "source": [
        "a = 'Enjoy '\n",
        "b = 'Python!'\n",
        "print(a + b)"
      ],
      "metadata": {
        "colab": {
          "base_uri": "https://localhost:8080/"
        },
        "id": "T0oHjNdWxabu",
        "outputId": "b9775368-a64a-419c-acd6-7b5c86b0801e"
      },
      "execution_count": 85,
      "outputs": [
        {
          "output_type": "stream",
          "name": "stdout",
          "text": [
            "Enjoy Python!\n"
          ]
        }
      ]
    },
    {
      "cell_type": "code",
      "source": [
        "print(a * 3)"
      ],
      "metadata": {
        "colab": {
          "base_uri": "https://localhost:8080/"
        },
        "id": "Sw7TLjpQ3mAg",
        "outputId": "161a935d-fd01-4082-fee0-0549be696ef8"
      },
      "execution_count": 86,
      "outputs": [
        {
          "output_type": "stream",
          "name": "stdout",
          "text": [
            "Enjoy Enjoy Enjoy \n"
          ]
        }
      ]
    },
    {
      "cell_type": "markdown",
      "source": [
        "# 리스트 (List)\n",
        "- 가장 중요한 자료형\n",
        "- 다른 프로그래밍 언어에서는 배열(Array)로 표현\n",
        "- 예시\n",
        "  + 1반 학생들의 수학 점수\n",
        "- 다중의 데이터를 묶는다\n"
      ],
      "metadata": {
        "id": "8Dsi1vre4IV_"
      }
    },
    {
      "cell_type": "code",
      "source": [
        "# 1번 학생의 국어, 영어, 수학, 과학\n",
        "student1 = [90, 95, 85, 80]\n",
        "student1"
      ],
      "metadata": {
        "colab": {
          "base_uri": "https://localhost:8080/"
        },
        "id": "oukTsiMP4H__",
        "outputId": "ccb681fa-d95b-41e2-903d-3632478e30d7"
      },
      "execution_count": 88,
      "outputs": [
        {
          "output_type": "execute_result",
          "data": {
            "text/plain": [
              "[90, 95, 85, 80]"
            ]
          },
          "metadata": {},
          "execution_count": 88
        }
      ]
    },
    {
      "cell_type": "code",
      "source": [
        "print(type(student1))"
      ],
      "metadata": {
        "colab": {
          "base_uri": "https://localhost:8080/"
        },
        "id": "HHM6b2tH5Ou3",
        "outputId": "59a27c37-bed5-4cd8-be1b-4e6bee66a18c"
      },
      "execution_count": 89,
      "outputs": [
        {
          "output_type": "stream",
          "name": "stdout",
          "text": [
            "<class 'list'>\n"
          ]
        }
      ]
    },
    {
      "cell_type": "markdown",
      "source": [
        "## 인덱싱(Indexing)\n",
        "- 리스트에서 특정 데이터를 추출\n"
      ],
      "metadata": {
        "id": "aPDcJMhw5s80"
      }
    },
    {
      "cell_type": "code",
      "source": [
        "student1"
      ],
      "metadata": {
        "colab": {
          "base_uri": "https://localhost:8080/"
        },
        "id": "eyXj1gKY53mK",
        "outputId": "967b19a8-d02e-4dca-da8e-1d4284c77e66"
      },
      "execution_count": 90,
      "outputs": [
        {
          "output_type": "execute_result",
          "data": {
            "text/plain": [
              "[90, 95, 85, 80]"
            ]
          },
          "metadata": {},
          "execution_count": 90
        }
      ]
    },
    {
      "cell_type": "code",
      "source": [
        "student1[1]"
      ],
      "metadata": {
        "colab": {
          "base_uri": "https://localhost:8080/"
        },
        "id": "2j_eoUXq55FJ",
        "outputId": "6c9fe75d-509c-48e8-bf1a-9e91f6a330d9"
      },
      "execution_count": 91,
      "outputs": [
        {
          "output_type": "execute_result",
          "data": {
            "text/plain": [
              "95"
            ]
          },
          "metadata": {},
          "execution_count": 91
        }
      ]
    },
    {
      "cell_type": "code",
      "source": [
        "print(student1[0]) # 숫자 0은 리스트의 첫 번째 항목 의미\n",
        "print(student1[1])\n",
        "print(student1[2])\n",
        "print(student1[3])"
      ],
      "metadata": {
        "colab": {
          "base_uri": "https://localhost:8080/"
        },
        "id": "hyIBsrQv59Dz",
        "outputId": "60fdee84-80b4-42b6-accc-a9dc385d1c27"
      },
      "execution_count": 96,
      "outputs": [
        {
          "output_type": "stream",
          "name": "stdout",
          "text": [
            "90\n",
            "95\n",
            "85\n",
            "80\n"
          ]
        }
      ]
    },
    {
      "cell_type": "code",
      "source": [
        "greeting = 'Hello, Python'"
      ],
      "metadata": {
        "id": "-nV_aPX76v9I"
      },
      "execution_count": 93,
      "outputs": []
    },
    {
      "cell_type": "code",
      "source": [
        "print(greeting[7])"
      ],
      "metadata": {
        "colab": {
          "base_uri": "https://localhost:8080/"
        },
        "id": "s2wkaKf86yxs",
        "outputId": "d0298d19-5755-4c8b-ef4e-5be0292db770"
      },
      "execution_count": 122,
      "outputs": [
        {
          "output_type": "stream",
          "name": "stdout",
          "text": [
            "P\n"
          ]
        }
      ]
    },
    {
      "cell_type": "code",
      "source": [
        "# Hello만 추출\n",
        "print(greeting[0:5])"
      ],
      "metadata": {
        "colab": {
          "base_uri": "https://localhost:8080/"
        },
        "id": "5LZKCty4Ha0b",
        "outputId": "4764cf1e-42ad-4b52-fe1a-148287db101e"
      },
      "execution_count": 123,
      "outputs": [
        {
          "output_type": "stream",
          "name": "stdout",
          "text": [
            "Hello\n"
          ]
        }
      ]
    },
    {
      "cell_type": "markdown",
      "source": [
        "## 리스트 수정, 삭제"
      ],
      "metadata": {
        "id": "HVhDIgvo8Vs5"
      }
    },
    {
      "cell_type": "code",
      "source": [
        "student1"
      ],
      "metadata": {
        "colab": {
          "base_uri": "https://localhost:8080/"
        },
        "id": "Hgl8I3kH642j",
        "outputId": "2885f8ed-1379-42e8-d172-4db1d9371787"
      },
      "execution_count": 97,
      "outputs": [
        {
          "output_type": "execute_result",
          "data": {
            "text/plain": [
              "[90, 95, 85, 80]"
            ]
          },
          "metadata": {},
          "execution_count": 97
        }
      ]
    },
    {
      "cell_type": "code",
      "source": [
        "student1[0] = 100 # 새로운 데이터 할당"
      ],
      "metadata": {
        "id": "eJiRRfx68cJP"
      },
      "execution_count": 99,
      "outputs": []
    },
    {
      "cell_type": "code",
      "source": [
        "student1"
      ],
      "metadata": {
        "colab": {
          "base_uri": "https://localhost:8080/"
        },
        "id": "nslqL5fU8kqO",
        "outputId": "7ff529a3-5576-4b49-dbd9-aef248419e24"
      },
      "execution_count": 100,
      "outputs": [
        {
          "output_type": "execute_result",
          "data": {
            "text/plain": [
              "[100, 95, 85, 80]"
            ]
          },
          "metadata": {},
          "execution_count": 100
        }
      ]
    },
    {
      "cell_type": "code",
      "source": [
        "# 문자열, 덧셈 연산자 + 곱셈 연산자\n",
        "# 리스트에 적용\n",
        "\n",
        "myFriends = ['지원', '은주', '상미', '한솔']\n",
        "newFriends = ['정인']\n",
        "\n",
        "myFriends2 = myFriends + newFriends\n",
        "print(myFriends2)"
      ],
      "metadata": {
        "colab": {
          "base_uri": "https://localhost:8080/"
        },
        "id": "PH_V_rVA8rob",
        "outputId": "9036ca4c-04ab-4b12-e3ab-2c19613c6df2"
      },
      "execution_count": 101,
      "outputs": [
        {
          "output_type": "stream",
          "name": "stdout",
          "text": [
            "['지원', '은주', '상미', '한솔', '정인']\n"
          ]
        }
      ]
    },
    {
      "cell_type": "code",
      "source": [
        "myNumbers = [1]\n",
        "myNumbers * 3"
      ],
      "metadata": {
        "colab": {
          "base_uri": "https://localhost:8080/"
        },
        "id": "hdn24yQW-NuB",
        "outputId": "94f21f01-bb67-4d85-d00a-8f5bc45bfbbe"
      },
      "execution_count": 102,
      "outputs": [
        {
          "output_type": "execute_result",
          "data": {
            "text/plain": [
              "[1, 1, 1]"
            ]
          },
          "metadata": {},
          "execution_count": 102
        }
      ]
    },
    {
      "cell_type": "code",
      "source": [
        "# 상미에서 '미' 추출\n",
        "result = myFriends2[2]\n",
        "result[1]"
      ],
      "metadata": {
        "colab": {
          "base_uri": "https://localhost:8080/",
          "height": 35
        },
        "id": "ztO0K6sF_a1k",
        "outputId": "9483f6df-3d2c-43e4-b1e8-fd295446c131"
      },
      "execution_count": 107,
      "outputs": [
        {
          "output_type": "execute_result",
          "data": {
            "text/plain": [
              "'미'"
            ],
            "application/vnd.google.colaboratory.intrinsic+json": {
              "type": "string"
            }
          },
          "metadata": {},
          "execution_count": 107
        }
      ]
    },
    {
      "cell_type": "code",
      "source": [
        "myFriends[2][1]"
      ],
      "metadata": {
        "colab": {
          "base_uri": "https://localhost:8080/",
          "height": 35
        },
        "id": "mi0XUPii_wVp",
        "outputId": "4452c47f-7126-4cfb-9023-79e863cca2a8"
      },
      "execution_count": 109,
      "outputs": [
        {
          "output_type": "execute_result",
          "data": {
            "text/plain": [
              "'미'"
            ],
            "application/vnd.google.colaboratory.intrinsic+json": {
              "type": "string"
            }
          },
          "metadata": {},
          "execution_count": 109
        }
      ]
    },
    {
      "cell_type": "code",
      "source": [
        "mixed = [0, 2, 3, 14, 'python', True, myFriends2]\n",
        "mixed"
      ],
      "metadata": {
        "colab": {
          "base_uri": "https://localhost:8080/"
        },
        "id": "yEK8A8nI-dHg",
        "outputId": "3567ac6d-694d-4c37-ffd2-df304ff0c0c7"
      },
      "execution_count": 111,
      "outputs": [
        {
          "output_type": "execute_result",
          "data": {
            "text/plain": [
              "[0, 2, 3, 14, 'python', True, ['지원', '은주', '상미', '한솔', '정인']]"
            ]
          },
          "metadata": {},
          "execution_count": 111
        }
      ]
    },
    {
      "cell_type": "code",
      "source": [
        "print(mixed[4][3])\n",
        "print(mixed[6][2][1])\n",
        "print(mixed[-1])"
      ],
      "metadata": {
        "colab": {
          "base_uri": "https://localhost:8080/"
        },
        "id": "aMayxAVu_IQU",
        "outputId": "923fe34f-7d00-4885-8721-fde2276f341e"
      },
      "execution_count": 116,
      "outputs": [
        {
          "output_type": "stream",
          "name": "stdout",
          "text": [
            "h\n",
            "미\n",
            "['지원', '은주', '상미', '한솔', '정인']\n"
          ]
        }
      ]
    },
    {
      "cell_type": "code",
      "source": [
        "mixed[-1][-1][0]"
      ],
      "metadata": {
        "colab": {
          "base_uri": "https://localhost:8080/",
          "height": 35
        },
        "id": "DMwFM_CcBF0V",
        "outputId": "b373ac2d-fc3c-4586-d22c-328150626f1e"
      },
      "execution_count": 117,
      "outputs": [
        {
          "output_type": "execute_result",
          "data": {
            "text/plain": [
              "'정'"
            ],
            "application/vnd.google.colaboratory.intrinsic+json": {
              "type": "string"
            }
          },
          "metadata": {},
          "execution_count": 117
        }
      ]
    },
    {
      "cell_type": "markdown",
      "source": [
        "### 슬라이싱 (slicing)\n",
        "- 문자열, 리스트 그 외 파이썬 거의 대부분 자료형 원리 동일 적용"
      ],
      "metadata": {
        "id": "KmO7jRvrF1ql"
      }
    },
    {
      "cell_type": "code",
      "source": [
        "list_data = [0, 1, 2, 3, 4, 5, 6, 7, 8, 9]\n",
        "print(list_data)"
      ],
      "metadata": {
        "colab": {
          "base_uri": "https://localhost:8080/"
        },
        "id": "QBxbr5YpBIYu",
        "outputId": "cd797246-bad5-476a-f9b3-25662956f0af"
      },
      "execution_count": 118,
      "outputs": [
        {
          "output_type": "stream",
          "name": "stdout",
          "text": [
            "[0, 1, 2, 3, 4, 5, 6, 7, 8, 9]\n"
          ]
        }
      ]
    },
    {
      "cell_type": "code",
      "source": [
        "print(list_data[0:3]) # 시작인덱스:끝인덱스-1\n",
        "\n",
        "# 5까지 추출\n",
        "print(list_data[0:6])"
      ],
      "metadata": {
        "colab": {
          "base_uri": "https://localhost:8080/"
        },
        "id": "3ni3KTv5GWb-",
        "outputId": "23eccb45-ddc9-491c-a53b-3b142fba7628"
      },
      "execution_count": 124,
      "outputs": [
        {
          "output_type": "stream",
          "name": "stdout",
          "text": [
            "[0, 1, 2]\n",
            "[0, 1, 2, 3, 4, 5]\n"
          ]
        }
      ]
    },
    {
      "cell_type": "code",
      "source": [
        "print(list_data[0:6])\n",
        "print(list_data[:6])\n",
        "print(list_data[4:])  # list_data[4:10]\n",
        "print(list_data[:])  # 모든 데이터 조회\n"
      ],
      "metadata": {
        "colab": {
          "base_uri": "https://localhost:8080/"
        },
        "id": "Gw-zZ0QNIFYj",
        "outputId": "db31a18d-2d5a-4517-d17a-3926696bd239"
      },
      "execution_count": 129,
      "outputs": [
        {
          "output_type": "stream",
          "name": "stdout",
          "text": [
            "[0, 1, 2, 3, 4, 5]\n",
            "[0, 1, 2, 3, 4, 5]\n",
            "[4, 5, 6, 7, 8, 9]\n",
            "[0, 1, 2, 3, 4, 5, 6, 7, 8, 9]\n"
          ]
        }
      ]
    },
    {
      "cell_type": "code",
      "source": [
        "print(list_data[::2])\n",
        "print(list_data[::3])"
      ],
      "metadata": {
        "colab": {
          "base_uri": "https://localhost:8080/"
        },
        "id": "3p43S6THI72m",
        "outputId": "5cf02e41-5c54-4ef9-a522-95ef40b98406"
      },
      "execution_count": 132,
      "outputs": [
        {
          "output_type": "stream",
          "name": "stdout",
          "text": [
            "[0, 2, 4, 6, 8]\n",
            "[0, 3, 6, 9]\n"
          ]
        }
      ]
    },
    {
      "cell_type": "code",
      "source": [
        "listd = [234, 435,1323, 556,4353,7768,7867, 345]\n",
        "\n",
        "print(listd[::2])\n",
        "print(listd[::3])\n",
        "print(listd[::4])"
      ],
      "metadata": {
        "colab": {
          "base_uri": "https://localhost:8080/"
        },
        "id": "pkEgF95WJgdt",
        "outputId": "34822b5f-b613-4890-cb42-4c6d27195563"
      },
      "execution_count": 135,
      "outputs": [
        {
          "output_type": "stream",
          "name": "stdout",
          "text": [
            "[234, 1323, 4353, 7867]\n",
            "[234, 556, 7867]\n",
            "[234, 4353]\n"
          ]
        }
      ]
    },
    {
      "cell_type": "markdown",
      "source": [
        "# 튜플(Tuple)\n",
        "\n",
        "- 기초 문법이 중요 (면접 때 질문 받을 수 있음)\n",
        "  + list와 Tuple의 차이점이 뭔가요?\n",
        "- 리스트와 유사하다"
      ],
      "metadata": {
        "id": "qQ9sCeosKZ4X"
      }
    },
    {
      "cell_type": "code",
      "source": [
        "tuple1 = (1, 2, 3, 4)\n",
        "print(tuple1)\n",
        "print(type(tuple1))"
      ],
      "metadata": {
        "colab": {
          "base_uri": "https://localhost:8080/"
        },
        "id": "XD1xoifXMTl0",
        "outputId": "e3ab8334-9865-4ed4-dec8-bd242ecd4bcb"
      },
      "execution_count": 136,
      "outputs": [
        {
          "output_type": "stream",
          "name": "stdout",
          "text": [
            "(1, 2, 3, 4)\n",
            "<class 'tuple'>\n"
          ]
        }
      ]
    },
    {
      "cell_type": "code",
      "source": [
        "tuple_data = (0, 1, 2, 3, 4, 5, 6, 7, 8, 9)\n",
        "\n",
        "print(tuple_data[:5])\n",
        "print(tuple_data[1:4])"
      ],
      "metadata": {
        "colab": {
          "base_uri": "https://localhost:8080/"
        },
        "id": "-eKyDh7lMciE",
        "outputId": "904716df-7d64-4620-a69b-937db48e7d7c"
      },
      "execution_count": 140,
      "outputs": [
        {
          "output_type": "stream",
          "name": "stdout",
          "text": [
            "(0, 1, 2, 3, 4)\n",
            "(1, 2, 3)\n"
          ]
        }
      ]
    },
    {
      "cell_type": "code",
      "source": [
        "l_data = [0, 1, 2, 3]  # 숫자 3대신, 30\n",
        "t_data = (0, 1, 2, 3)\n",
        "\n",
        "l_data[3] = 30\n",
        "t_data[3] = 30"
      ],
      "metadata": {
        "colab": {
          "base_uri": "https://localhost:8080/",
          "height": 221
        },
        "id": "_o_vADsENQRb",
        "outputId": "693cacbf-9c2a-4ddf-88a1-5e6dbf1733c4"
      },
      "execution_count": 143,
      "outputs": [
        {
          "output_type": "error",
          "ename": "TypeError",
          "evalue": "ignored",
          "traceback": [
            "\u001b[0;31m---------------------------------------------------------------------------\u001b[0m",
            "\u001b[0;31mTypeError\u001b[0m                                 Traceback (most recent call last)",
            "\u001b[0;32m<ipython-input-143-b9effe7a9bf6>\u001b[0m in \u001b[0;36m<cell line: 5>\u001b[0;34m()\u001b[0m\n\u001b[1;32m      3\u001b[0m \u001b[0;34m\u001b[0m\u001b[0m\n\u001b[1;32m      4\u001b[0m \u001b[0ml_data\u001b[0m\u001b[0;34m[\u001b[0m\u001b[0;36m3\u001b[0m\u001b[0;34m]\u001b[0m \u001b[0;34m=\u001b[0m \u001b[0;36m30\u001b[0m\u001b[0;34m\u001b[0m\u001b[0;34m\u001b[0m\u001b[0m\n\u001b[0;32m----> 5\u001b[0;31m \u001b[0mt_data\u001b[0m\u001b[0;34m[\u001b[0m\u001b[0;36m3\u001b[0m\u001b[0;34m]\u001b[0m \u001b[0;34m=\u001b[0m \u001b[0;36m30\u001b[0m\u001b[0;34m\u001b[0m\u001b[0;34m\u001b[0m\u001b[0m\n\u001b[0m",
            "\u001b[0;31mTypeError\u001b[0m: 'tuple' object does not support item assignment"
          ]
        }
      ]
    },
    {
      "cell_type": "markdown",
      "source": [
        "- 리스트는 수정, 삭제가 잘 됨\n",
        "- 튜플은 수정, 삭제가 안 됨 (지원 안함)"
      ],
      "metadata": {
        "id": "ttFI_kiGOP-x"
      }
    },
    {
      "cell_type": "code",
      "source": [
        "del l_data[3]\n",
        "del t_data[3]"
      ],
      "metadata": {
        "colab": {
          "base_uri": "https://localhost:8080/",
          "height": 202
        },
        "id": "Man7AxuROYJU",
        "outputId": "bfe0436d-2595-440d-9377-dc229d016312"
      },
      "execution_count": 144,
      "outputs": [
        {
          "output_type": "error",
          "ename": "TypeError",
          "evalue": "ignored",
          "traceback": [
            "\u001b[0;31m---------------------------------------------------------------------------\u001b[0m",
            "\u001b[0;31mTypeError\u001b[0m                                 Traceback (most recent call last)",
            "\u001b[0;32m<ipython-input-144-8146e1175db9>\u001b[0m in \u001b[0;36m<cell line: 2>\u001b[0;34m()\u001b[0m\n\u001b[1;32m      1\u001b[0m \u001b[0;32mdel\u001b[0m \u001b[0ml_data\u001b[0m\u001b[0;34m[\u001b[0m\u001b[0;36m3\u001b[0m\u001b[0;34m]\u001b[0m\u001b[0;34m\u001b[0m\u001b[0;34m\u001b[0m\u001b[0m\n\u001b[0;32m----> 2\u001b[0;31m \u001b[0;32mdel\u001b[0m \u001b[0mt_data\u001b[0m\u001b[0;34m[\u001b[0m\u001b[0;36m3\u001b[0m\u001b[0;34m]\u001b[0m\u001b[0;34m\u001b[0m\u001b[0;34m\u001b[0m\u001b[0m\n\u001b[0m",
            "\u001b[0;31mTypeError\u001b[0m: 'tuple' object doesn't support item deletion"
          ]
        }
      ]
    },
    {
      "cell_type": "code",
      "source": [],
      "metadata": {
        "id": "vWcdDhGUOcNi"
      },
      "execution_count": null,
      "outputs": []
    }
  ]
}