{
  "nbformat": 4,
  "nbformat_minor": 0,
  "metadata": {
    "colab": {
      "provenance": [],
      "authorship_tag": "ABX9TyOILTm+AUtES0CrJFAyJUDl",
      "include_colab_link": true
    },
    "kernelspec": {
      "name": "python3",
      "display_name": "Python 3"
    },
    "language_info": {
      "name": "python"
    }
  },
  "cells": [
    {
      "cell_type": "markdown",
      "metadata": {
        "id": "view-in-github",
        "colab_type": "text"
      },
      "source": [
        "<a href=\"https://colab.research.google.com/github/suhyeon0325/TIL/blob/main/%5BROSALIND%5D_Counting_DNA_Nucleotides.ipynb\" target=\"_parent\"><img src=\"https://colab.research.google.com/assets/colab-badge.svg\" alt=\"Open In Colab\"/></a>"
      ]
    },
    {
      "cell_type": "code",
      "execution_count": 7,
      "metadata": {
        "colab": {
          "base_uri": "https://localhost:8080/"
        },
        "id": "QxEHPUg06TKI",
        "outputId": "4ce760c2-71c7-4319-ccb1-1f306fb31bef"
      },
      "outputs": [
        {
          "output_type": "stream",
          "name": "stdout",
          "text": [
            "247 245 227 233\n"
          ]
        }
      ],
      "source": [
        "def count_nucleotides(dna_string):\n",
        "\t\t# 각 뉴클레오타이드의 개수를 센다\n",
        "\t\tcount_a = dna_string.count('A')\n",
        "\t\tcount_c = dna_string.count('C')\n",
        "\t\tcount_g = dna_string.count('G')\n",
        "\t\tcount_t = dna_string.count('T')\n",
        "\n",
        "\t\t# 지정된 형식으로 개수를 반환한다\n",
        "\t\treturn f\"{count_a} {count_c} {count_g} {count_t}\"\n",
        "\n",
        "dna_string = \"TGCCGTGCCAAAATACTCCAGAGGGAGCTAGTGGAATACTCACAACGGCGCAGCTGTCTGCCATATATCACGTTAACCTCCACCTGCCTGCCCTGTTAACTAATCCAGGTCGACGTCACCCACTCGTTGTAACATAGGATCCCAAAGGCCCAGAAACTTCCGGCTAGGCCCGTTATATTTAGGAGTTAGAATAGGGCCACAAGCCTTTGGCAGCGATATTTTTTAGATACGGGCTCTCACTAATCAACGAGAGACAGGGAAATAGACCCTAATTATTCCAAGGGACACAACAGGGTGAGGTTAGTTAACATCACCACGGTAGAGCATAATCGCACTTAGCCTGTGGCAACCCCAGTTGAGTTAATAGCTCCACGCTTATGGCGAGTGGTTTGACGTATACCCTACACTCTTGTGAGGTTGATTTCTCGAGCGAGAATAACAAGGAGCTATCAAGGCAAGAGAAACAATTCCCCGCGAGCGTCCGAAACACTGACGCCGCGTCCCCTCACCCGCTCGTACTGCCTATATTATCGTAGAAGCGCTTCTCGACCAGCTTTCATAGTAGATAGCCTGTCCCGTATAACGGTCGTACCTAGCCAGCTAGTTATTAGCACCCTCTTGATATAATTTAGCTTCACGCTATGAACGGCGAGGAGTAGCTCTTTGCCCGGAGGATAGTGGCAGAGAAACTCGTGGTCATCAAAGCTACTGGTCGGCCGGCCGTTACGCTGGACGACTGCTTGTTCTTAGACACCTGGGCCCAGTGGTGAGTCGTAGGCCAACCTGCAAGTAAGCTCCAGTGAAGTAAACGCCGGATCCTTGGGTGTTTTATGTTTGACGGGTATGCTTTTCTCTTGATAAATTTTAACGTACACACAACACAGAAGCCACTTGTACCATAACTCAAACATTTCGACACGGCTGTGCTTTCTGAGGTACATGGGACGGCGTG\"\n",
        "print(count_nucleotides(dna_string))"
      ]
    },
    {
      "cell_type": "code",
      "source": [],
      "metadata": {
        "id": "tBN4L_Im91GD"
      },
      "execution_count": null,
      "outputs": []
    }
  ]
}