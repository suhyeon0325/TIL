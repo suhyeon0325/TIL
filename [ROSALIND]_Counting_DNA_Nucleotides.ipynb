{
  "nbformat": 4,
  "nbformat_minor": 0,
  "metadata": {
    "colab": {
      "provenance": []
    },
    "kernelspec": {
      "name": "python3",
      "display_name": "Python 3"
    },
    "language_info": {
      "name": "python"
    }
  },
  "cells": [
    {
      "cell_type": "code",
      "source": [
        "def count_nucleotides(dna_string):\n",
        "\t\t# 각 뉴클레오타이드의 개수를 센다\n",
        "\t\tcount_a = dna_string.count('A')\n",
        "\t\tcount_c = dna_string.count('C')\n",
        "\t\tcount_g = dna_string.count('G')\n",
        "\t\tcount_t = dna_string.count('T')\n",
        "\n",
        "\t\t# 지정된 형식으로 개수를 반환한다\n",
        "\t\treturn f\"{count_a} {count_c} {count_g} {count_t}\""
      ],
      "metadata": {
        "id": "1HG_an2O_IWn"
      },
      "execution_count": null,
      "outputs": []
    },
    {
      "cell_type": "code",
      "source": [
        "with open('/content/rosalind_dna.txt', 'r') as file:\n",
        "  s = file.read().strip()"
      ],
      "metadata": {
        "id": "tBN4L_Im91GD"
      },
      "execution_count": 15,
      "outputs": []
    },
    {
      "cell_type": "code",
      "source": [
        "print(count_nucleotides(s))"
      ],
      "metadata": {
        "colab": {
          "base_uri": "https://localhost:8080/"
        },
        "id": "Kijpq3Ha_JlD",
        "outputId": "a4252c6a-247f-4771-d83a-fe800e1e2128"
      },
      "execution_count": 17,
      "outputs": [
        {
          "output_type": "stream",
          "name": "stdout",
          "text": [
            "223 212 213 204\n"
          ]
        }
      ]
    }
  ]
}