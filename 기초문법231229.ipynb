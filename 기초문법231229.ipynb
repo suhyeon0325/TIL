{
  "nbformat": 4,
  "nbformat_minor": 0,
  "metadata": {
    "colab": {
      "provenance": [],
      "authorship_tag": "ABX9TyM7/j2HZ7fz5/nnPJJtpgAd",
      "include_colab_link": true
    },
    "kernelspec": {
      "name": "python3",
      "display_name": "Python 3"
    },
    "language_info": {
      "name": "python"
    }
  },
  "cells": [
    {
      "cell_type": "markdown",
      "metadata": {
        "id": "view-in-github",
        "colab_type": "text"
      },
      "source": [
        "<a href=\"https://colab.research.google.com/github/suhyeon0325/multicamp34/blob/main/%EA%B8%B0%EC%B4%88%EB%AC%B8%EB%B2%95231229.ipynb\" target=\"_parent\"><img src=\"https://colab.research.google.com/assets/colab-badge.svg\" alt=\"Open In Colab\"/></a>"
      ]
    },
    {
      "cell_type": "markdown",
      "source": [
        "# 딕셔너리\n",
        "- Dictionary\n",
        "- 구성: key-value, keyword(=key), 결괏값(=value)\n",
        "  + 문자열, 리스트, tuple: 데이터 조회 시, 인덱싱 또는 슬라이싱\n",
        "  + 딕셔너리에서 값을 조회하는 방법은 key 값을 통해서 값을 조회\n",
        "  "
      ],
      "metadata": {
        "id": "hpU0rdAl7kSW"
      }
    },
    {
      "cell_type": "code",
      "source": [
        "# 나라-수도 이름\n",
        "country_capital = {\n",
        "    \"대한민국\" : \"서울\",\n",
        "    \"일본\" : \"도쿄\",\n",
        "    \"프랑스\" : \"파리\",\n",
        "    \"영국\" : \"런던\"\n",
        "    }\n",
        "\n",
        "country_capital"
      ],
      "metadata": {
        "colab": {
          "base_uri": "https://localhost:8080/"
        },
        "id": "RPRbfBds8tRa",
        "outputId": "93de4044-3006-470d-99f0-c68779038ce7"
      },
      "execution_count": 3,
      "outputs": [
        {
          "output_type": "execute_result",
          "data": {
            "text/plain": [
              "{'대한민국': '서울', '일본': '도쿄', '프랑스': '파리', '영국': '런던'}"
            ]
          },
          "metadata": {},
          "execution_count": 3
        }
      ]
    },
    {
      "cell_type": "code",
      "execution_count": 6,
      "metadata": {
        "colab": {
          "base_uri": "https://localhost:8080/",
          "height": 35
        },
        "id": "IC7y_Nrs5KAX",
        "outputId": "1d2965d4-c03a-4d17-ee18-ee6413c39d85"
      },
      "outputs": [
        {
          "output_type": "execute_result",
          "data": {
            "text/plain": [
              "'서울'"
            ],
            "application/vnd.google.colaboratory.intrinsic+json": {
              "type": "string"
            }
          },
          "metadata": {},
          "execution_count": 6
        }
      ],
      "source": [
        "# 딕셔너리에서 value 값을 조회하는 방법은 key 값을 통해 조회\n",
        "country_capital['대한민국']"
      ]
    },
    {
      "cell_type": "code",
      "source": [
        "# key값은 중복으로 만들 수 없음\n",
        "country_capital['미쿡']"
      ],
      "metadata": {
        "colab": {
          "base_uri": "https://localhost:8080/",
          "height": 202
        },
        "id": "MeAvBY1W9y0S",
        "outputId": "b08639c0-c314-4e8b-8853-6062372cbfd6"
      },
      "execution_count": 9,
      "outputs": [
        {
          "output_type": "error",
          "ename": "KeyError",
          "evalue": "ignored",
          "traceback": [
            "\u001b[0;31m---------------------------------------------------------------------------\u001b[0m",
            "\u001b[0;31mKeyError\u001b[0m                                  Traceback (most recent call last)",
            "\u001b[0;32m<ipython-input-9-8eb580e3f09d>\u001b[0m in \u001b[0;36m<cell line: 2>\u001b[0;34m()\u001b[0m\n\u001b[1;32m      1\u001b[0m \u001b[0;31m# key값은 중복으로 만들 수 없음\u001b[0m\u001b[0;34m\u001b[0m\u001b[0;34m\u001b[0m\u001b[0m\n\u001b[0;32m----> 2\u001b[0;31m \u001b[0mcountry_capital\u001b[0m\u001b[0;34m[\u001b[0m\u001b[0;34m'미쿡'\u001b[0m\u001b[0;34m]\u001b[0m\u001b[0;34m\u001b[0m\u001b[0;34m\u001b[0m\u001b[0m\n\u001b[0m",
            "\u001b[0;31mKeyError\u001b[0m: '미쿡'"
          ]
        }
      ]
    },
    {
      "cell_type": "code",
      "source": [
        "data = {1 : '버스', 3 : '비행기'}\n",
        "data"
      ],
      "metadata": {
        "colab": {
          "base_uri": "https://localhost:8080/"
        },
        "id": "cBGUyr5A-h9B",
        "outputId": "2561ef1b-50c1-4923-8b71-31795579c9d8"
      },
      "execution_count": 10,
      "outputs": [
        {
          "output_type": "execute_result",
          "data": {
            "text/plain": [
              "{1: '버스', 3: '비행기'}"
            ]
          },
          "metadata": {},
          "execution_count": 10
        }
      ]
    },
    {
      "cell_type": "code",
      "source": [
        "# 숫자 1은 리스트, 문자열, tuple 인덱스 번호와는 다른 숫자\n",
        "# 현재 여기에서 숫자 1은 key 값\n",
        "data[1]"
      ],
      "metadata": {
        "id": "0TyXY1pA-oSr"
      },
      "execution_count": null,
      "outputs": []
    },
    {
      "cell_type": "code",
      "source": [
        "data2 = {'list' : [1, 2, 3], 'list2': [4, 5, 6]}\n",
        "data2"
      ],
      "metadata": {
        "colab": {
          "base_uri": "https://localhost:8080/"
        },
        "id": "dDTtIS5C-bhZ",
        "outputId": "03f55e10-e085-46b4-e4e4-521d32253dff"
      },
      "execution_count": 11,
      "outputs": [
        {
          "output_type": "execute_result",
          "data": {
            "text/plain": [
              "{'list': [1, 2, 3], 'list2': [4, 5, 6]}"
            ]
          },
          "metadata": {},
          "execution_count": 11
        }
      ]
    },
    {
      "cell_type": "code",
      "source": [
        "data3 = {'list1' : [1, 2, 3], 'list2' : [4, 5, 6], 1 : '테스트', 2 : 100}\n",
        "data3"
      ],
      "metadata": {
        "colab": {
          "base_uri": "https://localhost:8080/"
        },
        "id": "8hcW6pLO_Mvq",
        "outputId": "09c029d2-7d80-48f8-9951-f4cc0928b99c"
      },
      "execution_count": 14,
      "outputs": [
        {
          "output_type": "execute_result",
          "data": {
            "text/plain": [
              "{'list1': [1, 2, 3], 'list2': [4, 5, 6], 1: '테스트', 2: 100}"
            ]
          },
          "metadata": {},
          "execution_count": 14
        }
      ]
    },
    {
      "cell_type": "markdown",
      "source": [
        "## 딕셔너리 사용처\n",
        "- 데이터 분석: 엑셀 테이블\n",
        "  + 1억개, 데이터 가공 (최소 1-2시간 가공작업)\n",
        "  + 임시 테이블\n",
        "\n",
        "- HTML, CSS, 인터넷 자료형 중, JSON 데이터 포맷\n",
        "- JSON 데이터 포맷 ==> 딕셔너리와 동일\n",
        "  + API 데이터 크롤링, 기본 자료형(JSON) => 딕셔너리 변환, 변환 후 데이터 가공\n",
        "  \n"
      ],
      "metadata": {
        "id": "X8JMiYaa_67u"
      }
    },
    {
      "cell_type": "markdown",
      "source": [
        "## 딕셔너리 다루기"
      ],
      "metadata": {
        "id": "faS9F1dWCVvX"
      }
    },
    {
      "cell_type": "code",
      "source": [
        "# 내가 좋아하는 도시 이름\n",
        "country_capital['대한민국'] = '부산'\n",
        "country_capital"
      ],
      "metadata": {
        "colab": {
          "base_uri": "https://localhost:8080/"
        },
        "id": "IKJhHg26Fz8P",
        "outputId": "e4a8a655-6719-4fcf-e9a0-778372cf43fe"
      },
      "execution_count": 19,
      "outputs": [
        {
          "output_type": "execute_result",
          "data": {
            "text/plain": [
              "{'대한민국': '부산', '일본': '도쿄', '프랑스': '파리', '영국': '런던'}"
            ]
          },
          "metadata": {},
          "execution_count": 19
        }
      ]
    },
    {
      "cell_type": "code",
      "source": [
        "# del\n",
        "del country_capital['영국']"
      ],
      "metadata": {
        "id": "FzIQDWKHGNap"
      },
      "execution_count": 21,
      "outputs": []
    },
    {
      "cell_type": "code",
      "source": [
        "country_capital['프랑스'] = None\n",
        "country_capital"
      ],
      "metadata": {
        "colab": {
          "base_uri": "https://localhost:8080/"
        },
        "id": "sdw-DE7bGRyC",
        "outputId": "5328d0ca-dd95-4eca-c8c4-63bb481e2efe"
      },
      "execution_count": 22,
      "outputs": [
        {
          "output_type": "execute_result",
          "data": {
            "text/plain": [
              "{'대한민국': '부산', '일본': '도쿄', '프랑스': None}"
            ]
          },
          "metadata": {},
          "execution_count": 22
        }
      ]
    },
    {
      "cell_type": "code",
      "source": [
        "country_capital['미국'] = '워싱턴'\n",
        "country_capital"
      ],
      "metadata": {
        "colab": {
          "base_uri": "https://localhost:8080/"
        },
        "id": "9VNSA19LG7TJ",
        "outputId": "5f09f130-139b-422d-bc28-d15c06ae3560"
      },
      "execution_count": 23,
      "outputs": [
        {
          "output_type": "execute_result",
          "data": {
            "text/plain": [
              "{'대한민국': '부산', '일본': '도쿄', '프랑스': None, '미국': '워싱턴'}"
            ]
          },
          "metadata": {},
          "execution_count": 23
        }
      ]
    },
    {
      "cell_type": "markdown",
      "source": [
        "## 딕셔너리 메서드\n"
      ],
      "metadata": {
        "id": "4VwzMGSPCXhH"
      }
    },
    {
      "cell_type": "code",
      "source": [
        "print(type(country_capital))  # 딕셔너리 객체\n",
        "# 딕셔너리가 보유한 클래스 메서드를 사용할 수 있음\n",
        "# dict_data (객체명)\n",
        "country_capital.keys()"
      ],
      "metadata": {
        "colab": {
          "base_uri": "https://localhost:8080/"
        },
        "id": "5AJCLBnG_pnj",
        "outputId": "31e9067f-37c7-41f0-a686-c8af79510276"
      },
      "execution_count": 29,
      "outputs": [
        {
          "output_type": "stream",
          "name": "stdout",
          "text": [
            "<class 'dict'>\n"
          ]
        },
        {
          "output_type": "execute_result",
          "data": {
            "text/plain": [
              "dict_keys(['대한민국', '일본', '프랑스', '미국'])"
            ]
          },
          "metadata": {},
          "execution_count": 29
        }
      ]
    },
    {
      "cell_type": "code",
      "source": [
        "# 딕셔너리에서 키 전체를 리스트 형태로 반환\n",
        "print(type(country_capital.keys()))"
      ],
      "metadata": {
        "colab": {
          "base_uri": "https://localhost:8080/"
        },
        "id": "jx-8lU66Ic_i",
        "outputId": "8deb489e-b5f0-4f4f-8996-d8238f8cae8c"
      },
      "execution_count": 31,
      "outputs": [
        {
          "output_type": "stream",
          "name": "stdout",
          "text": [
            "<class 'dict_keys'>\n"
          ]
        }
      ]
    },
    {
      "cell_type": "code",
      "source": [
        "# 데이터 형변환\n",
        "list(country_capital.keys())"
      ],
      "metadata": {
        "colab": {
          "base_uri": "https://localhost:8080/"
        },
        "id": "f237jtvbI1Il",
        "outputId": "e090b584-e9f9-4405-886a-18214491e105"
      },
      "execution_count": 32,
      "outputs": [
        {
          "output_type": "execute_result",
          "data": {
            "text/plain": [
              "['대한민국', '일본', '프랑스', '미국']"
            ]
          },
          "metadata": {},
          "execution_count": 32
        }
      ]
    },
    {
      "cell_type": "code",
      "source": [
        "country_capital.values()"
      ],
      "metadata": {
        "colab": {
          "base_uri": "https://localhost:8080/"
        },
        "id": "YKSSU3eLHfIN",
        "outputId": "e44ee75e-f311-4512-bc52-dcb532ebe8bc"
      },
      "execution_count": 27,
      "outputs": [
        {
          "output_type": "execute_result",
          "data": {
            "text/plain": [
              "dict_values(['부산', '도쿄', None, '워싱턴'])"
            ]
          },
          "metadata": {},
          "execution_count": 27
        }
      ]
    },
    {
      "cell_type": "code",
      "source": [
        "country_capital.items()"
      ],
      "metadata": {
        "colab": {
          "base_uri": "https://localhost:8080/"
        },
        "id": "bJ2menHuIYF_",
        "outputId": "c141648e-5f47-4124-d8a2-a6d7f042624b"
      },
      "execution_count": 28,
      "outputs": [
        {
          "output_type": "execute_result",
          "data": {
            "text/plain": [
              "dict_items([('대한민국', '부산'), ('일본', '도쿄'), ('프랑스', None), ('미국', '워싱턴')])"
            ]
          },
          "metadata": {},
          "execution_count": 28
        }
      ]
    },
    {
      "cell_type": "code",
      "source": [
        "new_df = {\n",
        "    '중국' : '베이징', '필리핀' : '마닐라', '호주' : '캔버라'\n",
        "}\n",
        "\n",
        "country_capital.update(new_df)\n",
        "country_capital"
      ],
      "metadata": {
        "colab": {
          "base_uri": "https://localhost:8080/"
        },
        "id": "N9zgxV1oIaAQ",
        "outputId": "e77abb53-4797-4a7b-edf0-b9e62b90e291"
      },
      "execution_count": 33,
      "outputs": [
        {
          "output_type": "execute_result",
          "data": {
            "text/plain": [
              "{'대한민국': '부산',\n",
              " '일본': '도쿄',\n",
              " '프랑스': None,\n",
              " '미국': '워싱턴',\n",
              " '중국': '베이징',\n",
              " '필리핀': '마닐라',\n",
              " '호주': '캔버라'}"
            ]
          },
          "metadata": {},
          "execution_count": 33
        }
      ]
    },
    {
      "cell_type": "code",
      "source": [
        "country_capital.clear()  # 빈 Dictionary 생성\n",
        "country_capital"
      ],
      "metadata": {
        "colab": {
          "base_uri": "https://localhost:8080/"
        },
        "id": "KK_LPKbYJZ1L",
        "outputId": "6421c736-1a98-431e-ac36-dab9af23cb82"
      },
      "execution_count": 34,
      "outputs": [
        {
          "output_type": "execute_result",
          "data": {
            "text/plain": [
              "{}"
            ]
          },
          "metadata": {},
          "execution_count": 34
        }
      ]
    },
    {
      "cell_type": "code",
      "source": [
        "result = list(country_capital.keys())  # 리스트로 클래스 변환\n",
        "result.append('독일')"
      ],
      "metadata": {
        "id": "SycWXkM8JgtH"
      },
      "execution_count": 35,
      "outputs": []
    },
    {
      "cell_type": "code",
      "source": [
        "result"
      ],
      "metadata": {
        "colab": {
          "base_uri": "https://localhost:8080/"
        },
        "id": "HTd8z6kSKt-7",
        "outputId": "7314d6d2-3186-4d26-c3b2-3ab4015c1820"
      },
      "execution_count": 36,
      "outputs": [
        {
          "output_type": "execute_result",
          "data": {
            "text/plain": [
              "['독일']"
            ]
          },
          "metadata": {},
          "execution_count": 36
        }
      ]
    },
    {
      "cell_type": "markdown",
      "source": [
        "# If 조건문\n",
        "- 프로그래밍에서 조건문\n",
        "  + 만약 조건이 True라면 ~를 해라\n",
        "  + 참과 거짓을 만드는 것이 포인트\n"
      ],
      "metadata": {
        "id": "QG5JXWZRL34L"
      }
    },
    {
      "cell_type": "code",
      "source": [
        "x = int(input(\"점수를 입력하세요\"))  # 문자를 숫자로 형변환\n",
        "if x >= 90:\n",
        "  print(\"합격\")"
      ],
      "metadata": {
        "colab": {
          "base_uri": "https://localhost:8080/"
        },
        "id": "VRk99zzyKvLt",
        "outputId": "3cf287e4-31b9-4791-8294-2efe265c680b"
      },
      "execution_count": 37,
      "outputs": [
        {
          "name": "stdout",
          "output_type": "stream",
          "text": [
            "점수를 입력하세요80\n"
          ]
        }
      ]
    },
    {
      "cell_type": "code",
      "source": [
        "x = int(input(\"점수를 입력하세요\"))  # 문자를 숫자로 형변환\n",
        "if x >= 90:\n",
        "  print(\"합격\")\n",
        "else:\n",
        "  print(\"불합격\")"
      ],
      "metadata": {
        "colab": {
          "base_uri": "https://localhost:8080/"
        },
        "id": "9HLQTsshNF_S",
        "outputId": "4480c2c1-2472-45c3-f160-b6531474afec"
      },
      "execution_count": 38,
      "outputs": [
        {
          "output_type": "stream",
          "name": "stdout",
          "text": [
            "점수를 입력하세요80\n",
            "불합격\n"
          ]
        }
      ]
    },
    {
      "cell_type": "code",
      "source": [
        "x = int(input(\"점수를 입력하세요\"))  # 문자를 숫자로 형변환\n",
        "if x >= 90:\n",
        "  print(\"합격\")\n",
        "\n",
        "elif x>= 80:\n",
        "  print(\"부분합격, 면접 필요\")\n",
        "\n",
        "else:\n",
        "  print(\"불합격\")"
      ],
      "metadata": {
        "colab": {
          "base_uri": "https://localhost:8080/"
        },
        "id": "lXyRZTaYOF6S",
        "outputId": "bb274e75-30b5-4c9e-e497-5e2515d6efdd"
      },
      "execution_count": 39,
      "outputs": [
        {
          "output_type": "stream",
          "name": "stdout",
          "text": [
            "점수를 입력하세요80\n",
            "부분합격, 면접 필요\n"
          ]
        }
      ]
    },
    {
      "cell_type": "markdown",
      "source": [
        "# 문제\n",
        "- 학생 성적에 따라서 여러분들이 등급을 정한다.\n",
        "- A, B, C, D, F\n",
        "- 점수는 0에서 100점\n",
        "  + 90점 이상 1등급\n",
        "  + 80점 이상 2등급\n",
        "  + 70점 이상 3등급\n",
        "  + 그 이하는 4등급"
      ],
      "metadata": {
        "id": "MXFRHcNUO2vz"
      }
    },
    {
      "cell_type": "code",
      "source": [
        "x = int(input(\"점수를 입력하세요\"))\n",
        "if x >= 90:\n",
        "  print(\"1등급\")\n",
        "\n",
        "elif x >= 80:\n",
        "  print(\"2등급\")\n",
        "\n",
        "elif x >= 70:\n",
        "  print(\"3등급\")\n",
        "\n",
        "else:\n",
        "  print(\"4등급\")"
      ],
      "metadata": {
        "colab": {
          "base_uri": "https://localhost:8080/"
        },
        "id": "64x6D68xPX4F",
        "outputId": "08c7a42b-6bcf-44e2-ada3-98a936c076b3"
      },
      "execution_count": 43,
      "outputs": [
        {
          "output_type": "stream",
          "name": "stdout",
          "text": [
            "점수를 입력하세요78\n",
            "3등급\n"
          ]
        }
      ]
    },
    {
      "cell_type": "code",
      "source": [
        "# 중첩 조건문\n",
        "# if 조건문 내부에 또다른 조건문 생성\n",
        "x = int(input(\"점수를 입력하세요...\"))\n",
        "\n",
        "if x>= 90:\n",
        "\n",
        "  if x == 100:\n",
        "    print(\"장학금 수여\")\n",
        "\n",
        "  else:\n",
        "    print(\"합격\")\n",
        "\n",
        "else:\n",
        "  print(\"불합격\")"
      ],
      "metadata": {
        "colab": {
          "base_uri": "https://localhost:8080/"
        },
        "id": "kpkkUbEZP4Am",
        "outputId": "8522ac57-893f-4560-9d31-410e6816abd4"
      },
      "execution_count": 47,
      "outputs": [
        {
          "output_type": "stream",
          "name": "stdout",
          "text": [
            "점수를 입력하세요...99\n",
            "합격\n"
          ]
        }
      ]
    },
    {
      "cell_type": "markdown",
      "source": [
        "# 반복문\n",
        "- for-loop, while\n",
        "- 반복문의 필요성\n"
      ],
      "metadata": {
        "id": "u_uKBzBZX-EG"
      }
    },
    {
      "cell_type": "code",
      "source": [
        "for i in range(14):\n",
        "  print(\"Hello Python\")"
      ],
      "metadata": {
        "colab": {
          "base_uri": "https://localhost:8080/"
        },
        "id": "hWal9Yi9YHAG",
        "outputId": "a115156c-d68d-40c3-c273-0252e7121293"
      },
      "execution_count": 55,
      "outputs": [
        {
          "output_type": "stream",
          "name": "stdout",
          "text": [
            "Hello Python\n",
            "Hello Python\n",
            "Hello Python\n",
            "Hello Python\n",
            "Hello Python\n",
            "Hello Python\n",
            "Hello Python\n",
            "Hello Python\n",
            "Hello Python\n",
            "Hello Python\n",
            "Hello Python\n",
            "Hello Python\n",
            "Hello Python\n",
            "Hello Python\n"
          ]
        }
      ]
    },
    {
      "cell_type": "markdown",
      "source": [
        "## for-loop 특징\n",
        "- 반복 범위가 주어짐\n"
      ],
      "metadata": {
        "id": "lijIZi7IapNh"
      }
    },
    {
      "cell_type": "code",
      "source": [
        "for i in range(3):\n",
        "  print(f'{i}번째 Hello Python')"
      ],
      "metadata": {
        "colab": {
          "base_uri": "https://localhost:8080/"
        },
        "id": "wcZmzdGpaLJX",
        "outputId": "87588bba-11ab-4367-82da-6285838d264c"
      },
      "execution_count": 52,
      "outputs": [
        {
          "output_type": "stream",
          "name": "stdout",
          "text": [
            "0번째 Hello Python\n",
            "1번째 Hello Python\n",
            "2번째 Hello Python\n"
          ]
        }
      ]
    },
    {
      "cell_type": "code",
      "source": [
        "for idx in range(3):\n",
        "  print(f'{idx}번째 Hello Python')"
      ],
      "metadata": {
        "colab": {
          "base_uri": "https://localhost:8080/"
        },
        "id": "sermSOfRa2ew",
        "outputId": "25aed0ae-b008-4f9a-c73b-e812cb68866f"
      },
      "execution_count": 54,
      "outputs": [
        {
          "output_type": "stream",
          "name": "stdout",
          "text": [
            "0번째 Hello Python\n",
            "1번째 Hello Python\n",
            "2번째 Hello Python\n"
          ]
        }
      ]
    },
    {
      "cell_type": "markdown",
      "source": [
        "- 반복 범위 지정 시, 시퀀스 자료형도 사용 가능\n"
      ],
      "metadata": {
        "id": "4IEdrJWjbZKu"
      }
    },
    {
      "cell_type": "code",
      "source": [
        "nums = [1, 2, 3, 4, 5]\n",
        "for num in nums:\n",
        "  print(num)"
      ],
      "metadata": {
        "colab": {
          "base_uri": "https://localhost:8080/"
        },
        "id": "YGZhYnXibU9-",
        "outputId": "b0d3b825-1b41-4ecf-fb0f-48476b1c6453"
      },
      "execution_count": 56,
      "outputs": [
        {
          "output_type": "stream",
          "name": "stdout",
          "text": [
            "1\n",
            "2\n",
            "3\n",
            "4\n",
            "5\n"
          ]
        }
      ]
    },
    {
      "cell_type": "code",
      "source": [
        "strings = \"Hello\"\n",
        "for text in strings:\n",
        "  print(text)"
      ],
      "metadata": {
        "colab": {
          "base_uri": "https://localhost:8080/"
        },
        "id": "qGjixQtHcAdY",
        "outputId": "3939b3d1-93c9-4161-cfdb-909f3fc21e86"
      },
      "execution_count": 57,
      "outputs": [
        {
          "output_type": "stream",
          "name": "stdout",
          "text": [
            "H\n",
            "e\n",
            "l\n",
            "l\n",
            "o\n"
          ]
        }
      ]
    },
    {
      "cell_type": "code",
      "source": [
        "tuples = (1, 2, 3, 4)\n",
        "for num in tuples:\n",
        "  print(num)"
      ],
      "metadata": {
        "colab": {
          "base_uri": "https://localhost:8080/"
        },
        "id": "1tuG9GGKcZ22",
        "outputId": "e6e4a3b5-5b2e-4ed5-dc28-a2462d44b4e1"
      },
      "execution_count": 58,
      "outputs": [
        {
          "output_type": "stream",
          "name": "stdout",
          "text": [
            "1\n",
            "2\n",
            "3\n",
            "4\n"
          ]
        }
      ]
    },
    {
      "cell_type": "code",
      "source": [
        "country_capital = {\n",
        "    \"대한민국\" : \"서울\",\n",
        "    \"일본\" : \"도쿄\",\n",
        "    \"프랑스\" : \"파리\",\n",
        "    \"영국\" : \"런던\"\n",
        "    }\n",
        "\n",
        "country_capital\n",
        "\n",
        "for country in country_capital:\n",
        "  print(country) # key 값만 출력, 원하는 것은 value 값\n",
        "  print(country_capital[country])"
      ],
      "metadata": {
        "colab": {
          "base_uri": "https://localhost:8080/"
        },
        "id": "biVgh0cuclFa",
        "outputId": "7321eaf7-c77a-4ba5-ec6c-ea3ae9e9ab4b"
      },
      "execution_count": 63,
      "outputs": [
        {
          "output_type": "stream",
          "name": "stdout",
          "text": [
            "대한민국\n",
            "서울\n",
            "일본\n",
            "도쿄\n",
            "프랑스\n",
            "파리\n",
            "영국\n",
            "런던\n"
          ]
        }
      ]
    },
    {
      "cell_type": "code",
      "source": [
        "for country in country_capital:\n",
        "  print(f'{country}의 수도는 {country_capital[country]}이다.')"
      ],
      "metadata": {
        "colab": {
          "base_uri": "https://localhost:8080/"
        },
        "id": "SiNJ7nurcxcy",
        "outputId": "ec8a5949-c7a9-44b9-919f-739bd47274f5"
      },
      "execution_count": 65,
      "outputs": [
        {
          "output_type": "stream",
          "name": "stdout",
          "text": [
            "대한민국의 수도는 서울이다.\n",
            "일본의 수도는 도쿄이다.\n",
            "프랑스의 수도는 파리이다.\n",
            "영국의 수도는 런던이다.\n"
          ]
        }
      ]
    },
    {
      "cell_type": "code",
      "source": [],
      "metadata": {
        "id": "QMN1jUnYdpLM"
      },
      "execution_count": null,
      "outputs": []
    }
  ]
}