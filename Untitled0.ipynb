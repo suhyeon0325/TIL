{
  "nbformat": 4,
  "nbformat_minor": 0,
  "metadata": {
    "colab": {
      "provenance": [],
      "authorship_tag": "ABX9TyPsuwNMHOq4SM8epvJpX5gZ",
      "include_colab_link": true
    },
    "kernelspec": {
      "name": "python3",
      "display_name": "Python 3"
    },
    "language_info": {
      "name": "python"
    }
  },
  "cells": [
    {
      "cell_type": "markdown",
      "metadata": {
        "id": "view-in-github",
        "colab_type": "text"
      },
      "source": [
        "<a href=\"https://colab.research.google.com/github/suhyeon0325/multicamp34/blob/main/Untitled0.ipynb\" target=\"_parent\"><img src=\"https://colab.research.google.com/assets/colab-badge.svg\" alt=\"Open In Colab\"/></a>"
      ]
    },
    {
      "cell_type": "markdown",
      "source": [
        "## <span style = \"color: #04CA96\">  **1. 파이썬 가상환경이란?**\n",
        "\n",
        "가상환경(Virtual Environment)은 파이썬에서 <span style = \"background-color: #557FFF\">독립적인 프로젝트를 위한 개별적인 공간</span>을 말합니다. 여러 프로젝트를 진행할 때 각 프로젝트의 '의존성(dependencies)'과 '라이브러리(libraries)'를 구분하여 관리할 수 있게 해줍니다. 이를 통해 한 시스템에서 서로 다른 버전의 파이썬 라이브러리를 사용할 수 있습니다.\n",
        "\n",
        "### <span style = \"color: #FFC530\">  **가상환경 사용의 이점**\n",
        "  1. <span style = \"color: #557FFF\">  **프로젝트 분리**</span>: 다양한 프로젝트에서 서로 다른 라이브러리 버전을 사용할 수 있어, 한 프로젝트에서의 변경이 다른 프로젝트에 영향을 미치지 않습니다.\n",
        "  2. <span style = \"color: #557FFF\">  **의존성 관리**</span>: 프로젝트별로 필요한 라이브러리와 버전을 명확히 관리할 수 있어, 코드의 호환성 및 재현성을 높일 수 있습니다.\n",
        "  3. <span style = \"color: #557FFF\">  **개발 환경 일관성**</span>: 다른 개발자와 협업 시, 같은 환경에서 작업함으로써 발생할 수 있는 문제를 최소화합니다.\n",
        "  \n",
        "## <span style = \"color: #04CA96\">**2. Conda 가상환경**\n",
        "\n",
        "### <span style = \"color: #FFC530\"> **Conda란 무엇인가?**\n",
        "Conda는 파이썬 및 기타 프로그래밍 언어를 위한 오픈소스 패키지 관리 시스템이자 환경 관리 시스템입니다. 데이터 과학과 기계 학습 프로젝트에 유용하며, 특히 복잡한 데이터 과학 라이브러리를 쉽게 설치하고 관리할 수 있습니다.\n",
        "\n",
        "### <span style = \"color: #FFC530\"> **Conda 설치 방법**\n",
        "Conda는 Anaconda 또는 Miniconda를 통해 설치할 수 있습니다. Anaconda는 데이터 과학에 필요한 많은 라이브러리를 포함하고 있는 반면, Miniconda는 더 가볍고 필요한 패키지만 설치할 수 있습니다.\n",
        "\n",
        "- **Anaconda 설치**: [Anaconda 공식 웹사이트](https://www.anaconda.com/products/individual)에서 운영 체제에 맞는 설치 프로그램을 다운로드하여 설치합니다.\n",
        "- **Miniconda 설치**: [Miniconda 웹사이트](https://docs.conda.io/en/latest/miniconda.html)에서 운영 체제에 맞는 버전을 다운로드하여 설치합니다.\n",
        "\n",
        "### <span style = \"color: #FFC530\"> **Conda로 가상환경 생성 및 활성화**\n",
        "가상환경을 만들고 사용하는 방법은 맥/리눅스와 윈도우에서 약간 다릅니다.\n",
        "\n",
        "**맥/리눅스:**\n",
        "```bash\n",
        "# 가상환경 생성 (env_name은 가상환경 이름)\n",
        "conda create --name env_name python=3.8\n",
        "\n",
        "# 가상환경 활성화\n",
        "conda activate env_name\n",
        "```\n",
        "\n",
        "**윈도우:**\n",
        "```bash\n",
        "# 가상환경 생성 (env_name은 가상환경 이름)\n",
        "conda create --name env_name python=3.8\n",
        "\n",
        "# 가상환경 활성화\n",
        "activate env_name\n",
        "```\n",
        "\n",
        "### <span style=\"color: #FFC530\"> **주요 Conda 명령어 및 사용법**\n",
        "\n",
        "Conda 명령어는 맥과 윈도우 모두에서 대부분 동일하게 작동합니다.\n",
        "\n",
        "#### <span style = \"color: #936BFF\">**- 가상환경 목록 보기**\n",
        "가상환경의 전체 목록을 확인하려면, 다음 명령어를 사용합니다.\n",
        "\n",
        "```bash\n",
        "conda env list\n",
        "```\n",
        "이 명령은 현재 설치된 모든 Conda 가상환경의 목록을 표시합니다.\n",
        "\n",
        "#### <span style = \"color: #936BFF\">**- 특정 가상환경 제거**\n",
        "특정 가상환경을 제거하려면, 아래 명령어를 사용합니다.\n",
        "\n",
        "```bash\n",
        "conda env remove --name env_name\n",
        "```\n",
        "여기서 `env_name`은 제거하고자 하는 가상환경의 이름입니다.\n",
        "\n",
        "#### **<span style = \"color: #936BFF\">- 패키지 설치**\n",
        "Conda를 사용하여 특정 패키지를 설치하려면 다음과 같은 명령어를 사용합니다.\n",
        "\n",
        "```bash\n",
        "conda install package_name\n",
        "```\n",
        "`package_name`은 설치하고자 하는 패키지의 이름입니다. 예를 들어, NumPy를 설치하려면 `conda install numpy`라고 입력합니다.\n",
        "\n",
        "#### **<span style = \"color: #936BFF\">- 패키지 목록 보기**\n",
        "현재 가상환경에 설치된 패키지 목록을 확인하려면, 다음 명령어를 사용합니다.\n",
        "\n",
        "```bash\n",
        "conda list\n",
        "```\n",
        "이 명령은 현재 활성화된 가상환경에 설치된 모든 패키지와 그 버전을 표시합니다.\n",
        "\n",
        "\n",
        "### <span style = \"color: #FFC530\">**Conda 가상환경의 특징 및 장점**\n",
        "- **플랫폼 독립성**: 다양한 운영 체제에서 동일한 방식으로 사용할 수 있습니다.\n",
        "- **다양한 언어 지원**: 파이썬 외에도 R, Ruby, Lua, Scala 등 다양한 언어의 패키지를 관리할 수 있습니다.\n",
        "- **대규모 데이터 과학 프로젝트 적합**: 데이터 과학과 관련된 복잡한 패키지들을 쉽게 설치하고 관리할 수 있습니다.\n",
        "- **의존성 충돌 방지**: Conda는 패키지 간의 의존성을 체크하여 충돌을 방지합니다.\n",
        "- **환경 복제**: `conda env export > environment.yml` 명령을 통해 가상환경을 yml 파일로 내보내 다른 시스템에서 동일한 환경을 재생성할 수 있습니다.\n",
        "\n",
        "\n",
        "Conda는 파이썬 가상환경 관리뿐만 아니라 복잡한 데이터 과학 프로젝트를 위한 강력한 도구입니다. 이를 통해 프로젝트의 효율성과 재현성을 높일 수 있습니다.\n",
        "\n",
        "## <span style = \"color: #04CA96\">**3. Venv 가상환경**\n",
        "\n",
        "### <span style = \"color: #FFC530\"> **Venv란 무엇인가?**\n",
        "Venv (Virtual Environment)는 파이썬을 위한 가상 환경 생성 도구입니다. 파이썬 3.3 버전부터 표준 라이브러리에 포함되었으며, 개별 프로젝트에 독립된 파이썬 환경을 제공합니다. 이를 통해 서로 다른 프로젝트에서 다른 버전의 라이브러리를 사용할 수 있으며, 시스템의 파이썬 환경에 영향을 주지 않습니다.\n",
        "\n",
        "### <span style = \"color: #FFC530\"> **Venv 설치 및 설정 방법**\n",
        "Venv는 파이썬 3.3 이상 버전에 기본적으로 포함되어 있으므로 별도의 설치 과정이 필요하지 않습니다. 다음은 Venv를 사용하여 가상환경을 생성하고 활성화하는 방법입니다.\n",
        "\n",
        "**가상환경 생성 및 활성화:**\n",
        "\n",
        "```bash\n",
        "# 가상환경 생성 (env_name은 가상환경 이름)\n",
        "python3 -m venv env_name\n",
        "\n",
        "# 가상환경 활성화 (맥/리눅스)\n",
        "source env_name/bin/activate\n",
        "\n",
        "# 가상환경 활성화 (윈도우)\n",
        "env_name\\Scripts\\activate\n",
        "```\n",
        "\n",
        "활성화된 가상환경에서는 해당 환경에만 영향을 주는 라이브러리 설치, 업데이트, 제거 등의 작업을 수행할 수 있습니다.\n",
        "\n",
        "### <span style=\"color: #FFC530\"> **주요 Venv 명령어 및 사용법**\n",
        "\n",
        "다음은 Venv를 사용할 때 자주 쓰이는 명령어들과 그 사용법입니다.\n",
        "\n",
        "#### ** <span style = \"color: #936BFF\"> - 가상환경 비활성화**\n",
        "활성화된 가상환경을 비활성화하려면, 다음과 같은 명령어를 사용합니다.\n",
        "\n",
        "```bash\n",
        "deactivate\n",
        "```\n",
        "이 명령은 현재 활성화된 가상환경을 비활성화합니다.\n",
        "\n",
        "#### ** <span style = \"color: #936BFF\">-  패키지 설치**\n",
        "가상환경 내에서 특정 패키지를 설치하려면, 아래 명령어를 사용합니다.\n",
        "\n",
        "```bash\n",
        "pip install package_name\n",
        "```\n",
        "여기서 `package_name`은 설치하려는 패키지의 이름입니다. 예를 들어, `requests` 패키지를 설치하려면 `pip install requests`라고 입력합니다.\n",
        "\n",
        "#### **<span style = \"color: #936BFF\"> -  설치된 패키지 목록 확인**\n",
        "현재 가상환경에 설치된 패키지 목록을 확인하려면, 다음 명령어를 사용합니다.\n",
        "\n",
        "```bash\n",
        "pip list\n",
        "```\n",
        "이 명령은 현재 활성화된 가상환경에 설치된 모든 패키지와 그 버전을 표시합니다.\n",
        "\n",
        "\n",
        "### <span style = \"color: #FFC530\"> **Venv 가상환경의 특징 및 장점**\n",
        "- **경량성과 편리성**: 파이썬의 기본 모듈로 제공되므로 추가 설치가 필요 없으며, 사용이 간단합니다.\n",
        "- **프로젝트별 독립성**: 각 프로젝트에 필요한 패키지와 의존성을 독립적으로 관리할 수 있습니다.\n",
        "- **시스템 파이썬 환경 보호**: 시스템의 기본 파이썬 환경에 영향을 주지 않고, 프로젝트별로 다른 버전의 라이브러리를 사용할 수 있습니다.\n",
        "- **패키지 버전 관리**: `pip freeze > requirements.txt` 명령으로 현재 환경의 패키지 목록을 저장하고, 다른 환경에서 `pip install -r requirements.txt` 명령으로 동일한 환경을 구축할 수 있습니다.\n",
        "\n",
        "Venv를 사용하면 파이썬 프로젝트의 의존성 관리가 간편해지며, 다양한 환경에서의 프로젝트 호환성을 보장할 수 있습니다. 이는 특히 개인 프로젝트나 소규모 팀 프로젝트에 매우 적합합니다.\n",
        "  \n",
        " ## <span style = \"color: #04CA96\"> **4. Conda와 Venv 비교**\n",
        "\n",
        "파이썬 프로젝트에서 Conda와 Venv는 두 가장 인기 있는 가상환경 관리 도구입니다. 각각의 특징을 이해하고, 프로젝트의 요구사항에 맞게 선택하는 것이 중요합니다.\n",
        "\n",
        "### <span style = \"color: #FFC530\"> **기능적 차이점**\n",
        "  \n",
        "1. **설치 및 관리**:\n",
        "   - **Conda**: 데이터 과학 및 머신러닝 프로젝트에 최적화된 다양한 패키지와 함께 제공됩니다. 복잡한 의존성 관리와 다양한 패키지 설치를 쉽게 처리할 수 있습니다.\n",
        "   - **Venv**: 파이썬 3.3 이상 버전에 포함된 경량화된 도구로, 필요한 기본적인 가상환경 기능을 제공합니다.\n",
        "\n",
        "2. **환경 구성**:\n",
        "   - **Conda**: 파이썬과 다양한 프로그래밍 언어를 지원하며, 특히 Anaconda 배포판에 포함된 많은 과학 계산 관련 패키지들과의 호환성이 뛰어납니다.\n",
        "   - **Venv**: 오직 파이썬 환경에 초점을 맞추고 있어, 순수 파이썬 프로젝트에 적합합니다.\n",
        "\n",
        "### <span style = \"color: #FFC530\"> **추천**\n",
        "- **Conda**:\n",
        "  - 복잡한 데이터 과학 프로젝트나 다양한 언어를 사용하는 프로젝트에 추천됩니다.\n",
        "  - Conda를 통해 라이브러리 간의 복잡한 의존성을 관리하고, 특히 과학 계산이나 데이터 분석에 필요한 패키지를 쉽게 설치할 수 있습니다.\n",
        "\n",
        "- **Venv**:\n",
        "  - 기본적인 파이썬 개발 환경이 필요한 경우에 적합합니다.\n",
        "  - 가벼운 프로젝트나 파이썬 학습, 작은 규모의 웹 애플리케이션 개발에 주로 사용됩니다.\n",
        "\n",
        "### <span style = \"color: #FFC530\">**결론**\n",
        "- **Conda**: 데이터 과학, 머신러닝, 복잡한 의존성을 가진 프로젝트에 적합\n",
        "- **Venv**: 일반적인 파이썬 개발에 적합, 가볍고 간단한 프로젝트에 추천\n",
        "\n",
        "\n",
        "\n"
      ],
      "metadata": {
        "id": "biDY9twfgMEh"
      }
    },
    {
      "cell_type": "code",
      "source": [
        "def 인사말(이름):\n",
        "    print(\"안녕하세요,\", 이름)\n",
        "\n",
        "인사말(\"지수\")  # '지수'가 인자입니다.\n"
      ],
      "metadata": {
        "colab": {
          "base_uri": "https://localhost:8080/"
        },
        "id": "ZHeX0Omlg-rr",
        "outputId": "c29a9dc0-808f-49cd-c3b8-a740ada2ebbf"
      },
      "execution_count": 1,
      "outputs": [
        {
          "output_type": "stream",
          "name": "stdout",
          "text": [
            "안녕하세요, 지수\n"
          ]
        }
      ]
    },
    {
      "cell_type": "markdown",
      "source": [
        "### 2. args의 이해\n",
        "\n",
        "**args란 무엇인가?**\n",
        "\n",
        "- **정의**: `args`는 파이썬 함수에서 사용되는 *가변 인자(variable argument)* 입니다. 이는 함수에 임의의 개수의 인자를 전달할 수 있게 해줍니다.\n",
        "- **표기법**: `*args`의 형태로 사용되며, `*` 기호는 여러 개의 인자를 받을 수 있음을 나타냅니다.\n",
        "\n",
        "**args 사용 방법**\n",
        "\n",
        "- **기본 구조**: 함수 정의 시, 인자 목록에 `*args`를 포함시켜 사용합니다.\n",
        "- **예시**: `def 함수명(*args):`\n",
        "\n",
        "**args를 사용할 때의 코드 예시**\n",
        "\n",
        "```python\n",
        "def sum_numbers(*args):\n",
        "    return sum(args)\n",
        "\n",
        "# 함수 호출\n",
        "print(sum_numbers(10, 15, 20)) # Output: 45\n",
        "```\n",
        "\n",
        "- **코드 설명**: `sum_numbers` 함수는 여러 숫자를 받아 그 합을 반환합니다. `*args`를 사용하여 여러 개의 숫자를 인자로 전달할 수 있습니다.\n",
        "\n",
        "**args의 장점 및 주의사항**\n",
        "\n",
        "- **장점**:\n",
        "  - 유연성: 함수 호출 시 인자의 개수가 변동적일 때 유용합니다.\n",
        "  - 가독성: 코드를 간결하게 만들어 줍니다.\n",
        "\n",
        "- **주의사항**:\n",
        "  - 순서 중요: `*args`는 다른 명시된 인자들 뒤에 와야 합니다.\n",
        "  - 타입 제한 없음: 어떤 타입의 인자도 받을 수 있으므로, 함수 내부에서 타입 체크가 필요할 수 있습니다.\n",
        "\n",
        "**예상되는 질문과 답변**\n",
        "\n",
        "- **Q**: `*args`는 어떤 타입의 인자도 받을 수 있나요?\n",
        "- **A**: 네, 그렇습니다. `*args`는 어떤 타입의 인자도 받을 수 있으며, 함수 내에서 이를 적절히 처리해야 합니다.\n",
        "\n",
        "이러한 방식으로 `args`를 사용하면 파이썬 함수의 유연성과 가독성을 크게 향상시킬 수 있습니다. 다양한 상황에서 `args`를 활용해보시길 추천드립니다!"
      ],
      "metadata": {
        "id": "ZCiTN2rCiQ4X"
      }
    },
    {
      "cell_type": "code",
      "source": [
        "def sum_numbers(*args):\n",
        "    return sum(args)\n",
        "\n",
        "# 함수 호출\n",
        "print(sum_numbers(10, 15, 20)) # Output: 45\n",
        "\n"
      ],
      "metadata": {
        "colab": {
          "base_uri": "https://localhost:8080/"
        },
        "id": "7nawHVGZiS1I",
        "outputId": "855484d1-9db7-40ae-c167-b89b38a851a3"
      },
      "execution_count": 2,
      "outputs": [
        {
          "output_type": "stream",
          "name": "stdout",
          "text": [
            "45\n"
          ]
        }
      ]
    },
    {
      "cell_type": "markdown",
      "source": [
        "### 3. kwargs의 이해\n",
        "\n",
        "**kwargs란 무엇인가?**\n",
        "\n",
        "- **정의**: `kwargs`는 파이썬에서 *키워드 인자(keyword arguments)*의 집합을 나타내는 데 사용됩니다. 이것은 함수에 키워드 인자를 사전 형태로 전달할 수 있게 해주는 메커니즘입니다.\n",
        "- **표기법**: `**kwargs`의 형태로 사용되며, `**` 기호는 키워드 인자들을 사전 형태로 받을 수 있음을 나타냅니다.\n",
        "\n",
        "**kwargs 사용 방법**\n",
        "\n",
        "- **기본 구조**: 함수 정의 시, 인자 목록에 `**kwargs`를 포함하여 사용합니다.\n",
        "- **예시**: `def 함수명(**kwargs):`\n",
        "\n",
        "**kwargs를 사용할 때의 코드 예시**\n",
        "\n",
        "```python\n",
        "def greet_me(**kwargs):\n",
        "    for key, value in kwargs.items():\n",
        "        print(f\"{key}: {value}\")\n",
        "\n",
        "# 함수 호출\n",
        "greet_me(name=\"민준\", message=\"안녕하세요\")\n",
        "# Output:\n",
        "# name: 민준\n",
        "# message: 안녕하세요\n",
        "```\n",
        "\n",
        "- **코드 설명**: `greet_me` 함수는 키워드 인자로 전달된 모든 값들을 출력합니다. `**kwargs`를 사용하여 여러 개의 키워드 인자를 사전 형태로 받습니다.\n",
        "\n",
        "**kwargs의 장점 및 주의사항**\n",
        "\n",
        "- **장점**:\n",
        "  - 유연성: 함수에 여러 키워드 인자를 유연하게 전달할 수 있습니다.\n",
        "  - 명확성: 인자의 이름을 지정함으로써, 코드의 명확성이 향상됩니다.\n",
        "\n",
        "- **주의사항**:\n",
        "  - 순서 중요: `**kwargs`는 모든 위치 기반 인자(`*args`)와 명시된 인자들 뒤에 와야 합니다.\n",
        "  - 키 중복 주의: 같은 키 이름을 중복해서 사용하지 않도록 주의해야 합니다.\n",
        "\n",
        "**예상되는 질문과 답변**\n",
        "\n",
        "- **Q**: `**kwargs`를 사용할 때 인자의 순서가 중요한가요?\n",
        "- **A**: 네, 매우 중요합니다. `**kwargs`는 함수 정의에서 위치 기반 인자(`*args`)와 다른 명시된 인자들 뒤에 와야 합니다.\n",
        "\n",
        "`kwargs`를 사용함으로써 함수에 더 큰 유연성과 명확성을 부여할 수 있습니다. 다양한 매개변수를 키워드로 구분하여 사용하는 경우에 특히 유용합니다!"
      ],
      "metadata": {
        "id": "B0Mf3_EvilP1"
      }
    },
    {
      "cell_type": "code",
      "source": [
        "def greet_me(**kwargs):\n",
        "    for key, value in kwargs.items():\n",
        "        print(f\"{key}: {value}\")\n",
        "\n",
        "# 함수 호출\n",
        "greet_me(name=\"민준\", message=\"안녕하세요\")\n",
        "# Output:\n",
        "# name: 민준\n",
        "# message: 안녕하세요\n"
      ],
      "metadata": {
        "id": "f1YzmaKZinA5"
      },
      "execution_count": null,
      "outputs": []
    },
    {
      "cell_type": "code",
      "source": [
        "def create_user_profile(name, email, *args, **kwargs):\n",
        "    profile = {\n",
        "        \"name\": name,\n",
        "        \"email\": email,\n",
        "        \"interests\": args,\n",
        "        \"additional_info\": kwargs\n",
        "    }\n",
        "    return profile\n",
        "\n",
        "# 함수 호출 예시\n",
        "profile = create_user_profile(\"김지민\", \"jimin@example.com\", \"여행\", \"독서\", age=29, city=\"서울\")\n",
        "print(profile)\n",
        "# Output:\n",
        "# {\n",
        "#     'name': '김지민',\n",
        "#     'email': 'jimin@example.com',\n",
        "#     'interests': ('여행', '독서'),\n",
        "#     'additional_info': {'age': 29, 'city': '서울'}\n",
        "# }\n"
      ],
      "metadata": {
        "colab": {
          "base_uri": "https://localhost:8080/"
        },
        "id": "kiCIiXfpiTdc",
        "outputId": "c7e0354d-64de-4103-f641-5da85c6e3704"
      },
      "execution_count": 3,
      "outputs": [
        {
          "output_type": "stream",
          "name": "stdout",
          "text": [
            "{'name': '김지민', 'email': 'jimin@example.com', 'interests': ('여행', '독서'), 'additional_info': {'age': 29, 'city': '서울'}}\n"
          ]
        }
      ]
    },
    {
      "cell_type": "code",
      "source": [],
      "metadata": {
        "id": "FKcQK9Kypq4_"
      },
      "execution_count": null,
      "outputs": []
    }
  ]
}