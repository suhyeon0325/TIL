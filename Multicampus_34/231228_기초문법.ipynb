{
  "nbformat": 4,
  "nbformat_minor": 0,
  "metadata": {
    "colab": {
      "provenance": [],
      "authorship_tag": "ABX9TyMj69pBp/8FHtRiJx7tUQGU",
      "include_colab_link": true
    },
    "kernelspec": {
      "name": "python3",
      "display_name": "Python 3"
    },
    "language_info": {
      "name": "python"
    }
  },
  "cells": [
    {
      "cell_type": "markdown",
      "metadata": {
        "id": "view-in-github",
        "colab_type": "text"
      },
      "source": [
        "<a href=\"https://colab.research.google.com/github/suhyeon0325/multicamp34/blob/main/%EA%B8%B0%EC%B4%88%EB%AC%B8%EB%B2%95231228.ipynb\" target=\"_parent\"><img src=\"https://colab.research.google.com/assets/colab-badge.svg\" alt=\"Open In Colab\"/></a>"
      ]
    },
    {
      "cell_type": "markdown",
      "source": [
        "# 문자열 함수\n",
        "- 교재 (p.158)\n",
        "- 영어: function, method"
      ],
      "metadata": {
        "id": "tU-uj3GGxKDG"
      }
    },
    {
      "cell_type": "markdown",
      "source": [
        "split(): 문자열 분리"
      ],
      "metadata": {
        "id": "Q6mi89Y52tKw"
      }
    },
    {
      "cell_type": "code",
      "source": [
        "coffee_menu_str = \"에스프레소, 아메리카노, 카페라테, 카푸치노\"\n",
        "coffee_menu_str.split(',')\n",
        "\n",
        "# 결과해석\n",
        "# 내가 원하는 대로 결과가 나왔는가?\n",
        "# 반환값, Return 자료형 확인 필수"
      ],
      "metadata": {
        "colab": {
          "base_uri": "https://localhost:8080/"
        },
        "id": "qDzISMPyxW65",
        "outputId": "28c5b449-c837-4503-9b3e-2509381e6381"
      },
      "execution_count": 2,
      "outputs": [
        {
          "output_type": "execute_result",
          "data": {
            "text/plain": [
              "['에스프레소', ' 아메리카노', ' 카페라테', ' 카푸치노']"
            ]
          },
          "metadata": {},
          "execution_count": 2
        }
      ]
    },
    {
      "cell_type": "code",
      "source": [
        "\"에스프레소, 아메리카노, 카페라테, 카푸치노\".split(',')  # 패턴 발견"
      ],
      "metadata": {
        "colab": {
          "base_uri": "https://localhost:8080/"
        },
        "id": "Nx80kwlqxW2v",
        "outputId": "725b1b8a-df14-4224-83c7-69302d1e597e"
      },
      "execution_count": 3,
      "outputs": [
        {
          "output_type": "execute_result",
          "data": {
            "text/plain": [
              "['에스프레소', ' 아메리카노', ' 카페라테', ' 카푸치노']"
            ]
          },
          "metadata": {},
          "execution_count": 3
        }
      ]
    },
    {
      "cell_type": "code",
      "source": [
        "\"에스프레소 아메리카노 카페라테 카푸치노\".split(' ')"
      ],
      "metadata": {
        "colab": {
          "base_uri": "https://localhost:8080/"
        },
        "id": "amNMN4yRxWwp",
        "outputId": "2af91e48-bf3e-454d-9a01-4dd4497dffdc"
      },
      "execution_count": 4,
      "outputs": [
        {
          "output_type": "execute_result",
          "data": {
            "text/plain": [
              "['에스프레소', '아메리카노', '카페라테', '카푸치노']"
            ]
          },
          "metadata": {},
          "execution_count": 4
        }
      ]
    },
    {
      "cell_type": "code",
      "source": [
        "\"에스프레소.아메리카노.카페라테.카푸치노\".split('.')"
      ],
      "metadata": {
        "colab": {
          "base_uri": "https://localhost:8080/"
        },
        "id": "hrRwtVzjxWsk",
        "outputId": "681fd3d3-0f01-4a71-a500-a6b4bda37198"
      },
      "execution_count": 5,
      "outputs": [
        {
          "output_type": "execute_result",
          "data": {
            "text/plain": [
              "['에스프레소', '아메리카노', '카페라테', '카푸치노']"
            ]
          },
          "metadata": {},
          "execution_count": 5
        }
      ]
    },
    {
      "cell_type": "code",
      "source": [
        "phone_number = \"+82-01-2345-6789\"\n",
        "\n",
        "# +82만 추출\n",
        "print(phone_number[0:3])\n",
        "result = phone_number.split('-')\n",
        "print(result[0])"
      ],
      "metadata": {
        "colab": {
          "base_uri": "https://localhost:8080/"
        },
        "id": "Tkp3a6UExVRa",
        "outputId": "f6748243-5398-400b-c62a-bb03c10e310c"
      },
      "execution_count": 12,
      "outputs": [
        {
          "output_type": "stream",
          "name": "stdout",
          "text": [
            "+82\n",
            "+82\n"
          ]
        }
      ]
    },
    {
      "cell_type": "code",
      "source": [
        "# maxsplit, 매개변수 (arguments, parameters)\n",
        "result_1 = phone_number.split('-', maxsplit=1)\n",
        "print(result_1)\n",
        "result_2 = phone_number.split('-', maxsplit=2)\n",
        "print(result_2)"
      ],
      "metadata": {
        "colab": {
          "base_uri": "https://localhost:8080/"
        },
        "id": "YhJ73XGo00_6",
        "outputId": "749232ef-174c-4402-8c32-b5206d77f154"
      },
      "execution_count": 15,
      "outputs": [
        {
          "output_type": "stream",
          "name": "stdout",
          "text": [
            "['+82', '01-2345-6789']\n",
            "['+82', '01', '2345-6789']\n"
          ]
        }
      ]
    },
    {
      "cell_type": "markdown",
      "source": [
        "## strip(): 필요없는 문자열 삭제\n",
        "- 앞뒤 공백 혹은 개행문자와 같이 불필요한 부분을 지우고 싶을 때 사용\n",
        "\n"
      ],
      "metadata": {
        "id": "3ppOrFEM2zhf"
      }
    },
    {
      "cell_type": "code",
      "source": [
        "tempText = ' Python '\n",
        "tempText"
      ],
      "metadata": {
        "colab": {
          "base_uri": "https://localhost:8080/",
          "height": 35
        },
        "id": "yzFJ27l72QNa",
        "outputId": "d27cc46a-82f2-4ba6-c94b-9499694dd7b3"
      },
      "execution_count": 18,
      "outputs": [
        {
          "output_type": "execute_result",
          "data": {
            "text/plain": [
              "' Python '"
            ],
            "application/vnd.google.colaboratory.intrinsic+json": {
              "type": "string"
            }
          },
          "metadata": {},
          "execution_count": 18
        }
      ]
    },
    {
      "cell_type": "code",
      "source": [
        "tempText.strip()"
      ],
      "metadata": {
        "colab": {
          "base_uri": "https://localhost:8080/",
          "height": 35
        },
        "id": "FEMGywjQ3nRz",
        "outputId": "96a3b488-b0a8-4e2f-93f9-9107025197e4"
      },
      "execution_count": 20,
      "outputs": [
        {
          "output_type": "execute_result",
          "data": {
            "text/plain": [
              "'Python'"
            ],
            "application/vnd.google.colaboratory.intrinsic+json": {
              "type": "string"
            }
          },
          "metadata": {},
          "execution_count": 20
        }
      ]
    },
    {
      "cell_type": "code",
      "source": [
        "tempText = 'aaaPythonaaa'\n",
        "tempText[3:9]  # 다중텍스트에서는 적절한 방법이 아님"
      ],
      "metadata": {
        "colab": {
          "base_uri": "https://localhost:8080/",
          "height": 35
        },
        "id": "YlIecf7L3lLS",
        "outputId": "fee9aab6-af64-4b79-b860-11eeecb42b90"
      },
      "execution_count": 24,
      "outputs": [
        {
          "output_type": "execute_result",
          "data": {
            "text/plain": [
              "'Python'"
            ],
            "application/vnd.google.colaboratory.intrinsic+json": {
              "type": "string"
            }
          },
          "metadata": {},
          "execution_count": 24
        }
      ]
    },
    {
      "cell_type": "code",
      "source": [
        "tempText.strip('a')"
      ],
      "metadata": {
        "colab": {
          "base_uri": "https://localhost:8080/",
          "height": 35
        },
        "id": "BuuzB5eb15hK",
        "outputId": "eac5b404-1241-4eaa-eb39-d7131efef4ef"
      },
      "execution_count": 28,
      "outputs": [
        {
          "output_type": "execute_result",
          "data": {
            "text/plain": [
              "'Python'"
            ],
            "application/vnd.google.colaboratory.intrinsic+json": {
              "type": "string"
            }
          },
          "metadata": {},
          "execution_count": 28
        }
      ]
    },
    {
      "cell_type": "code",
      "source": [
        "tempText = 'aaaaabbPythonbbaaaaaa'\n",
        "tempText\n",
        "\n",
        "result = tempText.strip('a')\n",
        "result.strip('b')"
      ],
      "metadata": {
        "colab": {
          "base_uri": "https://localhost:8080/",
          "height": 35
        },
        "id": "k3f2zQwj4eRy",
        "outputId": "8504428f-34d2-4235-ed9e-3ecd31086950"
      },
      "execution_count": 29,
      "outputs": [
        {
          "output_type": "execute_result",
          "data": {
            "text/plain": [
              "'Python'"
            ],
            "application/vnd.google.colaboratory.intrinsic+json": {
              "type": "string"
            }
          },
          "metadata": {},
          "execution_count": 29
        }
      ]
    },
    {
      "cell_type": "code",
      "source": [
        "tempText.strip('ab')  # 특수문자 활용도 가능\n",
        "\n",
        "# 코딩은 1가지의 정담이 있는 것이 아님\n",
        "# 여러가지 정답 중에서 효율적인 정답을 찾는 과정이 코딩"
      ],
      "metadata": {
        "colab": {
          "base_uri": "https://localhost:8080/",
          "height": 35
        },
        "id": "gkmq2xPi43_F",
        "outputId": "dfd477d2-14db-4abb-d3d1-810095acb8a6"
      },
      "execution_count": 31,
      "outputs": [
        {
          "output_type": "execute_result",
          "data": {
            "text/plain": [
              "'Python'"
            ],
            "application/vnd.google.colaboratory.intrinsic+json": {
              "type": "string"
            }
          },
          "metadata": {},
          "execution_count": 31
        }
      ]
    },
    {
      "cell_type": "code",
      "source": [
        "tempText = '\\n Python \\n\\n'\n",
        "tempText.strip(' \\n')\n",
        "\n",
        "# lstrip(): 해당 텍스트의 왼쪽\n",
        "# rstrip(): 해당 텍스트의 오른쪽"
      ],
      "metadata": {
        "colab": {
          "base_uri": "https://localhost:8080/",
          "height": 35
        },
        "id": "axb-h0Zl5Q_7",
        "outputId": "2eea3417-8eac-4ebc-c0d8-a4cac14a429b"
      },
      "execution_count": 33,
      "outputs": [
        {
          "output_type": "execute_result",
          "data": {
            "text/plain": [
              "'Python'"
            ],
            "application/vnd.google.colaboratory.intrinsic+json": {
              "type": "string"
            }
          },
          "metadata": {},
          "execution_count": 33
        }
      ]
    },
    {
      "cell_type": "markdown",
      "source": [
        "## join(): 문자열 연결\n",
        "- 더하기 연산자(+)로 두 문자열을 연결 가능"
      ],
      "metadata": {
        "id": "UIw-nUhc-BD9"
      }
    },
    {
      "cell_type": "code",
      "source": [
        "name1 = '철수'\n",
        "name2 = '영미'\n",
        "\n",
        "hello = '님, 주소와 전화 번호를 입력해 주세요'\n",
        "\n",
        "print(name1 + hello)\n",
        "print(name2 + hello)"
      ],
      "metadata": {
        "colab": {
          "base_uri": "https://localhost:8080/"
        },
        "id": "xCI1RJAR9YLz",
        "outputId": "5a85760c-2ab9-4c8b-c8f6-0ab0111afb70"
      },
      "execution_count": 34,
      "outputs": [
        {
          "output_type": "stream",
          "name": "stdout",
          "text": [
            "철수님, 주소와 전화 번호를 입력해 주세요\n",
            "영미님, 주소와 전화 번호를 입력해 주세요\n"
          ]
        }
      ]
    },
    {
      "cell_type": "code",
      "source": [
        "address_list = ['서울시', '서초구', '반포대로', '201(반포동)']\n",
        "\n",
        "# 리스트의 각 값을 모두 연결해서 하나의 텍스트로\n",
        "a = \" \"\n",
        "print(a.join(address_list))\n",
        "b = \"^^\"\n",
        "print(b.join(address_list))"
      ],
      "metadata": {
        "colab": {
          "base_uri": "https://localhost:8080/"
        },
        "id": "cbzAQV8Y46Pt",
        "outputId": "b1df562a-d00f-49f2-db12-e7a69096b7a3"
      },
      "execution_count": 36,
      "outputs": [
        {
          "output_type": "stream",
          "name": "stdout",
          "text": [
            "서울시 서초구 반포대로 201(반포동)\n",
            "서울시^^서초구^^반포대로^^201(반포동)\n"
          ]
        }
      ]
    },
    {
      "cell_type": "code",
      "source": [
        "\" \".join(address_list)"
      ],
      "metadata": {
        "colab": {
          "base_uri": "https://localhost:8080/",
          "height": 35
        },
        "id": "aJcIQuoMAVUz",
        "outputId": "cd3e8b6e-8133-45a9-ae20-acd418b9ad5a"
      },
      "execution_count": 38,
      "outputs": [
        {
          "output_type": "execute_result",
          "data": {
            "text/plain": [
              "'서울시 서초구 반포대로 201(반포동)'"
            ],
            "application/vnd.google.colaboratory.intrinsic+json": {
              "type": "string"
            }
          },
          "metadata": {},
          "execution_count": 38
        }
      ]
    },
    {
      "cell_type": "markdown",
      "source": [
        "## find(): 문자열 찾기\n",
        "- 문자열의 위치 값을 반환"
      ],
      "metadata": {
        "id": "niEErDnBABSU"
      }
    },
    {
      "cell_type": "code",
      "source": [
        "str_f = 'Python code.'\n",
        "print(\"찾는 문자열의 위치:\", str_f.find('Python'))\n",
        "print(\"찾는 문자열의 위치:\", str_f.find('Java'))  # -1은 해당되는 문자 없음"
      ],
      "metadata": {
        "colab": {
          "base_uri": "https://localhost:8080/"
        },
        "id": "-PbA3fmaAA-v",
        "outputId": "0c1c2c69-ab2b-4a5d-ee6d-4ac665f2db36"
      },
      "execution_count": 40,
      "outputs": [
        {
          "output_type": "stream",
          "name": "stdout",
          "text": [
            "찾는 문자열의 위치: 0\n",
            "찾는 문자열의 위치: -1\n"
          ]
        }
      ]
    },
    {
      "cell_type": "markdown",
      "source": [
        "## count(): 찾고자 하는 문자열의 갯수 반환\n",
        "- 만약, 찾을 문자열이 없으면 0으로 반환"
      ],
      "metadata": {
        "id": "SnTqfkoxDJv4"
      }
    },
    {
      "cell_type": "code",
      "source": [
        "str_c = \"Python is powerful. Python is easy to learn. Python is open\"\n",
        "print(\"Python의 갯수는?\", str_c.count(\"Python\"))\n",
        "print(\"Python의 갯수는?\", str_c.count(\"powerful\"))\n",
        "print(\"Python의 갯수는?\", str_c.count(\"Java\"))"
      ],
      "metadata": {
        "colab": {
          "base_uri": "https://localhost:8080/"
        },
        "id": "0VDDfTQlDXOa",
        "outputId": "0822de9e-61b3-48e6-9ba0-34ef526e99d6"
      },
      "execution_count": 42,
      "outputs": [
        {
          "output_type": "stream",
          "name": "stdout",
          "text": [
            "Python의 갯수는? 3\n",
            "Python의 갯수는? 1\n",
            "Python의 갯수는? 0\n"
          ]
        }
      ]
    },
    {
      "cell_type": "markdown",
      "source": [
        "## startswith, endswith\n",
        "- 각 문자열이 지정된 문자로 시작하는지 또는 끝나는지 체크(검사)할 때 사용"
      ],
      "metadata": {
        "id": "I869jN6OECBq"
      }
    },
    {
      "cell_type": "code",
      "source": [
        "str_c = \"Python is powerful. Python is easy to learn. Python is open.\"\n",
        "print(\"Python으로 시작?\", str_c.startswith('Python'))\n",
        "print(\"Python으로 시작?\", str_c.startswith('is'))\n",
        "print(\"Python으로 시작?\", str_c.endswith('.'))\n",
        "print(\"Python으로 시작?\", str_c.endswith('!'))"
      ],
      "metadata": {
        "colab": {
          "base_uri": "https://localhost:8080/"
        },
        "id": "bK2BdjTCDqse",
        "outputId": "f76235db-1fb2-4cd4-cf3d-0cba180fe45f"
      },
      "execution_count": 46,
      "outputs": [
        {
          "output_type": "stream",
          "name": "stdout",
          "text": [
            "Python으로 시작? True\n",
            "Python으로 시작? False\n",
            "Python으로 시작? True\n",
            "Python으로 시작? False\n"
          ]
        }
      ]
    },
    {
      "cell_type": "markdown",
      "source": [
        "## replace(): 문자열 바꾸기\n",
        "- 지정한 문자열을 찾아서 바꾸는 메서드"
      ],
      "metadata": {
        "id": "S3Jcsa3aE6d0"
      }
    },
    {
      "cell_type": "code",
      "source": [
        "str_a = 'Python is fast. Python is friendly. Python is open.'\n",
        "\n",
        "# Python -> IPython\n",
        "print(str_a.replace('Python', 'IPython'))"
      ],
      "metadata": {
        "colab": {
          "base_uri": "https://localhost:8080/"
        },
        "id": "WAZ106sBBb7G",
        "outputId": "69bc46c9-8fc2-479c-efbb-a38629bed052"
      },
      "execution_count": 48,
      "outputs": [
        {
          "output_type": "stream",
          "name": "stdout",
          "text": [
            "IPython is fast. IPython is friendly. IPython is open.\n"
          ]
        }
      ]
    },
    {
      "cell_type": "code",
      "source": [
        "str_b = '[Python][is][fast]'\n",
        "str_b1 = str_b.replace('[', '')\n",
        "str_b2 = str_b1.replace(']',' ')\n",
        "print(str_b1)\n"
      ],
      "metadata": {
        "colab": {
          "base_uri": "https://localhost:8080/"
        },
        "id": "3AfX8WcfFoCs",
        "outputId": "06873a99-f783-4d29-c48b-eca1552a85b7"
      },
      "execution_count": 61,
      "outputs": [
        {
          "output_type": "stream",
          "name": "stdout",
          "text": [
            "Python]is]fast]\n"
          ]
        }
      ]
    },
    {
      "cell_type": "code",
      "source": [
        "str_b2"
      ],
      "metadata": {
        "colab": {
          "base_uri": "https://localhost:8080/",
          "height": 35
        },
        "id": "x24MtoZ7GAeV",
        "outputId": "c4282fad-a83d-4d67-dc85-51fda3c00439"
      },
      "execution_count": 58,
      "outputs": [
        {
          "output_type": "execute_result",
          "data": {
            "text/plain": [
              "'Python is fast '"
            ],
            "application/vnd.google.colaboratory.intrinsic+json": {
              "type": "string"
            }
          },
          "metadata": {},
          "execution_count": 58
        }
      ]
    },
    {
      "cell_type": "code",
      "source": [
        "str_b2.rstrip()  # 마지막 공백 사라짐"
      ],
      "metadata": {
        "colab": {
          "base_uri": "https://localhost:8080/",
          "height": 35
        },
        "id": "gQvZ6YpeF7KR",
        "outputId": "397aca56-8688-4dfd-90b2-f3d04a71be6c"
      },
      "execution_count": 60,
      "outputs": [
        {
          "output_type": "execute_result",
          "data": {
            "text/plain": [
              "'Python is fast'"
            ],
            "application/vnd.google.colaboratory.intrinsic+json": {
              "type": "string"
            }
          },
          "metadata": {},
          "execution_count": 60
        }
      ]
    },
    {
      "cell_type": "markdown",
      "source": [
        "# 리스트 함수\n",
        "- 교재 p. 52\n",
        "- 처음에는 프로그래밍 공부할 때,\n",
        "  + 1차는 교재 확인\n",
        "  + 프로젝트 진행 시 ==> 공식문서에 친숙\n",
        "  + 라이브러리 사용할 때, 공식문서를 보는 훈련을 계속 해야함"
      ],
      "metadata": {
        "id": "X1ZMZW4nxJ7r"
      }
    },
    {
      "cell_type": "markdown",
      "source": [
        "## append()\n",
        "- 리스트에 항목 하나를 맨 마지막에 추가"
      ],
      "metadata": {
        "id": "RNQtas3CN6Yc"
      }
    },
    {
      "cell_type": "code",
      "source": [
        "myFriends = ['James', 'Robert', 'Lisa', 'Mary'] # 문법 비교\n",
        "myFriends.append('Thomas')\n",
        "print(myFriends)\n",
        "\n",
        "result = myFriends.append('Thomas') # 문법 비교\n",
        "print(result)"
      ],
      "metadata": {
        "colab": {
          "base_uri": "https://localhost:8080/"
        },
        "id": "3BSdAx34xWQI",
        "outputId": "87c08655-1bc9-48a2-ff33-9cff99245fa0"
      },
      "execution_count": 67,
      "outputs": [
        {
          "output_type": "stream",
          "name": "stdout",
          "text": [
            "['James', 'Robert', 'Lisa', 'Mary', 'Thomas']\n",
            "None\n"
          ]
        }
      ]
    },
    {
      "cell_type": "code",
      "source": [
        "myFriends = ['James', 'Robert', 'Lisa', 'Mary']\n",
        "myFriends.append('Thomas')\n",
        "\n",
        "newFriends = ['A', 'B', 'C']\n",
        "myFriends.append(newFriends)\n",
        "myFriends"
      ],
      "metadata": {
        "colab": {
          "base_uri": "https://localhost:8080/"
        },
        "id": "byCdGI2BxWKx",
        "outputId": "e4cac213-4702-4c4f-8b75-50a19988f3e3"
      },
      "execution_count": 68,
      "outputs": [
        {
          "output_type": "execute_result",
          "data": {
            "text/plain": [
              "['James', 'Robert', 'Lisa', 'Mary', 'Thomas', ['A', 'B', 'C']]"
            ]
          },
          "metadata": {},
          "execution_count": 68
        }
      ]
    },
    {
      "cell_type": "markdown",
      "source": [
        "extend()\n",
        "- 리스트에서 항목 여러개를 맨 마지막에 추가"
      ],
      "metadata": {
        "id": "0StXeK9AP-UT"
      }
    },
    {
      "cell_type": "code",
      "source": [
        "myFriends = ['James', 'Robert', 'Lisa', 'Mary']\n",
        "myFriends.append('Thomas')\n",
        "\n",
        "newFriends = ['A', 'B', 'C']\n",
        "myFriends.extend(newFriends)\n",
        "myFriends"
      ],
      "metadata": {
        "colab": {
          "base_uri": "https://localhost:8080/"
        },
        "id": "8IjZfyuqxWFB",
        "outputId": "884641a4-cb5f-4b43-8795-1ec5317671e0"
      },
      "execution_count": 70,
      "outputs": [
        {
          "output_type": "execute_result",
          "data": {
            "text/plain": [
              "['James', 'Robert', 'Lisa', 'Mary', 'Thomas', 'A', 'B', 'C']"
            ]
          },
          "metadata": {},
          "execution_count": 70
        }
      ]
    },
    {
      "cell_type": "markdown",
      "source": [
        "## insert()\n",
        "- 항목의 위치를 나타내는 인덱스 i에 data를 삽입"
      ],
      "metadata": {
        "id": "VkqZui6UQL3p"
      }
    },
    {
      "cell_type": "code",
      "source": [
        "myFriends = ['James', 'Robert', 'Lisa', 'Mary']\n",
        "myFriends.insert(1, 'Evan')\n",
        "print(myFriends)"
      ],
      "metadata": {
        "colab": {
          "base_uri": "https://localhost:8080/"
        },
        "id": "ZZf5tcIUxV-Q",
        "outputId": "ed34d356-1ec3-478c-83c6-abe7019b10bf"
      },
      "execution_count": 71,
      "outputs": [
        {
          "output_type": "stream",
          "name": "stdout",
          "text": [
            "['James', 'Evan', 'Robert', 'Lisa', 'Mary']\n"
          ]
        }
      ]
    },
    {
      "cell_type": "markdown",
      "source": [
        "# 클래스"
      ],
      "metadata": {
        "id": "Kqt0wMXXxJh-"
      }
    },
    {
      "cell_type": "markdown",
      "source": [
        "## 함수\n",
        "- 다른 개발자 분들이 만들어 놓은 함수를 갖다 씀\n",
        "- 이번 시간에 해야 하는 것: 우리가 함수를 직접 만들자!\n",
        "  + 의미있는 함수를 만드는 것이 프로젝트\n",
        "- 프로그래밍을 한다! ==> 재실행할거다!, 재실행 또는 반복 실행을 하기 위한 방법론: **함수**\n",
        "- 언제 함수를 만들어야 할까?\n",
        "  + 매일 매일 뭔가 반복적일 것 같은 느낌이 들때 만들면 됨\n",
        "  + **분석 프로젝트 시, 새로운 파생 변수 만드는 메서드를 정의**\n",
        "  + **개발자 분들: 속도를 빠르게 만들어주는 함수, ETL을 효율적으로 해주는 함수**\n"
      ],
      "metadata": {
        "id": "s1REtuK2nh7f"
      }
    },
    {
      "cell_type": "code",
      "execution_count": null,
      "metadata": {
        "id": "reVN4be8w9Vg"
      },
      "outputs": [],
      "source": [
        "# 함수의 구조\n",
        "# 매개변수, 인자 (p. 116)\n",
        "def 함수명([인자 1, 인자 2, ..., 인자 n]):\n",
        "   # 코드 블록  #indentation\n",
        "   return 반환값"
      ]
    },
    {
      "cell_type": "code",
      "source": [
        "def mySum(a, b):\n",
        "  c = a + b\n",
        "  return c"
      ],
      "metadata": {
        "id": "Rr1EIAcgxJHq"
      },
      "execution_count": 72,
      "outputs": []
    },
    {
      "cell_type": "code",
      "source": [
        "a = 1\n",
        "b = 1\n",
        "\n",
        "result = mySum(a, b)\n",
        "print(result)"
      ],
      "metadata": {
        "colab": {
          "base_uri": "https://localhost:8080/"
        },
        "id": "AdCV4coUxXw9",
        "outputId": "c8203810-50c3-4ce4-8d1e-9b26596bb302"
      },
      "execution_count": 73,
      "outputs": [
        {
          "output_type": "stream",
          "name": "stdout",
          "text": [
            "2\n"
          ]
        }
      ]
    },
    {
      "cell_type": "code",
      "source": [
        "def mySubtract(c, d):\n",
        "  e = c - d\n",
        "  return e\n",
        "\n",
        "c = 8\n",
        "d = 4\n",
        "\n",
        "result = mySubtract(c, d)\n",
        "print(result)"
      ],
      "metadata": {
        "colab": {
          "base_uri": "https://localhost:8080/"
        },
        "id": "0ewaraxwxXtk",
        "outputId": "f38f65bf-eb99-4ef0-ddbf-1a36ccb0d8b7"
      },
      "execution_count": 74,
      "outputs": [
        {
          "output_type": "stream",
          "name": "stdout",
          "text": [
            "4\n"
          ]
        }
      ]
    },
    {
      "cell_type": "code",
      "source": [
        "x = 3\n",
        "y = 1\n",
        "\n",
        "result = mySubtract(x,y)\n",
        "print(result)"
      ],
      "metadata": {
        "colab": {
          "base_uri": "https://localhost:8080/"
        },
        "id": "WT5qGCf6xXrh",
        "outputId": "8ddec0ea-9910-461f-a42d-fdd3a4cdc7f4"
      },
      "execution_count": 75,
      "outputs": [
        {
          "output_type": "stream",
          "name": "stdout",
          "text": [
            "2\n"
          ]
        }
      ]
    },
    {
      "cell_type": "code",
      "source": [
        "def mySubtract(a, b = 0):  # b의 초깃값으로 0 설정\n",
        "  c = a - b\n",
        "  return c\n",
        "\n",
        "M = 10\n",
        "N = 100\n",
        "result = mySubtract(M, N)  # b가 0 => 100으로 변경\n",
        "print(result)"
      ],
      "metadata": {
        "colab": {
          "base_uri": "https://localhost:8080/"
        },
        "id": "A-gOR25KtA48",
        "outputId": "9813bae4-2d3d-48d2-c4a9-83a5938bada7"
      },
      "execution_count": 78,
      "outputs": [
        {
          "output_type": "stream",
          "name": "stdout",
          "text": [
            "-90\n"
          ]
        }
      ]
    },
    {
      "cell_type": "code",
      "source": [
        "def my_func():\n",
        "  print(\"My first function\")\n",
        "  print(\"This is a function!\")\n",
        "\n",
        "\n",
        "result = mySubtract(M, N)  # 반환갓이 있는 메서드\n",
        "my_func()  # 반환값이 없는 메서드"
      ],
      "metadata": {
        "colab": {
          "base_uri": "https://localhost:8080/"
        },
        "id": "NKVZat67wB0A",
        "outputId": "919b1a4d-5960-4e4f-c306-018408539105"
      },
      "execution_count": 80,
      "outputs": [
        {
          "output_type": "stream",
          "name": "stdout",
          "text": [
            "My first function\n",
            "This is a function!\n"
          ]
        }
      ]
    },
    {
      "cell_type": "code",
      "source": [
        "def mySum(a, b = 0):\n",
        "  c = a + b\n",
        "  print(f'함수 잘 작동 중? {c}')\n",
        "\n",
        "a = 1\n",
        "result = mySum(a)\n",
        "print(result)  # 반환값이 없어서 none"
      ],
      "metadata": {
        "colab": {
          "base_uri": "https://localhost:8080/"
        },
        "id": "glzWQJ5X0rcu",
        "outputId": "4383c1ad-42d2-4c3b-c811-d98b6ac632ff"
      },
      "execution_count": 81,
      "outputs": [
        {
          "output_type": "stream",
          "name": "stdout",
          "text": [
            "함수 잘 작동 중? 1\n",
            "None\n"
          ]
        }
      ]
    },
    {
      "cell_type": "code",
      "source": [
        "def mySum(a, b = 0):\n",
        "  c = a + b\n",
        "  # print(f'함수 잘 작동 중? {c}')\n",
        "  return c\n",
        "\n",
        "a = 1\n",
        "result = mySum(a)\n",
        "print(result)"
      ],
      "metadata": {
        "colab": {
          "base_uri": "https://localhost:8080/"
        },
        "id": "40dyDfOB1mIe",
        "outputId": "68673059-bc72-46e1-9bd5-a7ae49eb1a81"
      },
      "execution_count": 82,
      "outputs": [
        {
          "output_type": "stream",
          "name": "stdout",
          "text": [
            "1\n"
          ]
        }
      ]
    },
    {
      "cell_type": "markdown",
      "source": [
        "### 변수의 유효범위\n",
        "- p121\n",
        "- 지역 변수 & 전역 변수\n",
        "- Local Variable & Global Variable"
      ],
      "metadata": {
        "id": "gCo6vtpP2Hcb"
      }
    },
    {
      "cell_type": "code",
      "source": [
        "a = 5  # 전역 변수\n",
        "\n",
        "def func1():\n",
        "  a = 1  # 지역 변수\n",
        "  print(f'func1 지역 변수 a = {a}')  # 함수 내부에서만 사용\n",
        "\n",
        "func1()\n",
        "print(f'전역 변수 a = {a}')"
      ],
      "metadata": {
        "colab": {
          "base_uri": "https://localhost:8080/"
        },
        "id": "I3XWOv5c2YJP",
        "outputId": "5f69be48-7787-4b14-c3b7-fcf19f2ec544"
      },
      "execution_count": 84,
      "outputs": [
        {
          "output_type": "stream",
          "name": "stdout",
          "text": [
            "func1 지역 변수 a = 1\n",
            "전역 변수 a = 5\n"
          ]
        }
      ]
    },
    {
      "cell_type": "code",
      "source": [
        "a = 5  # 전역 변수\n",
        "\n",
        "def func1():\n",
        "  # a = 1  # 지역 변수\n",
        "  print(f'func1 지역 변수 a = {a}')  # 함수 내부에서 재정의 하지 않으면 전역 변수가 함수 내부에도 영향을 미침\n",
        "\n",
        "func1()\n",
        "print(f'전역 변수 a = {a}')"
      ],
      "metadata": {
        "colab": {
          "base_uri": "https://localhost:8080/"
        },
        "id": "SQvJRnWU2KfT",
        "outputId": "29e894fa-10d4-42af-9e10-83bb273bb1db"
      },
      "execution_count": 85,
      "outputs": [
        {
          "output_type": "stream",
          "name": "stdout",
          "text": [
            "func1 지역 변수 a = 5\n",
            "전역 변수 a = 5\n"
          ]
        }
      ]
    },
    {
      "cell_type": "code",
      "source": [
        "a = 5  # 전역 변수\n",
        "\n",
        "def func1():\n",
        "  # a = 1  # 지역 변수\n",
        "  print(f'func1 지역 변수 a = {a}')  # 함수 내부에서 재정의 하지 않으면 전역 변수가 함수 내부에도 영향을 미침\n",
        "\n",
        "def func2():\n",
        "  a = 4\n",
        "  print(f'전역 변수 a = {a}')\n",
        "\n",
        "func1()\n",
        "func2()\n",
        "print(f'전역 변수 a = {a}')"
      ],
      "metadata": {
        "colab": {
          "base_uri": "https://localhost:8080/"
        },
        "id": "fVWQ8P7B1sfX",
        "outputId": "841b5696-ad55-4c2a-ecf1-4fe9082c3a57"
      },
      "execution_count": 87,
      "outputs": [
        {
          "output_type": "stream",
          "name": "stdout",
          "text": [
            "func1 지역 변수 a = 5\n",
            "전역 변수 a = 4\n",
            "전역 변수 a = 5\n"
          ]
        }
      ]
    },
    {
      "cell_type": "code",
      "source": [
        "a = 5  # 전역 변수\n",
        "\n",
        "def func1():\n",
        "  a = 1  # 지역 변수\n",
        "  print(f'func1 지역 변수 a = {a}')  # 함수 내부에서 재정의 하지 않으면 전역 변수가 함수 내부에도 영향을 미침\n",
        "\n",
        "def func2():\n",
        "  a = 4\n",
        "  print(f'전역 변수 a = {a}')\n",
        "\n",
        "def func3():\n",
        "  print(f'func3 전역 변수 a = {a}')\n",
        "\n",
        "func1()\n",
        "func2()\n",
        "func3()\n",
        "print(f'전역 변수 a = {a}')"
      ],
      "metadata": {
        "colab": {
          "base_uri": "https://localhost:8080/"
        },
        "id": "8QvDVe9z4Ue-",
        "outputId": "2fee31c8-4019-4353-c1d6-bc9b740019d8"
      },
      "execution_count": 92,
      "outputs": [
        {
          "output_type": "stream",
          "name": "stdout",
          "text": [
            "func1 지역 변수 a = 1\n",
            "전역 변수 a = 4\n",
            "func3 전역 변수 a = 5\n",
            "전역 변수 a = 5\n"
          ]
        }
      ]
    },
    {
      "cell_type": "code",
      "source": [
        "a = 5  # 전역 변수\n",
        "\n",
        "def func1():\n",
        "  a = 1  # 지역 변수\n",
        "  print(f'func1 지역 변수 a = {a}')  # 함수 내부에서 재정의 하지 않으면 전역 변수가 함수 내부에도 영향을 미침\n",
        "\n",
        "def func2():\n",
        "  a = 4  # 지역 변수\n",
        "  print(f'func2 지역 변수 a = {a}')\n",
        "\n",
        "def func3():\n",
        "  print(f'func3 전역 변수 a = {a}')\n",
        "\n",
        "def func4():\n",
        "  global a # 함수 내에서 전역 변수를 변경하기 위함\n",
        "  a = 500\n",
        "  print(f'func4 전역 변수 a = {a}')\n",
        "\n",
        "func1()\n",
        "func2()\n",
        "func3()\n",
        "func4()\n",
        "print(f'전역 변수 a = {a}')  # 여기도 500이 나오는 것이 포인트"
      ],
      "metadata": {
        "colab": {
          "base_uri": "https://localhost:8080/"
        },
        "id": "WCh4NNac0Q7m",
        "outputId": "a4b690be-fd27-40dd-b733-f3511eb63b53"
      },
      "execution_count": 93,
      "outputs": [
        {
          "output_type": "stream",
          "name": "stdout",
          "text": [
            "func1 지역 변수 a = 1\n",
            "func2 지역 변수 a = 4\n",
            "func3 전역 변수 a = 5\n",
            "func4 전역 변수 a = 500\n",
            "전역 변수 a = 500\n"
          ]
        }
      ]
    },
    {
      "cell_type": "code",
      "source": [
        "func3()\n",
        "func2()"
      ],
      "metadata": {
        "colab": {
          "base_uri": "https://localhost:8080/"
        },
        "id": "wPhoMcgv44PA",
        "outputId": "c1c45ad9-e39c-4af2-dac4-7270d34cf20a"
      },
      "execution_count": 94,
      "outputs": [
        {
          "output_type": "stream",
          "name": "stdout",
          "text": [
            "func3 전역 변수 a = 500\n",
            "func2 지역 변수 a = 4\n"
          ]
        }
      ]
    },
    {
      "cell_type": "markdown",
      "source": [
        "### 람다 함수\n",
        "- def 함수 같은 경우에는 복잡한 함수 로직을 만들 때 주로 사용\n",
        "- 단순 기능을 수행할 때, 주로 lambda 함수\n",
        "  + 함수를 한 줄로 처리"
      ],
      "metadata": {
        "id": "HjbNL5xT6vY8"
      }
    },
    {
      "cell_type": "markdown",
      "source": [],
      "metadata": {
        "id": "4-9vjJEX6vTS"
      }
    },
    {
      "cell_type": "code",
      "source": [
        "(lambda x: x ** 2)(3)"
      ],
      "metadata": {
        "colab": {
          "base_uri": "https://localhost:8080/"
        },
        "id": "Rk6SKecP5yGj",
        "outputId": "a4200a84-5b11-4f12-9139-b5a2f9b6afa7"
      },
      "execution_count": 95,
      "outputs": [
        {
          "output_type": "execute_result",
          "data": {
            "text/plain": [
              "9"
            ]
          },
          "metadata": {},
          "execution_count": 95
        }
      ]
    },
    {
      "cell_type": "code",
      "source": [
        "(lambda 인자(=매개변수): 인자를 활용한 코드) (원하는 인자 코드 입력)"
      ],
      "metadata": {
        "colab": {
          "base_uri": "https://localhost:8080/",
          "height": 147
        },
        "id": "9lAsJabL7tiz",
        "outputId": "fdaec62a-59fd-4564-dd90-929e9e932f03"
      },
      "execution_count": 97,
      "outputs": [
        {
          "output_type": "error",
          "ename": "SyntaxError",
          "evalue": "ignored",
          "traceback": [
            "\u001b[0;36m  File \u001b[0;32m\"<ipython-input-97-9f91b4632066>\"\u001b[0;36m, line \u001b[0;32m1\u001b[0m\n\u001b[0;31m    (lambda 인자(=매개변수): 인자를 활용한 코드) (원하는 인자 코드 입력)\u001b[0m\n\u001b[0m              ^\u001b[0m\n\u001b[0;31mSyntaxError\u001b[0m\u001b[0;31m:\u001b[0m invalid syntax\n"
          ]
        }
      ]
    },
    {
      "cell_type": "code",
      "source": [
        "mySquare = lambda x: x ** 2\n",
        "mySquare(5)"
      ],
      "metadata": {
        "colab": {
          "base_uri": "https://localhost:8080/"
        },
        "id": "rVDoUcTe8Ppy",
        "outputId": "e6d77da4-6507-4f55-b2e7-11f28196fdfd"
      },
      "execution_count": 98,
      "outputs": [
        {
          "output_type": "execute_result",
          "data": {
            "text/plain": [
              "25"
            ]
          },
          "metadata": {},
          "execution_count": 98
        }
      ]
    },
    {
      "cell_type": "code",
      "source": [
        "def myPower(x):\n",
        "  y = x ** 2\n",
        "  print(y)\n",
        "#  return y\n",
        "\n",
        "myPower(3)"
      ],
      "metadata": {
        "colab": {
          "base_uri": "https://localhost:8080/"
        },
        "id": "yEqh2BHv7Svv",
        "outputId": "53007d2a-6ec0-4e8f-df39-b1aa8cb4196b"
      },
      "execution_count": 96,
      "outputs": [
        {
          "output_type": "stream",
          "name": "stdout",
          "text": [
            "9\n"
          ]
        }
      ]
    },
    {
      "cell_type": "markdown",
      "source": [
        "## 클래스 선언과 객체 생성\n",
        "- 교재 p.135\n",
        "- 함수의 확장\n",
        "- 함수와 클래스 비유적으로 비교\n",
        "  + 함수: 각 덧셈함수, 뺄셈함수, 곱셈함수 등\n",
        "  + 클래스: 사칙연산 클래스 (예: 계산기)\n",
        "  + 라이브러리: 클래스들의 묶음\n",
        "    + 사칙연산 클래스\n",
        "    + 미분 클래스\n",
        "    + 적분 클래스\n",
        "    + etc..\n",
        "    + 수학 라이브러리"
      ],
      "metadata": {
        "id": "Uu8bgXtqBjjB"
      }
    },
    {
      "cell_type": "code",
      "source": [
        "# 자전거의 속성: data (바퀴의 크기, 자전거의 색상)\n",
        "# 자전거의 동작: method (=function), 지정된 속도로 이동, 좌/우회전, 정지 기능"
      ],
      "metadata": {
        "id": "vi7WqjwUEjPM"
      },
      "execution_count": null,
      "outputs": []
    },
    {
      "cell_type": "code",
      "source": [
        "class Bycycle(): # 클래스 선언\n",
        "  # 클래스 변수\n",
        "  데이터1 = 바퀴의 크기\n",
        "  데이터2 = 자전거의 색상\n",
        "\n",
        "  # 클래스 메서드\n",
        "  def 속도():\n",
        "    pass\n",
        "\n",
        "  def 방향():\n",
        "    pass\n",
        "\n",
        "  def 정지():\n",
        "    pass\n",
        "\n",
        "객체명 = Bycycle(데이터1, 데이터2)  # 입력한 형태로 새로운 객체가 막 생기는 것\n",
        "객체명"
      ],
      "metadata": {
        "id": "riPahyO5DoU5"
      },
      "execution_count": null,
      "outputs": []
    },
    {
      "cell_type": "code",
      "source": [
        "fruits = [1, 2, 3, 4, 5, 6, 7]\n",
        "\n",
        "# 리스트를 만든 사람이 count() 동작을 만듬\n",
        "fruits.count('apple')\n",
        "\n",
        "# 리스트에서 숫자가 있음\n",
        "# 리스트에는 숫자 덧셈 함수가 없다"
      ],
      "metadata": {
        "id": "pXFyM-LMGIfD"
      },
      "execution_count": null,
      "outputs": []
    },
    {
      "cell_type": "markdown",
      "source": [
        "### why Class? 프로그래밍 관점\n"
      ],
      "metadata": {
        "id": "8VOHLQcBJPaO"
      }
    },
    {
      "cell_type": "code",
      "source": [
        "result = 0\n",
        "def add(num):  # 계산기 1대를 보유한 상태\n",
        "  global result\n",
        "\n",
        "  result = result + num  # 결과값(result)에 입력값(num) 더하기\n",
        "  return result\n",
        "\n",
        "print(add(3))  # + 5 ==> 8\n",
        "print(add(5))\n",
        "print(add(10))"
      ],
      "metadata": {
        "colab": {
          "base_uri": "https://localhost:8080/"
        },
        "id": "X-WOHFUPJXgK",
        "outputId": "d0091b6b-3661-4589-d77e-565cad40e2a9"
      },
      "execution_count": 102,
      "outputs": [
        {
          "output_type": "stream",
          "name": "stdout",
          "text": [
            "3\n",
            "8\n",
            "18\n"
          ]
        }
      ]
    },
    {
      "cell_type": "markdown",
      "source": [
        "- 계산기 2대"
      ],
      "metadata": {
        "id": "PxNikZMeKcDy"
      }
    },
    {
      "cell_type": "code",
      "source": [
        "result1 = 0\n",
        "result2 = 0\n",
        "\n",
        "def add1(num):\n",
        "  global result1\n",
        "\n",
        "  result1 = result1 + num  # 결과값(result)에 입력값(num) 더하기\n",
        "  return result1\n",
        "\n",
        "def add2(num):\n",
        "  global result2\n",
        "\n",
        "  result2 = result2 + num  # 결과값(result)에 입력값(num) 더하기\n",
        "  return result2\n",
        "\n",
        "print(add1(3))\n",
        "print(add1(5))\n",
        "print(add2(3))\n",
        "print(add2(8))"
      ],
      "metadata": {
        "colab": {
          "base_uri": "https://localhost:8080/"
        },
        "id": "lwOOT8rFJjSc",
        "outputId": "be1295dd-cd68-46c5-b94c-9c03978648cc"
      },
      "execution_count": 103,
      "outputs": [
        {
          "output_type": "stream",
          "name": "stdout",
          "text": [
            "3\n",
            "8\n",
            "3\n",
            "11\n"
          ]
        }
      ]
    },
    {
      "cell_type": "markdown",
      "source": [
        "위 코드의 문제점\n",
        "- 같은 기능(덧셈)을 수행하는 함수가 중복될 수 있음\n",
        "- 코드의 가독성이 매우 급격하게 떨어지기 시작"
      ],
      "metadata": {
        "id": "_cRixX0uKe_d"
      }
    },
    {
      "cell_type": "code",
      "source": [
        "class Calculator:\n",
        "\n",
        "  def __init__(self):\n",
        "    self.result = 0  # result 값을 초기화\n",
        "\n",
        "  # 클래스 메서드\n",
        "  def add(self, num):\n",
        "    self.result = self.result + num\n",
        "    return self.result\n",
        "\n",
        "cal1 = Calculator() # 인스턴스화, 계산기 번호 1\n",
        "cal2 = Calculator() # 인스턴스화, 계산기 번호 2\n",
        "cal3 = Calculator()\n",
        "\n",
        "# 클래스의 위대함\n",
        "# 독립적으로 구현이 되면서, 동시에 실행이 되고 있음\n",
        "# 기능은 덧셈 기능\n",
        "# 계산기 댓수를 무한으로 생성 가능\n",
        "\n",
        "print(cal1.add(3))\n",
        "print(cal1.add(5))\n",
        "print(cal2.add(3))\n",
        "print(cal2.add(100))"
      ],
      "metadata": {
        "colab": {
          "base_uri": "https://localhost:8080/"
        },
        "id": "ImysucWJKlpB",
        "outputId": "73b830d5-7882-418b-d780-0c2b94509b23"
      },
      "execution_count": 111,
      "outputs": [
        {
          "output_type": "stream",
          "name": "stdout",
          "text": [
            "3\n",
            "8\n",
            "3\n",
            "103\n"
          ]
        }
      ]
    },
    {
      "cell_type": "code",
      "source": [
        "print(cal3.multiple(100))\n"
      ],
      "metadata": {
        "colab": {
          "base_uri": "https://localhost:8080/",
          "height": 183
        },
        "id": "e0GIM9a_Qdmh",
        "outputId": "088f9061-9ad4-4c50-ac2b-c47078993a13"
      },
      "execution_count": 112,
      "outputs": [
        {
          "output_type": "error",
          "ename": "AttributeError",
          "evalue": "ignored",
          "traceback": [
            "\u001b[0;31m---------------------------------------------------------------------------\u001b[0m",
            "\u001b[0;31mAttributeError\u001b[0m                            Traceback (most recent call last)",
            "\u001b[0;32m<ipython-input-112-da385e1c90de>\u001b[0m in \u001b[0;36m<cell line: 1>\u001b[0;34m()\u001b[0m\n\u001b[0;32m----> 1\u001b[0;31m \u001b[0mprint\u001b[0m\u001b[0;34m(\u001b[0m\u001b[0mcal3\u001b[0m\u001b[0;34m.\u001b[0m\u001b[0mmultiple\u001b[0m\u001b[0;34m(\u001b[0m\u001b[0;36m100\u001b[0m\u001b[0;34m)\u001b[0m\u001b[0;34m)\u001b[0m\u001b[0;34m\u001b[0m\u001b[0;34m\u001b[0m\u001b[0m\n\u001b[0m",
            "\u001b[0;31mAttributeError\u001b[0m: 'Calculator' object has no attribute 'multiple'"
          ]
        }
      ]
    },
    {
      "cell_type": "code",
      "source": [
        "print(cal3.Add(100))"
      ],
      "metadata": {
        "colab": {
          "base_uri": "https://localhost:8080/",
          "height": 183
        },
        "id": "iY2Jrp20Tvj4",
        "outputId": "3eec9ddf-0d70-472e-9958-74225eee607c"
      },
      "execution_count": 113,
      "outputs": [
        {
          "output_type": "error",
          "ename": "AttributeError",
          "evalue": "ignored",
          "traceback": [
            "\u001b[0;31m---------------------------------------------------------------------------\u001b[0m",
            "\u001b[0;31mAttributeError\u001b[0m                            Traceback (most recent call last)",
            "\u001b[0;32m<ipython-input-113-8a2a7f147476>\u001b[0m in \u001b[0;36m<cell line: 1>\u001b[0;34m()\u001b[0m\n\u001b[0;32m----> 1\u001b[0;31m \u001b[0mprint\u001b[0m\u001b[0;34m(\u001b[0m\u001b[0mcal3\u001b[0m\u001b[0;34m.\u001b[0m\u001b[0mAdd\u001b[0m\u001b[0;34m(\u001b[0m\u001b[0;36m100\u001b[0m\u001b[0;34m)\u001b[0m\u001b[0;34m)\u001b[0m\u001b[0;34m\u001b[0m\u001b[0;34m\u001b[0m\u001b[0m\n\u001b[0m",
            "\u001b[0;31mAttributeError\u001b[0m: 'Calculator' object has no attribute 'Add'"
          ]
        }
      ]
    },
    {
      "cell_type": "code",
      "source": [
        "print(cal3.add(100))"
      ],
      "metadata": {
        "colab": {
          "base_uri": "https://localhost:8080/"
        },
        "id": "A-IIHQOST972",
        "outputId": "a78d8221-2a4e-4abc-efa1-60e9c0152b35"
      },
      "execution_count": 114,
      "outputs": [
        {
          "output_type": "stream",
          "name": "stdout",
          "text": [
            "100\n"
          ]
        }
      ]
    },
    {
      "cell_type": "markdown",
      "source": [
        "### 객체 초기화\n",
        "- '__init__()': 객체 생성과 동시에 속성값을 지정할 수 있다.\n",
        "  + 주로 클래스 선언 시 변수 초기화"
      ],
      "metadata": {
        "id": "5zNthOUmU4N5"
      }
    },
    {
      "cell_type": "code",
      "source": [
        "class Bicycle():\n",
        "\n",
        "  # 변수 초기화\n",
        "  def __init__(self, wheel_size, color):\n",
        "    self.wheel_size = wheel_size\n",
        "    self.color = color\n",
        "\n",
        "  def stop(self):\n",
        "    print('자전거 {0}, {1}: 정지'.format(self.wheel_size, self.color))"
      ],
      "metadata": {
        "id": "Er4wIO-cVeeI"
      },
      "execution_count": 125,
      "outputs": []
    },
    {
      "cell_type": "code",
      "source": [
        "my_bicycle = Bicycle(26, 'black')\n",
        "ur_bicycle = Bicycle(30, 'pink')\n",
        "\n",
        "my_bicycle.stop()\n",
        "ur_bicycle.stop()"
      ],
      "metadata": {
        "colab": {
          "base_uri": "https://localhost:8080/"
        },
        "id": "-Ad_bPhNUYrH",
        "outputId": "55aee112-f0f6-46ba-f16e-739a76b85a0e"
      },
      "execution_count": 126,
      "outputs": [
        {
          "output_type": "stream",
          "name": "stdout",
          "text": [
            "자전거 26, black: 정지\n",
            "자전거 30, pink: 정지\n"
          ]
        }
      ]
    },
    {
      "cell_type": "code",
      "source": [],
      "metadata": {
        "id": "futQgQ5OWpEl"
      },
      "execution_count": null,
      "outputs": []
    }
  ]
}
