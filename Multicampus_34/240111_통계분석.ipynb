{
 "cells": [
  {
   "cell_type": "markdown",
   "id": "4618a888-83ca-4445-a90a-264777906fc2",
   "metadata": {},
   "source": [
    "## 통계검정\n",
    "- 교재 p.294"
   ]
  },
  {
   "cell_type": "markdown",
   "id": "2dff01a0-b0b0-4576-bb15-8c858025b17a",
   "metadata": {},
   "source": [
    "## 문제 상황\n",
    "- 편의점 감자튀김 (무게 130g으로 알려져 있음)\n",
    "- 학생이 하나 사서 무게를 재보니 122.02g 밖에 되지 않음\n",
    "- 2주간 매일감자튀김을 사서 무게를 측정\n",
    "    + 14개의 표본의 평균 계산했는데, 128.451g  => 학생이 편의점주에게 항의\n",
    "    + 편의점주: 그저 우연이다!\n",
    "- 14개 표본의 평균이 128.451g으로 나온건 정말 우연인가?"
   ]
  },
  {
   "cell_type": "markdown",
   "id": "51057db2-ade6-4da6-a968-e5318df2442a",
   "metadata": {
    "tags": []
   },
   "source": [
    "### 질문\n",
    "- 어떤 통계 검정 방법을 사용해야 할까요?\n",
    "    + t-test, one sample T-test\n",
    "    + 표본 14개 ==> 정규성 검정 진행 후, 정규성 검정 통과할 때, One sample T-test\n",
    "- 귀무가설과 대립가설을 설정해보세요\n",
    "    + 귀무가설: 모평균(130g)과 표본평균 (128.451g)과 같다.\n",
    "    + 대립가설: 모평균(130g)과 표본평균 (128.451g)과 같지 않다."
   ]
  },
  {
   "cell_type": "code",
   "execution_count": 2,
   "id": "0d5122ff-bf66-4697-b6dc-0ad608716bce",
   "metadata": {
    "tags": []
   },
   "outputs": [],
   "source": [
    "import numpy as np\n",
    "import pandas as pd\n",
    "from scipy import stats"
   ]
  },
  {
   "cell_type": "code",
   "execution_count": 26,
   "id": "39e517a1-9ed2-457b-93d2-7d39d04b0c08",
   "metadata": {
    "tags": []
   },
   "outputs": [],
   "source": [
    "%precision 3\n",
    "np.random.seed(1111)"
   ]
  },
  {
   "cell_type": "code",
   "execution_count": 27,
   "id": "c1996803-02ff-4fec-adcf-c3e389927657",
   "metadata": {
    "tags": []
   },
   "outputs": [
    {
     "data": {
      "text/html": [
       "<div>\n",
       "<style scoped>\n",
       "    .dataframe tbody tr th:only-of-type {\n",
       "        vertical-align: middle;\n",
       "    }\n",
       "\n",
       "    .dataframe tbody tr th {\n",
       "        vertical-align: top;\n",
       "    }\n",
       "\n",
       "    .dataframe thead th {\n",
       "        text-align: right;\n",
       "    }\n",
       "</style>\n",
       "<table border=\"1\" class=\"dataframe\">\n",
       "  <thead>\n",
       "    <tr style=\"text-align: right;\">\n",
       "      <th></th>\n",
       "      <th>무게</th>\n",
       "    </tr>\n",
       "  </thead>\n",
       "  <tbody>\n",
       "    <tr>\n",
       "      <th>0</th>\n",
       "      <td>122.02</td>\n",
       "    </tr>\n",
       "    <tr>\n",
       "      <th>1</th>\n",
       "      <td>131.73</td>\n",
       "    </tr>\n",
       "    <tr>\n",
       "      <th>2</th>\n",
       "      <td>130.60</td>\n",
       "    </tr>\n",
       "    <tr>\n",
       "      <th>3</th>\n",
       "      <td>131.82</td>\n",
       "    </tr>\n",
       "    <tr>\n",
       "      <th>4</th>\n",
       "      <td>132.05</td>\n",
       "    </tr>\n",
       "    <tr>\n",
       "      <th>5</th>\n",
       "      <td>126.12</td>\n",
       "    </tr>\n",
       "    <tr>\n",
       "      <th>6</th>\n",
       "      <td>124.43</td>\n",
       "    </tr>\n",
       "    <tr>\n",
       "      <th>7</th>\n",
       "      <td>132.89</td>\n",
       "    </tr>\n",
       "    <tr>\n",
       "      <th>8</th>\n",
       "      <td>122.79</td>\n",
       "    </tr>\n",
       "    <tr>\n",
       "      <th>9</th>\n",
       "      <td>129.95</td>\n",
       "    </tr>\n",
       "    <tr>\n",
       "      <th>10</th>\n",
       "      <td>126.14</td>\n",
       "    </tr>\n",
       "    <tr>\n",
       "      <th>11</th>\n",
       "      <td>134.45</td>\n",
       "    </tr>\n",
       "    <tr>\n",
       "      <th>12</th>\n",
       "      <td>127.64</td>\n",
       "    </tr>\n",
       "    <tr>\n",
       "      <th>13</th>\n",
       "      <td>125.68</td>\n",
       "    </tr>\n",
       "  </tbody>\n",
       "</table>\n",
       "</div>"
      ],
      "text/plain": [
       "        무게\n",
       "0   122.02\n",
       "1   131.73\n",
       "2   130.60\n",
       "3   131.82\n",
       "4   132.05\n",
       "5   126.12\n",
       "6   124.43\n",
       "7   132.89\n",
       "8   122.79\n",
       "9   129.95\n",
       "10  126.14\n",
       "11  134.45\n",
       "12  127.64\n",
       "13  125.68"
      ]
     },
     "execution_count": 27,
     "metadata": {},
     "output_type": "execute_result"
    }
   ],
   "source": [
    "df = pd.read_csv('data/ch11_potato.csv')\n",
    "df"
   ]
  },
  {
   "cell_type": "code",
   "execution_count": 28,
   "id": "58b886f7-8b4f-4dc6-84b5-181908482653",
   "metadata": {
    "tags": []
   },
   "outputs": [
    {
     "data": {
      "text/plain": [
       "array([122.02, 131.73, 130.6 , 131.82, 132.05, 126.12, 124.43, 132.89,\n",
       "       122.79, 129.95, 126.14, 134.45, 127.64, 125.68])"
      ]
     },
     "execution_count": 28,
     "metadata": {},
     "output_type": "execute_result"
    }
   ],
   "source": [
    "sample = np.array(df['무게'])\n",
    "sample"
   ]
  },
  {
   "cell_type": "code",
   "execution_count": 29,
   "id": "1f51a09e-1c9c-4d1a-ac5c-45fe42134c30",
   "metadata": {
    "tags": []
   },
   "outputs": [
    {
     "data": {
      "text/plain": [
       "128.451"
      ]
     },
     "execution_count": 29,
     "metadata": {},
     "output_type": "execute_result"
    }
   ],
   "source": [
    "# 표본평균\n",
    "s_mean = np.mean(sample)\n",
    "s_mean"
   ]
  },
  {
   "cell_type": "markdown",
   "id": "379c18d3-48f8-44b1-9787-9680979f0693",
   "metadata": {},
   "source": [
    "### A 학생의 관심\n",
    "- (14개의) 표본평균이 모평균 130g보다 적은지 여부\n",
    "- 여기서는 감자튀김의 표본집단이 정규분포를 따르고 있고 ==> 정규성 검증을 할 필요가 있을까요?\n",
    "    + 정규성 검증을 할 필요가 없다: 정규분포를 따르고 있기 때문에\n",
    "    + 비모수 검정을 쓸 필요가 없다!!!\n",
    "    + 모수 검정을 하면 된다!!\n",
    "- 모분산이 9임을 알고 있다고 전제한다."
   ]
  },
  {
   "cell_type": "code",
   "execution_count": 30,
   "id": "39bde7ac-3a3f-4cac-8560-f3dfd78b1e6e",
   "metadata": {
    "tags": []
   },
   "outputs": [
    {
     "data": {
      "text/plain": [
       "128.681"
      ]
     },
     "execution_count": 30,
     "metadata": {},
     "output_type": "execute_result"
    }
   ],
   "source": [
    "rv = stats.norm(130, #모평균\n",
    "               np.sqrt(9/14)) # 모분산, 14 표본의 갯수\n",
    "rv.isf(0.95)  # 0.95 신뢰구간 95%"
   ]
  },
  {
   "cell_type": "code",
   "execution_count": 31,
   "id": "ae1fc871-899b-481e-964f-79ecfa7af217",
   "metadata": {
    "tags": []
   },
   "outputs": [
    {
     "data": {
      "text/plain": [
       "129.099"
      ]
     },
     "execution_count": 31,
     "metadata": {},
     "output_type": "execute_result"
    }
   ],
   "source": [
    "rv = stats.norm(130, #모평균\n",
    "               np.sqrt(9/30)) # 모분산, 14 표본의 갯수\n",
    "rv.isf(0.95)  # 0.95 신뢰구간 95%"
   ]
  },
  {
   "cell_type": "markdown",
   "id": "fc3f289c-aaba-407e-9567-01a95ca27364",
   "metadata": {},
   "source": [
    "#### 검정통계량"
   ]
  },
  {
   "cell_type": "code",
   "execution_count": 32,
   "id": "6bd4cbfd-3c8a-485a-9dc7-ddd2e5bcd27f",
   "metadata": {
    "tags": []
   },
   "outputs": [
    {
     "data": {
      "text/plain": [
       "-1.932"
      ]
     },
     "execution_count": 32,
     "metadata": {},
     "output_type": "execute_result"
    }
   ],
   "source": [
    "# 모평균 130\n",
    "z = (s_mean - 130) / np.sqrt(9/14)\n",
    "z"
   ]
  },
  {
   "cell_type": "code",
   "execution_count": 33,
   "id": "42800f71-df54-4cfb-ac4b-f3451e025824",
   "metadata": {
    "tags": []
   },
   "outputs": [
    {
     "data": {
      "text/plain": [
       "-1.645"
      ]
     },
     "execution_count": 33,
     "metadata": {},
     "output_type": "execute_result"
    }
   ],
   "source": [
    "# 검정 통계량에 관한 임곗값을 구하기\n",
    "rv = stats.norm()\n",
    "rv.isf(0.95)"
   ]
  },
  {
   "cell_type": "code",
   "execution_count": 34,
   "id": "ca514ec3-0fdf-4df0-9b26-0a3ccbd17f30",
   "metadata": {
    "tags": []
   },
   "outputs": [
    {
     "data": {
      "text/plain": [
       "-1.645"
      ]
     },
     "execution_count": 34,
     "metadata": {},
     "output_type": "execute_result"
    }
   ],
   "source": [
    "# 모평균 130\n",
    "z = (s_mean - 130) / np.sqrt(9/14)\n",
    "rv = stats.norm()\n",
    "rv.isf(0.95)"
   ]
  },
  {
   "cell_type": "code",
   "execution_count": 35,
   "id": "18d08087-a82e-4268-95a9-9ab204ad8075",
   "metadata": {
    "tags": []
   },
   "outputs": [
    {
     "data": {
      "text/plain": [
       "0.027"
      ]
     },
     "execution_count": 35,
     "metadata": {},
     "output_type": "execute_result"
    }
   ],
   "source": [
    "rv.cdf(z)  # 유의수준 0.05보다 작음\n",
    "\n",
    "# 귀무가설: 모평균 130g 표본평균 128.451g과 같다\n",
    "# 대립가설: 모평균 140g 표본평균 128.451g과 다르다\n",
    "\n",
    "# 대립가설 채택을 한다는 말은 통계에서는 존재하지 않음\n",
    "# 귀무가설 채택 or 귀무가설 기각(= 대립가설 채택)"
   ]
  },
  {
   "cell_type": "code",
   "execution_count": 36,
   "id": "5982325a-b6ba-4884-a5db-1fa14242fba8",
   "metadata": {
    "tags": []
   },
   "outputs": [
    {
     "data": {
      "text/plain": [
       "(-1.960, 1.960)"
      ]
     },
     "execution_count": 36,
     "metadata": {},
     "output_type": "execute_result"
    }
   ],
   "source": [
    "# 양측검정\n",
    "z = (s_mean - 130) / np.sqrt(9/14)\n",
    "rv = stats.norm()\n",
    "rv.interval(0.95)  # 신뢰구간 95%"
   ]
  },
  {
   "cell_type": "code",
   "execution_count": 37,
   "id": "288149fc-418e-4a8d-8874-ed99b8302d51",
   "metadata": {
    "tags": []
   },
   "outputs": [
    {
     "data": {
      "text/plain": [
       "0.053"
      ]
     },
     "execution_count": 37,
     "metadata": {},
     "output_type": "execute_result"
    }
   ],
   "source": [
    "rv.cdf(z) * 2"
   ]
  },
  {
   "cell_type": "markdown",
   "id": "0d04b7ef-c015-4623-88fd-d7a3467b64db",
   "metadata": {},
   "source": [
    "## 가설검정의 두 가지 오류\n",
    "- 제 1종 오류: 귀무가설이 옳을 때 귀무가설을 기각하는 오류\n",
    "- 제 2종 오류: 대립가설이 옳을 때 귀무가설을 채택하는 오류"
   ]
  },
  {
   "cell_type": "markdown",
   "id": "189e68cf-ca42-4c5f-8ccb-5d2be9736551",
   "metadata": {
    "tags": []
   },
   "source": [
    "### 제 1종 오류\n",
    "- 실제로 평균이 130g인데도 불구하고 평균은 130g보다 작다라고 결론을 내리는 상황\n",
    "    + False Positive(오탐)"
   ]
  },
  {
   "cell_type": "code",
   "execution_count": 39,
   "id": "80b3d70c-a91b-4215-8b35-ac40e737f65e",
   "metadata": {
    "tags": []
   },
   "outputs": [
    {
     "data": {
      "text/plain": [
       "0.052"
      ]
     },
     "execution_count": 39,
     "metadata": {},
     "output_type": "execute_result"
    }
   ],
   "source": [
    "rv = stats.norm(130, 3)\n",
    "c = stats.norm().isf(0.95)\n",
    "n_samples = 10000\n",
    "cnt = 0\n",
    "for _ in range(n_samples):\n",
    "    sample_ = np.round(rv.rvs(14), 2)\n",
    "    s_mean_ = np.mean(sample_)\n",
    "    z = (s_mean_ - 130) / np.sqrt(9/14)\n",
    "    if z < c:\n",
    "        cnt += 1\n",
    "cnt / n_samples"
   ]
  },
  {
   "cell_type": "markdown",
   "id": "5a060db1-105e-4c98-9ddb-33ec53a5dfe7",
   "metadata": {},
   "source": [
    "- 1종 오류를 범할 확률은 0.053 / 약 5%의 비율로 130g보다 작다라고 잘못 탐지하는 것과 같다.\n",
    "- 1종 오류를 범할 확률을 위험률\n",
    "- 좀 더 엄격하게 적용하고 싶다고 하면 유의수준 1%에서 가설검정을 수행"
   ]
  },
  {
   "cell_type": "markdown",
   "id": "4dcdaed8-7e8f-4c67-8877-7768d1cc517b",
   "metadata": {},
   "source": [
    "### 제 2종 오류\n",
    "- 실제로 표본평균이 130g보다 작음에도 불구하고 표본평균은 130g보다 작다라는 결론을 얻을 수 없는 상황\n",
    "    + 본래 검출해야 하는 것을 검출하지 못했으므로 미탐 false negative"
   ]
  },
  {
   "cell_type": "code",
   "execution_count": 42,
   "id": "12b54567-cbe1-4df7-a855-378e39f188d3",
   "metadata": {
    "tags": []
   },
   "outputs": [
    {
     "data": {
      "text/plain": [
       "0.196"
      ]
     },
     "execution_count": 42,
     "metadata": {},
     "output_type": "execute_result"
    }
   ],
   "source": [
    "rv = stats.norm(128, 3)  # A학생이 편의점에서 비밀 문서를 확인, 실제로는 감자튀김의 평균이 128g\n",
    "c = stats.norm().isf(0.95)\n",
    "n_samples = 10000\n",
    "cnt = 0\n",
    "for _ in range(n_samples):\n",
    "    sample_ = np.round(rv.rvs(14), 2)\n",
    "    s_mean_ = np.mean(sample_)\n",
    "    z = (s_mean_ - 130) / np.sqrt(9/14)\n",
    "    if z >= c:\n",
    "        cnt += 1\n",
    "        \n",
    "cnt / n_samples"
   ]
  },
  {
   "cell_type": "markdown",
   "id": "1dab41c4-8fa4-484a-82c1-a73a48b01fb1",
   "metadata": {},
   "source": [
    "- 0.198의 의미는 검정력 / 제대로 탐지못할 확률이 20%나 되더라!\n",
    "- 제 2종 오류는 언제나 모집단의 정보에 의존한다.\n",
    "    + 중요한 포인트는 분석가는 모집단의 구체적인 정보를 알 방법이 없다."
   ]
  },
  {
   "cell_type": "markdown",
   "id": "55d2f63b-9a66-4f00-bd46-d27b1bc9737f",
   "metadata": {},
   "source": [
    "### 모분산을 안다!!!\n",
    "- 현실적으로 모집단을 아는 것은 불가능\n",
    "    + 건강보험과 통계 / 전국민 데이터가 있는 자료 (국가)\n",
    "- 모분산을 알고 있다는 뜻은 모집단을 알고 있다  => 모평균도 구할 수 있음 ==> 모평균에 대한 검정을 우리가 굳이 할 필요가 있는가?"
   ]
  },
  {
   "cell_type": "code",
   "execution_count": 52,
   "id": "51aa0233-57d6-4af0-91eb-7148278e9591",
   "metadata": {
    "tags": []
   },
   "outputs": [],
   "source": [
    "def pmean_test(sample, mean0, alpha=0.05):\n",
    "    s_mean = np.mean(sample)\n",
    "    u_var = np.var(sample, ddof=1)\n",
    "    n = len(sample)\n",
    "    rv = stats.t(df=n-1)\n",
    "    interval = rv.interval(1-alpha)\n",
    "\n",
    "    t = (s_mean - mean0) / np.sqrt(u_var/n)\n",
    "    print(f't통계량 값: {t:.3f}')\n",
    "    if interval[0] <= t <= interval[1]:\n",
    "        print('귀무가설을 채택')\n",
    "    else:\n",
    "        print('귀무가설을 기각')\n",
    "\n",
    "    if t < 0:\n",
    "        p = rv.cdf(t) * 2\n",
    "    else:\n",
    "        p = (1 - rv.cdf(t)) * 2\n",
    "    print(f'p값은 {p:.3f}')"
   ]
  },
  {
   "cell_type": "code",
   "execution_count": 53,
   "id": "7398b4de-a62c-424c-b5ed-10fcd82e51cd",
   "metadata": {
    "tags": []
   },
   "outputs": [
    {
     "name": "stdout",
     "output_type": "stream",
     "text": [
      "t통계량 값: -1.455\n",
      "귀무가설을 채택\n",
      "p값은 0.169\n"
     ]
    }
   ],
   "source": [
    "pmean_test(sample, 130)"
   ]
  },
  {
   "cell_type": "code",
   "execution_count": 51,
   "id": "4cf7ba70-84e8-4485-a5ea-fe4469cb33cc",
   "metadata": {
    "tags": []
   },
   "outputs": [
    {
     "data": {
      "text/plain": [
       "(-1.455, 0.169)"
      ]
     },
     "execution_count": 51,
     "metadata": {},
     "output_type": "execute_result"
    }
   ],
   "source": [
    "t, p = stats.ttest_1samp(sample, 130)\n",
    "t, p"
   ]
  },
  {
   "cell_type": "markdown",
   "id": "d5987646-ae01-4123-9873-e0b76bf71a29",
   "metadata": {},
   "source": [
    "### z 통계량 / t 통계량\n",
    "- 모집단을 알고, 모평균을 알고, 모분산을 다 알고 있다.\n",
    "    + z-검정 : z-통계량\n",
    "    \n",
    "- 표본을 추출한다. 쵸본을 알고, 표본 분산을 알고 있다.\n",
    "    + t-검정 : t-통계량"
   ]
  },
  {
   "cell_type": "markdown",
   "id": "a5db9a7d-8b14-4b70-816a-b3dcb4a7b448",
   "metadata": {},
   "source": [
    "# 2표본 문제에 관한 가설검정\n",
    "- 대응표본: 정규분포를 가정할 수 있음\n",
    "    + 정규성 검정 통과: 대응표본 t-검정\n",
    "    + 정규성 검정 통과 실패: 비모수 검정, 윌콕슨으 부호순위검정\n",
    "\n",
    "- 독립표본: 정규분포를 가정할 수 있음\n",
    "    + 정규성 검정 통과: 독립성 비교 t-검정\n",
    "    + 정규성 검정 통과 실패: 맨-위트니의 U 검정\n",
    "    \n",
    "- 기준 샘플 30개\n",
    "    + 석사 수준에서는 교수님들이 한마디 던짐 ==> 샘플이 너무 적다!"
   ]
  },
  {
   "cell_type": "markdown",
   "id": "6a48eed4-5756-4ec0-af32-87d0f9678637",
   "metadata": {},
   "source": [
    "### 대응표본 t-검정\n",
    "- A 학생은 친구 20명에게 1주일간 근력 운동을 하게 함 (Intervention, 개입)\n",
    "- 운동 전후에 집중력을 측정하는 테스트 받게 됨\n",
    "- 대응표본 t-검정: 같은 집단에 대한 전후 비교를 할 때 대응표본 t-검정을 사용하기 때문입니다.\n",
    "- 가설검정\n",
    "    + 귀무가설: 운동 전후 집중력에 차이가 없다.\n",
    "    + 대립가설: 운동 전후 집중력에 차이가 있다."
   ]
  },
  {
   "cell_type": "code",
   "execution_count": 56,
   "id": "61ca7103-c8cf-40de-aaa5-b326ac9afb66",
   "metadata": {
    "tags": []
   },
   "outputs": [
    {
     "data": {
      "text/html": [
       "<div>\n",
       "<style scoped>\n",
       "    .dataframe tbody tr th:only-of-type {\n",
       "        vertical-align: middle;\n",
       "    }\n",
       "\n",
       "    .dataframe tbody tr th {\n",
       "        vertical-align: top;\n",
       "    }\n",
       "\n",
       "    .dataframe thead th {\n",
       "        text-align: right;\n",
       "    }\n",
       "</style>\n",
       "<table border=\"1\" class=\"dataframe\">\n",
       "  <thead>\n",
       "    <tr style=\"text-align: right;\">\n",
       "      <th></th>\n",
       "      <th>전</th>\n",
       "      <th>후</th>\n",
       "      <th>차</th>\n",
       "    </tr>\n",
       "  </thead>\n",
       "  <tbody>\n",
       "    <tr>\n",
       "      <th>0</th>\n",
       "      <td>59</td>\n",
       "      <td>41</td>\n",
       "      <td>-18</td>\n",
       "    </tr>\n",
       "    <tr>\n",
       "      <th>1</th>\n",
       "      <td>52</td>\n",
       "      <td>63</td>\n",
       "      <td>11</td>\n",
       "    </tr>\n",
       "    <tr>\n",
       "      <th>2</th>\n",
       "      <td>55</td>\n",
       "      <td>68</td>\n",
       "      <td>13</td>\n",
       "    </tr>\n",
       "    <tr>\n",
       "      <th>3</th>\n",
       "      <td>61</td>\n",
       "      <td>59</td>\n",
       "      <td>-2</td>\n",
       "    </tr>\n",
       "    <tr>\n",
       "      <th>4</th>\n",
       "      <td>59</td>\n",
       "      <td>84</td>\n",
       "      <td>25</td>\n",
       "    </tr>\n",
       "    <tr>\n",
       "      <th>5</th>\n",
       "      <td>45</td>\n",
       "      <td>37</td>\n",
       "      <td>-8</td>\n",
       "    </tr>\n",
       "    <tr>\n",
       "      <th>6</th>\n",
       "      <td>55</td>\n",
       "      <td>60</td>\n",
       "      <td>5</td>\n",
       "    </tr>\n",
       "    <tr>\n",
       "      <th>7</th>\n",
       "      <td>49</td>\n",
       "      <td>52</td>\n",
       "      <td>3</td>\n",
       "    </tr>\n",
       "    <tr>\n",
       "      <th>8</th>\n",
       "      <td>49</td>\n",
       "      <td>68</td>\n",
       "      <td>19</td>\n",
       "    </tr>\n",
       "    <tr>\n",
       "      <th>9</th>\n",
       "      <td>52</td>\n",
       "      <td>70</td>\n",
       "      <td>18</td>\n",
       "    </tr>\n",
       "    <tr>\n",
       "      <th>10</th>\n",
       "      <td>51</td>\n",
       "      <td>57</td>\n",
       "      <td>6</td>\n",
       "    </tr>\n",
       "    <tr>\n",
       "      <th>11</th>\n",
       "      <td>57</td>\n",
       "      <td>65</td>\n",
       "      <td>8</td>\n",
       "    </tr>\n",
       "    <tr>\n",
       "      <th>12</th>\n",
       "      <td>54</td>\n",
       "      <td>51</td>\n",
       "      <td>-3</td>\n",
       "    </tr>\n",
       "    <tr>\n",
       "      <th>13</th>\n",
       "      <td>51</td>\n",
       "      <td>38</td>\n",
       "      <td>-13</td>\n",
       "    </tr>\n",
       "    <tr>\n",
       "      <th>14</th>\n",
       "      <td>52</td>\n",
       "      <td>54</td>\n",
       "      <td>2</td>\n",
       "    </tr>\n",
       "    <tr>\n",
       "      <th>15</th>\n",
       "      <td>52</td>\n",
       "      <td>58</td>\n",
       "      <td>6</td>\n",
       "    </tr>\n",
       "    <tr>\n",
       "      <th>16</th>\n",
       "      <td>57</td>\n",
       "      <td>73</td>\n",
       "      <td>16</td>\n",
       "    </tr>\n",
       "    <tr>\n",
       "      <th>17</th>\n",
       "      <td>49</td>\n",
       "      <td>65</td>\n",
       "      <td>16</td>\n",
       "    </tr>\n",
       "    <tr>\n",
       "      <th>18</th>\n",
       "      <td>52</td>\n",
       "      <td>54</td>\n",
       "      <td>2</td>\n",
       "    </tr>\n",
       "    <tr>\n",
       "      <th>19</th>\n",
       "      <td>46</td>\n",
       "      <td>48</td>\n",
       "      <td>2</td>\n",
       "    </tr>\n",
       "  </tbody>\n",
       "</table>\n",
       "</div>"
      ],
      "text/plain": [
       "     전   후   차\n",
       "0   59  41 -18\n",
       "1   52  63  11\n",
       "2   55  68  13\n",
       "3   61  59  -2\n",
       "4   59  84  25\n",
       "5   45  37  -8\n",
       "6   55  60   5\n",
       "7   49  52   3\n",
       "8   49  68  19\n",
       "9   52  70  18\n",
       "10  51  57   6\n",
       "11  57  65   8\n",
       "12  54  51  -3\n",
       "13  51  38 -13\n",
       "14  52  54   2\n",
       "15  52  58   6\n",
       "16  57  73  16\n",
       "17  49  65  16\n",
       "18  52  54   2\n",
       "19  46  48   2"
      ]
     },
     "execution_count": 56,
     "metadata": {},
     "output_type": "execute_result"
    }
   ],
   "source": [
    "import pandas as pd\n",
    "\n",
    "training_rel = pd.read_csv('data/ch11_training_rel.csv')\n",
    "training_rel['차'] = training_rel['후'] - training_rel['전']\n",
    "training_rel"
   ]
  },
  {
   "cell_type": "code",
   "execution_count": 58,
   "id": "ad4326aa-c295-4232-9662-f954f6bdc377",
   "metadata": {
    "tags": []
   },
   "outputs": [
    {
     "data": {
      "text/plain": [
       "(2.204, 0.040)"
      ]
     },
     "execution_count": 58,
     "metadata": {},
     "output_type": "execute_result"
    }
   ],
   "source": [
    "t, p = stats.ttest_1samp(training_rel['차'], 0)\n",
    "t, p "
   ]
  },
  {
   "cell_type": "markdown",
   "id": "fc75719b-04d9-4b7a-aebd-90a0fc018353",
   "metadata": {},
   "source": [
    "- 보고서 작성\n",
    "    + t-통계량 / p-value 값"
   ]
  },
  {
   "cell_type": "markdown",
   "id": "de8feb15-1288-43f3-ab20-b89799409a11",
   "metadata": {},
   "source": [
    "## 독립비교 t-검정\n",
    "- 교재는 p318\n",
    "- 학생이 부쩍 늘었음\n",
    "    + A 학생 그룹 인문계열\n",
    "    + B 학생 그룹 체육계열\n",
    "- A 그룹, B 그룹 사이에 집중력 테스트의 평균에서 차이가 나지 않을까 생각하여 테스트를 함\n",
    "- 이 데이터로부터 어떤 검정을 수행해야 A 학생과 B 학생 학급의 집중력에 유의한 차이가 있는지 확인\n",
    "    + 귀무가설: A 학생 그룹과 B 학생 그룹의 집중력 테스트 평균에는 차이가 없다.\n",
    "    + 대립가설: A 학생 그룹과 B 학생 그룹의 집중력 테스트 평균에는 차이가 있다.\n",
    "- 독립비교 t-검정 두 가지 검정\n",
    "    + 1) 각 그룹 데이터의 정규성을 가짐\n",
    "    + 2) 두 그룹의 분산이 같다 (=등분산성)"
   ]
  },
  {
   "cell_type": "code",
   "execution_count": 59,
   "id": "fe621fa9-1ac6-402a-ba38-307e53fc6af1",
   "metadata": {
    "tags": []
   },
   "outputs": [
    {
     "data": {
      "text/html": [
       "<div>\n",
       "<style scoped>\n",
       "    .dataframe tbody tr th:only-of-type {\n",
       "        vertical-align: middle;\n",
       "    }\n",
       "\n",
       "    .dataframe tbody tr th {\n",
       "        vertical-align: top;\n",
       "    }\n",
       "\n",
       "    .dataframe thead th {\n",
       "        text-align: right;\n",
       "    }\n",
       "</style>\n",
       "<table border=\"1\" class=\"dataframe\">\n",
       "  <thead>\n",
       "    <tr style=\"text-align: right;\">\n",
       "      <th></th>\n",
       "      <th>A</th>\n",
       "      <th>B</th>\n",
       "    </tr>\n",
       "  </thead>\n",
       "  <tbody>\n",
       "    <tr>\n",
       "      <th>0</th>\n",
       "      <td>47</td>\n",
       "      <td>49</td>\n",
       "    </tr>\n",
       "    <tr>\n",
       "      <th>1</th>\n",
       "      <td>50</td>\n",
       "      <td>52</td>\n",
       "    </tr>\n",
       "    <tr>\n",
       "      <th>2</th>\n",
       "      <td>37</td>\n",
       "      <td>54</td>\n",
       "    </tr>\n",
       "    <tr>\n",
       "      <th>3</th>\n",
       "      <td>60</td>\n",
       "      <td>48</td>\n",
       "    </tr>\n",
       "    <tr>\n",
       "      <th>4</th>\n",
       "      <td>39</td>\n",
       "      <td>51</td>\n",
       "    </tr>\n",
       "  </tbody>\n",
       "</table>\n",
       "</div>"
      ],
      "text/plain": [
       "    A   B\n",
       "0  47  49\n",
       "1  50  52\n",
       "2  37  54\n",
       "3  60  48\n",
       "4  39  51"
      ]
     },
     "execution_count": 59,
     "metadata": {},
     "output_type": "execute_result"
    }
   ],
   "source": [
    "training_ind = pd.read_csv('data/ch11_training_ind.csv')\n",
    "training_ind.head() # training_ind.shape"
   ]
  },
  {
   "cell_type": "code",
   "execution_count": 61,
   "id": "3cee0dac-f367-4d10-a799-8420fb299f47",
   "metadata": {
    "tags": []
   },
   "outputs": [
    {
     "data": {
      "text/plain": [
       "(-1.761, 0.086)"
      ]
     },
     "execution_count": 61,
     "metadata": {},
     "output_type": "execute_result"
    }
   ],
   "source": [
    "# p320\n",
    "t, p = stats.ttest_ind(training_ind['A'], training_ind['B'], equal_var = True)  # 등분산성이 같다!\n",
    "t, p"
   ]
  },
  {
   "cell_type": "markdown",
   "id": "79d233b3-e6fc-4518-a765-3742b34e404f",
   "metadata": {},
   "source": [
    "- 결론: 두 그룹으 평균 차이는 없더라, 귀무가설 채택 "
   ]
  },
  {
   "cell_type": "code",
   "execution_count": 62,
   "id": "2da4ee29-01dc-460e-b433-bffeb51a4773",
   "metadata": {
    "tags": []
   },
   "outputs": [
    {
     "data": {
      "text/plain": [
       "(-1.761, 0.087)"
      ]
     },
     "execution_count": 62,
     "metadata": {},
     "output_type": "execute_result"
    }
   ],
   "source": [
    "# p320\n",
    "t, p = stats.ttest_ind(training_ind['A'], training_ind['B'], equal_var = False)  # 등분산성이 같다!\n",
    "t, p"
   ]
  },
  {
   "cell_type": "markdown",
   "id": "a0a2b2c9-8843-43b5-b419-f6dac1ac83c0",
   "metadata": {},
   "source": [
    "## 비모수 검정\n",
    "- 모수 검정에서 각 가정을 만족시키지 못할 때, 비모수검정을 쓰더라\n",
    "### 윌콕슨으 부호순위검정\n",
    "- 대응표본에서 차이에 정규분포를 만족시키지 못할때\n",
    "    + 평균차이 아님 (X)\n",
    "    + 중앙값 차이에 대한 검정 (O)\n",
    "    + 중앙값 = 50%에 해당하는 값을 "
   ]
  },
  {
   "cell_type": "code",
   "execution_count": 65,
   "id": "2f861e1a-0af9-43e9-bda1-ca2038d02fb8",
   "metadata": {
    "tags": []
   },
   "outputs": [
    {
     "data": {
      "text/html": [
       "<div>\n",
       "<style scoped>\n",
       "    .dataframe tbody tr th:only-of-type {\n",
       "        vertical-align: middle;\n",
       "    }\n",
       "\n",
       "    .dataframe tbody tr th {\n",
       "        vertical-align: top;\n",
       "    }\n",
       "\n",
       "    .dataframe thead th {\n",
       "        text-align: right;\n",
       "    }\n",
       "</style>\n",
       "<table border=\"1\" class=\"dataframe\">\n",
       "  <thead>\n",
       "    <tr style=\"text-align: right;\">\n",
       "      <th></th>\n",
       "      <th>전</th>\n",
       "      <th>후</th>\n",
       "      <th>차</th>\n",
       "    </tr>\n",
       "  </thead>\n",
       "  <tbody>\n",
       "    <tr>\n",
       "      <th>0</th>\n",
       "      <td>59</td>\n",
       "      <td>41</td>\n",
       "      <td>-18</td>\n",
       "    </tr>\n",
       "    <tr>\n",
       "      <th>1</th>\n",
       "      <td>52</td>\n",
       "      <td>63</td>\n",
       "      <td>11</td>\n",
       "    </tr>\n",
       "    <tr>\n",
       "      <th>2</th>\n",
       "      <td>55</td>\n",
       "      <td>68</td>\n",
       "      <td>13</td>\n",
       "    </tr>\n",
       "    <tr>\n",
       "      <th>3</th>\n",
       "      <td>61</td>\n",
       "      <td>59</td>\n",
       "      <td>-2</td>\n",
       "    </tr>\n",
       "    <tr>\n",
       "      <th>4</th>\n",
       "      <td>59</td>\n",
       "      <td>84</td>\n",
       "      <td>25</td>\n",
       "    </tr>\n",
       "    <tr>\n",
       "      <th>5</th>\n",
       "      <td>45</td>\n",
       "      <td>37</td>\n",
       "      <td>-8</td>\n",
       "    </tr>\n",
       "  </tbody>\n",
       "</table>\n",
       "</div>"
      ],
      "text/plain": [
       "    전   후   차\n",
       "0  59  41 -18\n",
       "1  52  63  11\n",
       "2  55  68  13\n",
       "3  61  59  -2\n",
       "4  59  84  25\n",
       "5  45  37  -8"
      ]
     },
     "execution_count": 65,
     "metadata": {},
     "output_type": "execute_result"
    }
   ],
   "source": [
    "training_rel = pd.read_csv('data/ch11_training_rel.csv')\n",
    "toy_df = training_rel[:6].copy()\n",
    "toy_df['차'] = toy_df['후']- toy_df['전']\n",
    "toy_df"
   ]
  },
  {
   "cell_type": "code",
   "execution_count": 67,
   "id": "71099f41-7389-4ad0-8d05-66828fffc088",
   "metadata": {
    "tags": []
   },
   "outputs": [
    {
     "data": {
      "text/html": [
       "<div>\n",
       "<style scoped>\n",
       "    .dataframe tbody tr th:only-of-type {\n",
       "        vertical-align: middle;\n",
       "    }\n",
       "\n",
       "    .dataframe tbody tr th {\n",
       "        vertical-align: top;\n",
       "    }\n",
       "\n",
       "    .dataframe thead th {\n",
       "        text-align: right;\n",
       "    }\n",
       "</style>\n",
       "<table border=\"1\" class=\"dataframe\">\n",
       "  <thead>\n",
       "    <tr style=\"text-align: right;\">\n",
       "      <th></th>\n",
       "      <th>전</th>\n",
       "      <th>후</th>\n",
       "      <th>차</th>\n",
       "      <th>순위</th>\n",
       "    </tr>\n",
       "  </thead>\n",
       "  <tbody>\n",
       "    <tr>\n",
       "      <th>0</th>\n",
       "      <td>59</td>\n",
       "      <td>41</td>\n",
       "      <td>-18</td>\n",
       "      <td>5</td>\n",
       "    </tr>\n",
       "    <tr>\n",
       "      <th>1</th>\n",
       "      <td>52</td>\n",
       "      <td>63</td>\n",
       "      <td>11</td>\n",
       "      <td>3</td>\n",
       "    </tr>\n",
       "    <tr>\n",
       "      <th>2</th>\n",
       "      <td>55</td>\n",
       "      <td>68</td>\n",
       "      <td>13</td>\n",
       "      <td>4</td>\n",
       "    </tr>\n",
       "    <tr>\n",
       "      <th>3</th>\n",
       "      <td>61</td>\n",
       "      <td>59</td>\n",
       "      <td>-2</td>\n",
       "      <td>1</td>\n",
       "    </tr>\n",
       "    <tr>\n",
       "      <th>4</th>\n",
       "      <td>59</td>\n",
       "      <td>84</td>\n",
       "      <td>25</td>\n",
       "      <td>6</td>\n",
       "    </tr>\n",
       "    <tr>\n",
       "      <th>5</th>\n",
       "      <td>45</td>\n",
       "      <td>37</td>\n",
       "      <td>-8</td>\n",
       "      <td>2</td>\n",
       "    </tr>\n",
       "  </tbody>\n",
       "</table>\n",
       "</div>"
      ],
      "text/plain": [
       "    전   후   차  순위\n",
       "0  59  41 -18   5\n",
       "1  52  63  11   3\n",
       "2  55  68  13   4\n",
       "3  61  59  -2   1\n",
       "4  59  84  25   6\n",
       "5  45  37  -8   2"
      ]
     },
     "execution_count": 67,
     "metadata": {},
     "output_type": "execute_result"
    }
   ],
   "source": [
    "# 순위 적용\n",
    "diff = toy_df['후']- toy_df['전']\n",
    "rank = stats.rankdata(abs(diff)).astype(int)\n",
    "toy_df['순위'] = rank\n",
    "toy_df"
   ]
  },
  {
   "cell_type": "code",
   "execution_count": 69,
   "id": "8c651a79-03d2-473f-9875-f4b036b0947e",
   "metadata": {
    "tags": []
   },
   "outputs": [
    {
     "data": {
      "text/plain": [
       "(8, 13)"
      ]
     },
     "execution_count": 69,
     "metadata": {},
     "output_type": "execute_result"
    }
   ],
   "source": [
    "import numpy as np\n",
    "\n",
    "r_minus = np.sum((diff < 0) * rank)\n",
    "r_plus = np.sum((diff > 0) * rank)\n",
    "\n",
    "r_minus, r_plus  # 검정통계량 8"
   ]
  },
  {
   "cell_type": "code",
   "execution_count": 74,
   "id": "1b62b277-52bb-4548-aeab-73b9306c357b",
   "metadata": {
    "tags": []
   },
   "outputs": [
    {
     "data": {
      "text/html": [
       "<div>\n",
       "<style scoped>\n",
       "    .dataframe tbody tr th:only-of-type {\n",
       "        vertical-align: middle;\n",
       "    }\n",
       "\n",
       "    .dataframe tbody tr th {\n",
       "        vertical-align: top;\n",
       "    }\n",
       "\n",
       "    .dataframe thead th {\n",
       "        text-align: right;\n",
       "    }\n",
       "</style>\n",
       "<table border=\"1\" class=\"dataframe\">\n",
       "  <thead>\n",
       "    <tr style=\"text-align: right;\">\n",
       "      <th></th>\n",
       "      <th>전</th>\n",
       "      <th>후</th>\n",
       "      <th>차</th>\n",
       "      <th>순위</th>\n",
       "    </tr>\n",
       "  </thead>\n",
       "  <tbody>\n",
       "    <tr>\n",
       "      <th>0</th>\n",
       "      <td>59</td>\n",
       "      <td>60</td>\n",
       "      <td>1</td>\n",
       "      <td>1</td>\n",
       "    </tr>\n",
       "    <tr>\n",
       "      <th>1</th>\n",
       "      <td>52</td>\n",
       "      <td>54</td>\n",
       "      <td>2</td>\n",
       "      <td>2</td>\n",
       "    </tr>\n",
       "    <tr>\n",
       "      <th>2</th>\n",
       "      <td>55</td>\n",
       "      <td>58</td>\n",
       "      <td>3</td>\n",
       "      <td>3</td>\n",
       "    </tr>\n",
       "    <tr>\n",
       "      <th>3</th>\n",
       "      <td>61</td>\n",
       "      <td>65</td>\n",
       "      <td>4</td>\n",
       "      <td>4</td>\n",
       "    </tr>\n",
       "    <tr>\n",
       "      <th>4</th>\n",
       "      <td>59</td>\n",
       "      <td>64</td>\n",
       "      <td>5</td>\n",
       "      <td>5</td>\n",
       "    </tr>\n",
       "    <tr>\n",
       "      <th>5</th>\n",
       "      <td>45</td>\n",
       "      <td>51</td>\n",
       "      <td>6</td>\n",
       "      <td>6</td>\n",
       "    </tr>\n",
       "  </tbody>\n",
       "</table>\n",
       "</div>"
      ],
      "text/plain": [
       "    전   후  차  순위\n",
       "0  59  60  1   1\n",
       "1  52  54  2   2\n",
       "2  55  58  3   3\n",
       "3  61  65  4   4\n",
       "4  59  64  5   5\n",
       "5  45  51  6   6"
      ]
     },
     "execution_count": 74,
     "metadata": {},
     "output_type": "execute_result"
    }
   ],
   "source": [
    "toy_df['후'] = toy_df['전'] + np.arange(1, 7)\n",
    "diff = toy_df['후'] - toy_df['전']\n",
    "rank = stats.rankdata(abs(diff)).astype(int)\n",
    "toy_df['차'] = diff\n",
    "toy_df['순위'] = rank\n",
    "toy_df"
   ]
  },
  {
   "cell_type": "code",
   "execution_count": 73,
   "id": "5976b513-67d5-4068-9453-54a5027c3273",
   "metadata": {
    "tags": []
   },
   "outputs": [
    {
     "data": {
      "text/plain": [
       "(0, 21)"
      ]
     },
     "execution_count": 73,
     "metadata": {},
     "output_type": "execute_result"
    }
   ],
   "source": [
    "toy_df['후'] = toy_df['전'] + np.arange(1, 7)\n",
    "diff = toy_df['후'] - toy_df['전']\n",
    "rank = stats.rankdata(abs(diff)).astype(int)\n",
    "toy_df['차'] = diff\n",
    "toy_df['순위'] = rank\n",
    "toy_df\n",
    "\n",
    "r_minus = np.sum((diff < 0) * rank)\n",
    "r_plus = np.sum((diff > 0) * rank)\n",
    "\n",
    "r_minus, r_plus  # 검정통계량 0"
   ]
  },
  {
   "cell_type": "code",
   "execution_count": 75,
   "id": "6225f42a-7a99-4862-8570-24f60ce241e3",
   "metadata": {
    "tags": []
   },
   "outputs": [
    {
     "data": {
      "text/html": [
       "<div>\n",
       "<style scoped>\n",
       "    .dataframe tbody tr th:only-of-type {\n",
       "        vertical-align: middle;\n",
       "    }\n",
       "\n",
       "    .dataframe tbody tr th {\n",
       "        vertical-align: top;\n",
       "    }\n",
       "\n",
       "    .dataframe thead th {\n",
       "        text-align: right;\n",
       "    }\n",
       "</style>\n",
       "<table border=\"1\" class=\"dataframe\">\n",
       "  <thead>\n",
       "    <tr style=\"text-align: right;\">\n",
       "      <th></th>\n",
       "      <th>전</th>\n",
       "      <th>후</th>\n",
       "      <th>차</th>\n",
       "      <th>순위</th>\n",
       "    </tr>\n",
       "  </thead>\n",
       "  <tbody>\n",
       "    <tr>\n",
       "      <th>0</th>\n",
       "      <td>59</td>\n",
       "      <td>60</td>\n",
       "      <td>1</td>\n",
       "      <td>1</td>\n",
       "    </tr>\n",
       "    <tr>\n",
       "      <th>1</th>\n",
       "      <td>52</td>\n",
       "      <td>50</td>\n",
       "      <td>-2</td>\n",
       "      <td>2</td>\n",
       "    </tr>\n",
       "    <tr>\n",
       "      <th>2</th>\n",
       "      <td>55</td>\n",
       "      <td>52</td>\n",
       "      <td>-3</td>\n",
       "      <td>3</td>\n",
       "    </tr>\n",
       "    <tr>\n",
       "      <th>3</th>\n",
       "      <td>61</td>\n",
       "      <td>65</td>\n",
       "      <td>4</td>\n",
       "      <td>4</td>\n",
       "    </tr>\n",
       "    <tr>\n",
       "      <th>4</th>\n",
       "      <td>59</td>\n",
       "      <td>64</td>\n",
       "      <td>5</td>\n",
       "      <td>5</td>\n",
       "    </tr>\n",
       "    <tr>\n",
       "      <th>5</th>\n",
       "      <td>45</td>\n",
       "      <td>39</td>\n",
       "      <td>-6</td>\n",
       "      <td>6</td>\n",
       "    </tr>\n",
       "  </tbody>\n",
       "</table>\n",
       "</div>"
      ],
      "text/plain": [
       "    전   후  차  순위\n",
       "0  59  60  1   1\n",
       "1  52  50 -2   2\n",
       "2  55  52 -3   3\n",
       "3  61  65  4   4\n",
       "4  59  64  5   5\n",
       "5  45  39 -6   6"
      ]
     },
     "execution_count": 75,
     "metadata": {},
     "output_type": "execute_result"
    }
   ],
   "source": [
    "toy_df['후'] = toy_df['전'] + [1, -2, -3, 4, 5, -6]\n",
    "diff = toy_df['후'] - toy_df['전']\n",
    "rank = stats.rankdata(abs(diff)).astype(int)\n",
    "toy_df['차'] = diff\n",
    "toy_df['순위'] = rank\n",
    "toy_df"
   ]
  },
  {
   "cell_type": "code",
   "execution_count": 77,
   "id": "0b76c92d-bd69-41f8-a320-554b4f34f44a",
   "metadata": {
    "tags": []
   },
   "outputs": [
    {
     "data": {
      "text/plain": [
       "(11, 10)"
      ]
     },
     "execution_count": 77,
     "metadata": {},
     "output_type": "execute_result"
    }
   ],
   "source": [
    "r_minus = np.sum((diff < 0) * rank)\n",
    "r_plus = np.sum((diff > 0) * rank)\n",
    "\n",
    "r_minus, r_plus  # 검정통계량 10"
   ]
  },
  {
   "cell_type": "code",
   "execution_count": null,
   "id": "aefe05e3-8d7a-4416-aa80-2d1dd0399089",
   "metadata": {},
   "outputs": [],
   "source": []
  }
 ],
 "metadata": {
  "kernelspec": {
   "display_name": "Python 3 (ipykernel)",
   "language": "python",
   "name": "python3"
  },
  "language_info": {
   "codemirror_mode": {
    "name": "ipython",
    "version": 3
   },
   "file_extension": ".py",
   "mimetype": "text/x-python",
   "name": "python",
   "nbconvert_exporter": "python",
   "pygments_lexer": "ipython3",
   "version": "3.11.5"
  }
 },
 "nbformat": 4,
 "nbformat_minor": 5
}
