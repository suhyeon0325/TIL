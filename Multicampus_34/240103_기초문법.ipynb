{
 "cells": [
  {
   "cell_type": "markdown",
   "id": "e8ac137d-f493-4d5c-9f9a-8015eccda40d",
   "metadata": {},
   "source": [
    "## NumPy\n",
    "- 선형대수, 행렬 수치연산과 관련된 라이브러리\n",
    "- NumPy 기반으로 통계, 머신러닝 등등 공부"
   ]
  },
  {
   "cell_type": "code",
   "execution_count": null,
   "id": "29b2b81c-81fe-428a-a485-1dd36d34aff0",
   "metadata": {
    "tags": []
   },
   "outputs": [],
   "source": [
    "import numpy as np  # NumPy 라이브러리를 불러오기\n",
    "\n",
    "print(np.__version__)"
   ]
  },
  {
   "cell_type": "code",
   "execution_count": 3,
   "id": "9eeaf7d4-21ac-45e4-8871-d8ff6f8d43c8",
   "metadata": {
    "tags": []
   },
   "outputs": [
    {
     "data": {
      "text/plain": [
       "[1, 2, 3, 4, 3, 4, 5, 6]"
      ]
     },
     "execution_count": 3,
     "metadata": {},
     "output_type": "execute_result"
    }
   ],
   "source": [
    "num1 = [1, 2, 3, 4]\n",
    "num2 = [3, 4, 5, 6]\n",
    "\n",
    "num1 + num2"
   ]
  },
  {
   "cell_type": "code",
   "execution_count": 4,
   "id": "f49c40dd-8f01-4212-96b0-8640874ced9c",
   "metadata": {
    "tags": []
   },
   "outputs": [
    {
     "data": {
      "text/plain": [
       "array([1, 2, 3, 4])"
      ]
     },
     "execution_count": 4,
     "metadata": {},
     "output_type": "execute_result"
    }
   ],
   "source": [
    "arr1 = np.array(num1)\n",
    "arr2 = np.array(num2)\n",
    "arr1"
   ]
  },
  {
   "cell_type": "code",
   "execution_count": 5,
   "id": "3be0e4d0-89ac-4e21-9373-9b370f4cafa5",
   "metadata": {
    "tags": []
   },
   "outputs": [
    {
     "data": {
      "text/plain": [
       "array([3, 4, 5, 6])"
      ]
     },
     "execution_count": 5,
     "metadata": {},
     "output_type": "execute_result"
    }
   ],
   "source": [
    "arr2"
   ]
  },
  {
   "cell_type": "code",
   "execution_count": 6,
   "id": "2968aef4-4bd6-4fc4-ac5c-55df063dc39a",
   "metadata": {
    "tags": []
   },
   "outputs": [
    {
     "data": {
      "text/plain": [
       "array([ 4,  6,  8, 10])"
      ]
     },
     "execution_count": 6,
     "metadata": {},
     "output_type": "execute_result"
    }
   ],
   "source": [
    "arr1 + arr2"
   ]
  },
  {
   "cell_type": "code",
   "execution_count": 7,
   "id": "f0036b90-7772-46bf-8534-6132add70bff",
   "metadata": {
    "tags": []
   },
   "outputs": [
    {
     "data": {
      "text/plain": [
       "array([0, 1, 2, 3, 4, 5])"
      ]
     },
     "execution_count": 7,
     "metadata": {},
     "output_type": "execute_result"
    }
   ],
   "source": [
    "data1 = [0, 1, 2, 3, 4, 5]\n",
    "a1 = np.array(data1)\n",
    "a1"
   ]
  },
  {
   "cell_type": "code",
   "execution_count": 9,
   "id": "3568d74f-12f5-4d47-bfa9-8c8b229a9a5d",
   "metadata": {
    "tags": []
   },
   "outputs": [
    {
     "data": {
      "text/plain": [
       "dtype('int32')"
      ]
     },
     "execution_count": 9,
     "metadata": {},
     "output_type": "execute_result"
    }
   ],
   "source": [
    "a1.dtype  # Python int  # NumPy int8, int16, int32, int64  => 메모리 관리"
   ]
  },
  {
   "cell_type": "markdown",
   "id": "be4a5057-e955-4788-b28f-59c355d41f04",
   "metadata": {
    "tags": []
   },
   "source": [
    "np.array([0.5, 2, 0.01, 8]).dtype"
   ]
  },
  {
   "cell_type": "markdown",
   "id": "8a1618cc-a488-4563-ab49-1274deadf44b",
   "metadata": {},
   "source": [
    "## NumPy 배열 생성\n",
    "- 1차원, 2차원, 3차원... 배열 생성"
   ]
  },
  {
   "cell_type": "code",
   "execution_count": 13,
   "id": "bf381cec-27c9-436a-ad1e-d194e1d27b44",
   "metadata": {
    "tags": []
   },
   "outputs": [
    {
     "data": {
      "text/plain": [
       "array([0, 2, 4, 6, 8])"
      ]
     },
     "execution_count": 13,
     "metadata": {},
     "output_type": "execute_result"
    }
   ],
   "source": [
    "np.arange(0, 10, 2)"
   ]
  },
  {
   "cell_type": "code",
   "execution_count": 14,
   "id": "bf468321-339d-46c6-a412-40310e36af45",
   "metadata": {
    "tags": []
   },
   "outputs": [
    {
     "data": {
      "text/plain": [
       "array([1, 2, 3, 4, 5, 6, 7, 8, 9])"
      ]
     },
     "execution_count": 14,
     "metadata": {},
     "output_type": "execute_result"
    }
   ],
   "source": [
    "np.arange(1, 10)"
   ]
  },
  {
   "cell_type": "code",
   "execution_count": 16,
   "id": "a6348cc3-b58a-4c7d-84ad-caabb4206ea3",
   "metadata": {
    "tags": []
   },
   "outputs": [
    {
     "data": {
      "text/plain": [
       "array([0, 1, 2, 3, 4, 5, 6, 7, 8, 9])"
      ]
     },
     "execution_count": 16,
     "metadata": {},
     "output_type": "execute_result"
    }
   ],
   "source": [
    "np.arange(10)  # 1차원 배열, 2차원 또는 3차원으로 변경"
   ]
  },
  {
   "cell_type": "code",
   "execution_count": 17,
   "id": "e3554993-c0dc-4a53-84ee-5a6506b320d6",
   "metadata": {
    "tags": []
   },
   "outputs": [
    {
     "data": {
      "text/plain": [
       "array([ 0,  1,  2,  3,  4,  5,  6,  7,  8,  9, 10, 11])"
      ]
     },
     "execution_count": 17,
     "metadata": {},
     "output_type": "execute_result"
    }
   ],
   "source": [
    "np.arange(12)"
   ]
  },
  {
   "cell_type": "code",
   "execution_count": 18,
   "id": "86d0b7c7-de0b-4ebf-bf0d-dca471b980b5",
   "metadata": {
    "tags": []
   },
   "outputs": [
    {
     "data": {
      "text/plain": [
       "array([[ 0,  1,  2],\n",
       "       [ 3,  4,  5],\n",
       "       [ 6,  7,  8],\n",
       "       [ 9, 10, 11]])"
      ]
     },
     "execution_count": 18,
     "metadata": {},
     "output_type": "execute_result"
    }
   ],
   "source": [
    "np.arange(12).reshape(4, 3)"
   ]
  },
  {
   "cell_type": "code",
   "execution_count": 19,
   "id": "8ae48d41-ef80-46f7-b3f9-241ed9e7e0cc",
   "metadata": {
    "tags": []
   },
   "outputs": [
    {
     "ename": "ValueError",
     "evalue": "cannot reshape array of size 12 into shape (4,5)",
     "output_type": "error",
     "traceback": [
      "\u001b[1;31m---------------------------------------------------------------------------\u001b[0m",
      "\u001b[1;31mValueError\u001b[0m                                Traceback (most recent call last)",
      "Cell \u001b[1;32mIn[19], line 1\u001b[0m\n\u001b[1;32m----> 1\u001b[0m np\u001b[38;5;241m.\u001b[39marange(\u001b[38;5;241m12\u001b[39m)\u001b[38;5;241m.\u001b[39mreshape(\u001b[38;5;241m4\u001b[39m, \u001b[38;5;241m5\u001b[39m)\n",
      "\u001b[1;31mValueError\u001b[0m: cannot reshape array of size 12 into shape (4,5)"
     ]
    }
   ],
   "source": [
    "np.arange(12).reshape(4, 5)"
   ]
  },
  {
   "cell_type": "code",
   "execution_count": 20,
   "id": "fa5404a8-a084-4bc5-ab12-b6e610db7935",
   "metadata": {
    "tags": []
   },
   "outputs": [
    {
     "data": {
      "text/plain": [
       "array([[[ 0,  1,  2]],\n",
       "\n",
       "       [[ 3,  4,  5]],\n",
       "\n",
       "       [[ 6,  7,  8]],\n",
       "\n",
       "       [[ 9, 10, 11]]])"
      ]
     },
     "execution_count": 20,
     "metadata": {},
     "output_type": "execute_result"
    }
   ],
   "source": [
    "np.arange(12).reshape(4, 1, 3)"
   ]
  },
  {
   "cell_type": "code",
   "execution_count": 21,
   "id": "b5ac55fb-6735-4aee-a874-d22c86c5b13b",
   "metadata": {
    "tags": []
   },
   "outputs": [
    {
     "data": {
      "text/plain": [
       "array([[[ 0,  1,  2],\n",
       "        [ 3,  4,  5]],\n",
       "\n",
       "       [[ 6,  7,  8],\n",
       "        [ 9, 10, 11]]])"
      ]
     },
     "execution_count": 21,
     "metadata": {},
     "output_type": "execute_result"
    }
   ],
   "source": [
    "np.arange(12).reshape(2, 2, 3)"
   ]
  },
  {
   "cell_type": "code",
   "execution_count": 23,
   "id": "144e5b84-6f92-4338-928b-d5a6f04651cf",
   "metadata": {
    "tags": []
   },
   "outputs": [
    {
     "data": {
      "text/plain": [
       "(2, 2, 3)"
      ]
     },
     "execution_count": 23,
     "metadata": {},
     "output_type": "execute_result"
    }
   ],
   "source": [
    "b1 = np.arange(12).reshape(2, 2, 3)\n",
    "b1.shape"
   ]
  },
  {
   "cell_type": "code",
   "execution_count": 25,
   "id": "8ae7159e-aeee-4262-906c-cedcd1b0dd6b",
   "metadata": {
    "tags": []
   },
   "outputs": [
    {
     "data": {
      "text/plain": [
       "(5,)"
      ]
     },
     "execution_count": 25,
     "metadata": {},
     "output_type": "execute_result"
    }
   ],
   "source": [
    "b2 = np.arange(5)\n",
    "b2.shape  # 1차원"
   ]
  },
  {
   "cell_type": "code",
   "execution_count": 26,
   "id": "690fbd25-93bf-4c62-9f02-3e3cd3edae12",
   "metadata": {
    "tags": []
   },
   "outputs": [
    {
     "data": {
      "text/plain": [
       "array([ 0. ,  2.5,  5. ,  7.5, 10. ])"
      ]
     },
     "execution_count": 26,
     "metadata": {},
     "output_type": "execute_result"
    }
   ],
   "source": [
    "# 범위의 시작과 끝 정하기 배열 생성\n",
    "np.linspace(0, 10, 5)"
   ]
  },
  {
   "cell_type": "code",
   "execution_count": 27,
   "id": "2b744977-f963-43c0-a47f-ba580744a7b3",
   "metadata": {
    "tags": []
   },
   "outputs": [
    {
     "data": {
      "text/plain": [
       "array([ 1.  ,  5.75, 10.5 , 15.25, 20.  ])"
      ]
     },
     "execution_count": 27,
     "metadata": {},
     "output_type": "execute_result"
    }
   ],
   "source": [
    "np.linspace(1, 20, 5)"
   ]
  },
  {
   "cell_type": "code",
   "execution_count": 28,
   "id": "adb65d40-30db-4373-95b8-b1a7082e5585",
   "metadata": {
    "tags": []
   },
   "outputs": [
    {
     "data": {
      "text/plain": [
       "array([ 1.        ,  3.11111111,  5.22222222,  7.33333333,  9.44444444,\n",
       "       11.55555556, 13.66666667, 15.77777778, 17.88888889, 20.        ])"
      ]
     },
     "execution_count": 28,
     "metadata": {},
     "output_type": "execute_result"
    }
   ],
   "source": [
    "np.linspace(1, 20, 10)"
   ]
  },
  {
   "cell_type": "code",
   "execution_count": 29,
   "id": "6de5fb58-92dd-4054-860b-34616b63191f",
   "metadata": {
    "tags": []
   },
   "outputs": [
    {
     "data": {
      "text/plain": [
       "array([0.        , 0.16534698, 0.33069396, 0.49604095, 0.66138793,\n",
       "       0.82673491, 0.99208189, 1.15742887, 1.32277585, 1.48812284,\n",
       "       1.65346982, 1.8188168 , 1.98416378, 2.14951076, 2.31485774,\n",
       "       2.48020473, 2.64555171, 2.81089869, 2.97624567, 3.14159265])"
      ]
     },
     "execution_count": 29,
     "metadata": {},
     "output_type": "execute_result"
    }
   ],
   "source": [
    "np.linspace(0, np.pi, 20)"
   ]
  },
  {
   "cell_type": "code",
   "execution_count": 30,
   "id": "7e287c6b-aff8-4523-aa26-a6a77704f865",
   "metadata": {
    "tags": []
   },
   "outputs": [
    {
     "data": {
      "text/plain": [
       "array([0., 0., 0., 0., 0., 0., 0., 0., 0., 0.])"
      ]
     },
     "execution_count": 30,
     "metadata": {},
     "output_type": "execute_result"
    }
   ],
   "source": [
    "np.zeros(10)"
   ]
  },
  {
   "cell_type": "code",
   "execution_count": 31,
   "id": "c6c9f80a-be92-4d66-acdb-7ff4198ef00a",
   "metadata": {
    "tags": []
   },
   "outputs": [
    {
     "data": {
      "text/plain": [
       "array([[0., 0.],\n",
       "       [0., 0.]])"
      ]
     },
     "execution_count": 31,
     "metadata": {},
     "output_type": "execute_result"
    }
   ],
   "source": [
    "np.zeros((2, 2))"
   ]
  },
  {
   "cell_type": "code",
   "execution_count": 32,
   "id": "e8bc4f9d-1dc9-4a52-b561-634769101218",
   "metadata": {
    "tags": []
   },
   "outputs": [
    {
     "data": {
      "text/plain": [
       "array([1., 1., 1., 1., 1., 1., 1., 1., 1., 1.])"
      ]
     },
     "execution_count": 32,
     "metadata": {},
     "output_type": "execute_result"
    }
   ],
   "source": [
    "np.ones(10)"
   ]
  },
  {
   "cell_type": "code",
   "execution_count": 33,
   "id": "e501e797-020b-43b1-afa1-dc28e65ce2ff",
   "metadata": {
    "tags": []
   },
   "outputs": [
    {
     "data": {
      "text/plain": [
       "array([[1., 1.],\n",
       "       [1., 1.]])"
      ]
     },
     "execution_count": 33,
     "metadata": {},
     "output_type": "execute_result"
    }
   ],
   "source": [
    "np.ones((2, 2))"
   ]
  },
  {
   "cell_type": "markdown",
   "id": "b44dca4e-f252-4aa3-8bbd-ccedd704463d",
   "metadata": {},
   "source": [
    "## NumPy 기초 문법 배우는 이유\n",
    "- 문과생: 데이터 분석가, 기초문법 있구나! 넘어가면 끝.\n",
    "- 이공계: 수치연산, 배열, 수식 ==> 활용해서 문제 풀이\n",
    "    + 클래스, 딥러닝 클래스, NumPy를 활용해서 딥러닝 알고리즘을 적용해서 클래스 & 라이브러리 만들기(이걸 프로젝트로)\n",
    "    + 밑바닥부터 시작하는 딥러닝3 (책추천)"
   ]
  },
  {
   "cell_type": "code",
   "execution_count": 34,
   "id": "cd8ef934-a509-468a-9878-1dcc9ad13dd9",
   "metadata": {
    "tags": []
   },
   "outputs": [
    {
     "data": {
      "text/plain": [
       "array([[1., 0., 0.],\n",
       "       [0., 1., 0.],\n",
       "       [0., 0., 1.]])"
      ]
     },
     "execution_count": 34,
     "metadata": {},
     "output_type": "execute_result"
    }
   ],
   "source": [
    "# 단위행렬\n",
    "arr_I = np.eye(3)\n",
    "arr_I"
   ]
  },
  {
   "cell_type": "code",
   "execution_count": 35,
   "id": "d687542f-4965-4e70-a6af-425b7b9afaed",
   "metadata": {
    "tags": []
   },
   "outputs": [
    {
     "data": {
      "text/plain": [
       "(3, 3)"
      ]
     },
     "execution_count": 35,
     "metadata": {},
     "output_type": "execute_result"
    }
   ],
   "source": [
    "arr_I.shape"
   ]
  },
  {
   "cell_type": "code",
   "execution_count": 36,
   "id": "78d87f6e-950b-428d-a4c7-799aad0498ac",
   "metadata": {
    "tags": []
   },
   "outputs": [
    {
     "data": {
      "text/plain": [
       "array(['1.5', '0.62'], dtype='<U4')"
      ]
     },
     "execution_count": 36,
     "metadata": {},
     "output_type": "execute_result"
    }
   ],
   "source": [
    "np.array(['1.5', '0.62'])  # 데이터 형변환"
   ]
  },
  {
   "cell_type": "code",
   "execution_count": 37,
   "id": "50541884-6f41-4f23-828b-90dd20e22128",
   "metadata": {
    "tags": []
   },
   "outputs": [
    {
     "data": {
      "text/plain": [
       "dtype('float64')"
      ]
     },
     "execution_count": 37,
     "metadata": {},
     "output_type": "execute_result"
    }
   ],
   "source": [
    "# astype()  # pandas에서 사용가능\n",
    "arr = np.array(['1.5', '0.62'])\n",
    "num_arr = arr.astype(float)\n",
    "num_arr.dtype"
   ]
  },
  {
   "cell_type": "code",
   "execution_count": 39,
   "id": "303ef22a-f056-4cfb-b263-5678a891fe73",
   "metadata": {
    "tags": []
   },
   "outputs": [
    {
     "data": {
      "text/plain": [
       "array([10.   , 21.   ,  0.549,  4.75 ,  5.98 ])"
      ]
     },
     "execution_count": 39,
     "metadata": {},
     "output_type": "execute_result"
    }
   ],
   "source": [
    "num_f1 = np.array([10, 21, 0.549, 4.75, 5.98])\n",
    "num_f1 = num_f1.astype(float)\n",
    "num_f1"
   ]
  },
  {
   "cell_type": "code",
   "execution_count": 40,
   "id": "60042757-0552-4113-9266-9b5e57e01700",
   "metadata": {
    "tags": []
   },
   "outputs": [
    {
     "data": {
      "text/plain": [
       "array([10, 21,  0,  4,  5])"
      ]
     },
     "execution_count": 40,
     "metadata": {},
     "output_type": "execute_result"
    }
   ],
   "source": [
    "num_f1 = np.array([10, 21, 0.549, 4.75, 5.98])\n",
    "num_f1 = num_f1.astype(int)\n",
    "num_f1"
   ]
  },
  {
   "cell_type": "code",
   "execution_count": 43,
   "id": "0b030f40-a413-4aa9-83e7-b474a6f77e78",
   "metadata": {
    "tags": []
   },
   "outputs": [
    {
     "data": {
      "text/plain": [
       "array([[0.76546523, 0.53854228, 0.89399746],\n",
       "       [0.61286979, 0.84701283, 0.65687528]])"
      ]
     },
     "execution_count": 43,
     "metadata": {},
     "output_type": "execute_result"
    }
   ],
   "source": [
    "# p. 224\n",
    "# 난수 무작위로 숫자를 추출한다\n",
    "\n",
    "np.random.rand(2, 3)"
   ]
  },
  {
   "cell_type": "code",
   "execution_count": 47,
   "id": "0ae65486-55e3-4c63-bc2b-ba6a6796b83c",
   "metadata": {
    "tags": []
   },
   "outputs": [
    {
     "data": {
      "text/plain": [
       "2"
      ]
     },
     "execution_count": 47,
     "metadata": {},
     "output_type": "execute_result"
    }
   ],
   "source": [
    "np.random.randint(2, 3)  # 0 ~ 1 사이의 난수를 가짐"
   ]
  },
  {
   "cell_type": "code",
   "execution_count": 45,
   "id": "b13114a0-917c-4c74-a514-7add330f22dc",
   "metadata": {
    "tags": []
   },
   "outputs": [
    {
     "data": {
      "text/plain": [
       "6"
      ]
     },
     "execution_count": 45,
     "metadata": {},
     "output_type": "execute_result"
    }
   ],
   "source": [
    "np.random.randint(2, 10)"
   ]
  },
  {
   "cell_type": "code",
   "execution_count": 46,
   "id": "beb35db4-cfec-4d28-b289-d87cd7ddef9d",
   "metadata": {
    "tags": []
   },
   "outputs": [
    {
     "data": {
      "text/plain": [
       "array([25, 97, 42, 81, 68, 87, 20, 78, 95, 15])"
      ]
     },
     "execution_count": 46,
     "metadata": {},
     "output_type": "execute_result"
    }
   ],
   "source": [
    "np.random.randint(1, 100, 10)"
   ]
  },
  {
   "cell_type": "code",
   "execution_count": 52,
   "id": "104cbfdb-ccc5-4349-a730-52260c800429",
   "metadata": {
    "tags": []
   },
   "outputs": [
    {
     "data": {
      "text/plain": [
       "array([27, 38,  2, 14, 13, 11])"
      ]
     },
     "execution_count": 52,
     "metadata": {},
     "output_type": "execute_result"
    }
   ],
   "source": [
    "# 로또 번호 생성기 만들기\n",
    "np.random.randint(1, 46, 6)"
   ]
  },
  {
   "cell_type": "code",
   "execution_count": 63,
   "id": "423b4818-9fdb-4b0a-bdc1-ec5441a688a1",
   "metadata": {
    "tags": []
   },
   "outputs": [
    {
     "name": "stdout",
     "output_type": "stream",
     "text": [
      "[6, 22, 25, 40, 42, 44]\n"
     ]
    }
   ],
   "source": [
    "# 번호가 겹치지 않는 로또 번호 생성기\n",
    "lotto_numbers = []\n",
    "\n",
    "while len(lotto_numbers) < 6:\n",
    "    number = np.random.randint(1, 46)\n",
    "    \n",
    "    if number not in lotto_numbers:\n",
    "        lotto_numbers.append(number)\n",
    "        \n",
    "# 숫자 순서대로 배열하기\n",
    "print(sorted(lotto_numbers))"
   ]
  },
  {
   "cell_type": "code",
   "execution_count": 56,
   "id": "b8b89afe-2fdc-4b31-b866-1742b146267a",
   "metadata": {
    "tags": []
   },
   "outputs": [
    {
     "name": "stdout",
     "output_type": "stream",
     "text": [
      "[26, 33, 35, 38, 43, 44]\n"
     ]
    }
   ],
   "source": [
    "selected_numbers = set()\n",
    "\n",
    "while len (selected_numbers) < 6:\n",
    "    selected_numbers.add(np.random.randint(1, 46))\n",
    "    \n",
    "print(sorted(selected_numbers))"
   ]
  },
  {
   "cell_type": "code",
   "execution_count": null,
   "id": "e9aa54db-e2a5-4fae-8e5f-a837a2a4dbcb",
   "metadata": {},
   "outputs": [],
   "source": []
  }
 ],
 "metadata": {
  "kernelspec": {
   "display_name": "Python 3 (ipykernel)",
   "language": "python",
   "name": "python3"
  },
  "language_info": {
   "codemirror_mode": {
    "name": "ipython",
    "version": 3
   },
   "file_extension": ".py",
   "mimetype": "text/x-python",
   "name": "python",
   "nbconvert_exporter": "python",
   "pygments_lexer": "ipython3",
   "version": "3.11.5"
  }
 },
 "nbformat": 4,
 "nbformat_minor": 5
}
